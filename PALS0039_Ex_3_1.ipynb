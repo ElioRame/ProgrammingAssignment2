{
  "nbformat": 4,
  "nbformat_minor": 0,
  "metadata": {
    "colab": {
      "provenance": [],
      "include_colab_link": true
    },
    "kernelspec": {
      "name": "python3",
      "display_name": "Python 3"
    }
  },
  "cells": [
    {
      "cell_type": "markdown",
      "metadata": {
        "id": "view-in-github",
        "colab_type": "text"
      },
      "source": [
        "<a href=\"https://colab.research.google.com/github/ElioRame/ProgrammingAssignment2/blob/master/PALS0039_Ex_3_1.ipynb\" target=\"_parent\"><img src=\"https://colab.research.google.com/assets/colab-badge.svg\" alt=\"Open In Colab\"/></a>"
      ]
    },
    {
      "cell_type": "markdown",
      "metadata": {
        "id": "cIFXp68GRrpz"
      },
      "source": [
        "[![PALS0039 Logo](https://www.phon.ucl.ac.uk/courses/pals0039/images/pals0039logo.png)](https://www.phon.ucl.ac.uk/courses/pals0039/)\n",
        "\n",
        "#Exercise 3.1 Keras practice\n",
        "\n",
        "In this exercise we use Keras to build and train a small 4-2-4 [autoencoder](https://en.wikipedia.org/wiki/Autoencoder)."
      ]
    },
    {
      "cell_type": "markdown",
      "metadata": {
        "id": "vJSnFLaaR0BS"
      },
      "source": [
        "(a) The following code block constructs a simple network with 4 inputs, one hidden layer (with 2 nodes), and 4 outputs. Run the code and add comments to explain what each line does. Is this a regression or classification model? What are the ranges of output values the model is capable of producing?"
      ]
    },
    {
      "cell_type": "code",
      "metadata": {
        "id": "nBwByTZaRq7m",
        "outputId": "5d6f3a91-a369-423c-ad86-6bbe58ba0e98",
        "colab": {
          "base_uri": "https://localhost:8080/"
        }
      },
      "source": [
        "# Import libraries\n",
        "%tensorflow_version 2.x\n",
        "import numpy as np\n",
        "import matplotlib.pyplot as plt\n",
        "%matplotlib inline\n",
        "from tensorflow.keras.models import Sequential, Model\n",
        "from tensorflow.keras.layers import Dense\n",
        "from tensorflow.keras.optimizers import SGD\n",
        "\n",
        "# Instructions to build the Keras model\n",
        "def build_model():\n",
        "  #building a  odel by specifying: type (sequential, dense), number of nodes, and activation\n",
        "  ### Variable \"model\" is of class tensorflow.keras.models.Sequential\n",
        "  # That class represents neural networks, where one layer is processed after another. (This represents almost all neural networks, but look for skip connections and the ResNet if interested in more powerful architectures. They are used in our application, for example the WaveNet: https://www.deepmind.com/blog/wavenet-a-generative-model-for-raw-audio)\n",
        "  # The neural network is empty at this point.\n",
        "  model = Sequential()\n",
        "  #sequential = appropriate for a simple model where layers are stacked and there is one input tensor and one output tensor\n",
        "  ## # Class tensorflow.keras.models.Sequential has a function \"add\" that adds a layer to the network\n",
        "  # We add the first layer. It is of type Dense, the typical layer in a MLP that is fully connected to the previous layer\n",
        "  # It has two units. Their activation functions are sigmoids.\n",
        "  # Because it is the first layer we have to specify the number of inputs. Four inputs for our two nodes lead to 4x2=8 weights, plus 2 bias weights.\n",
        "  # The name is useful for bigger networks or when we want to copy parts of the network.\n",
        "  model.add(Dense(2, activation='sigmoid', input_shape=(4,), name=\"hidden_layer\"))\n",
        "  #layer added, made of two nodes (bottleneck), activation listed as sigmoid\n",
        "  ## # We add another layers with 4 nodes. The model already knows that this layer receives inputs from the two nodes of the previous layer.\n",
        "  # This layer will have 2x4 = 8 weights plus 4 bias weights.\n",
        "  model.add(Dense(4, activation='sigmoid', name=\"output_layer\"))\n",
        "  #final layer, back to 4 nodes after bottleneck, sigmoid activation\n",
        "  ### We create an object for the optimizer, from the class SGD, and we name it \"sgd\". We give it bigger parameters than the defaul to train faster.\n",
        "  sgd = SGD(learning_rate=0.1, momentum=0.9)\n",
        "  #compile = loss function and optimiser (could've also added metrics)\n",
        "  #SGD uses learning rate (how much to change the model's weights after loss function) and momentum (accelerates gradient vectors to reach convergence faster - remember 0,1 vector tutorial SEE NOTES)\n",
        "  ### The \"compile()\" of class tensorflow.keras.models.Sequential actually creates the model and we can start training.\n",
        "  # We specify the loss function to be the mean squared error and the optimizer.\n",
        "  # If we wanted to use an optimizer with its default values, we could simply specify it by name, for example optimizer='Adam'\n",
        "  model.compile(loss='mse', optimizer=sgd)\n",
        "  return model\n",
        "\n",
        "# Input data\n",
        "X = np.array([[1.0, 0.0, 0.0, 0.0],\n",
        "              [0.0, 1.0, 0.0, 0.0],\n",
        "              [0.0, 0.0, 1.0, 0.0],\n",
        "              [0.0, 0.0, 0.0, 1.0]])\n",
        "# Output data\n",
        "y = X.copy()\n",
        "\n",
        "print(\"Input\\n\", X)\n",
        "print(\"Output\\n\", y)\n",
        "\n",
        "#(a)\n",
        "#ANSWER"
      ],
      "execution_count": 1,
      "outputs": [
        {
          "output_type": "stream",
          "name": "stdout",
          "text": [
            "Colab only includes TensorFlow 2.x; %tensorflow_version has no effect.\n",
            "Input\n",
            " [[1. 0. 0. 0.]\n",
            " [0. 1. 0. 0.]\n",
            " [0. 0. 1. 0.]\n",
            " [0. 0. 0. 1.]]\n",
            "Output\n",
            " [[1. 0. 0. 0.]\n",
            " [0. 1. 0. 0.]\n",
            " [0. 0. 1. 0.]\n",
            " [0. 0. 0. 1.]]\n"
          ]
        }
      ]
    },
    {
      "cell_type": "markdown",
      "metadata": {
        "id": "x5b20_6ArIlz"
      },
      "source": [
        "(b) Complete the code block below to train the model on the data defined above using the model's [`fit` method](https://keras.io/api/models/model_training_apis/#fit-method). Use the specification in the comments to set up the training parameters accordingly."
      ]
    },
    {
      "cell_type": "code",
      "metadata": {
        "id": "XepltgxvrK74",
        "outputId": "e328d8f4-5c4e-481e-a974-379038033074",
        "colab": {
          "base_uri": "https://localhost:8080/",
          "height": 615
        }
      },
      "source": [
        "# Build the model using the earlier function\n",
        "model = build_model()\n",
        "\n",
        "# Train the model using 1000 iterations through the dataset with weight updates after processing each individual sample:\n",
        "#(b)\n",
        "#ANSWER\n",
        "training_info = model.fit(X, y, epochs=1000, batch_size=2, verbose=0)\n",
        "\n",
        "# Plot the value of the loss function over training\n",
        "plt.plot(training_info.history['loss'])\n",
        "plt.xlabel(\"Epoch\")\n",
        "plt.ylabel(\"Loss\")\n",
        "plt.grid()\n",
        "plt.show()\n",
        "\n",
        "# Print the predicted output values for the training data\n",
        "print(\"Predicted:\", np.around(model.predict(X), decimals=2), sep=\"\\n\")\n"
      ],
      "execution_count": 6,
      "outputs": [
        {
          "output_type": "stream",
          "name": "stderr",
          "text": [
            "/usr/local/lib/python3.11/dist-packages/keras/src/layers/core/dense.py:87: UserWarning: Do not pass an `input_shape`/`input_dim` argument to a layer. When using Sequential models, prefer using an `Input(shape)` object as the first layer in the model instead.\n",
            "  super().__init__(activity_regularizer=activity_regularizer, **kwargs)\n"
          ]
        },
        {
          "output_type": "display_data",
          "data": {
            "text/plain": [
              "<Figure size 640x480 with 1 Axes>"
            ],
            "image/png": "[encoded data removed]"
          },
          "metadata": {}
        },
        {
          "output_type": "stream",
          "name": "stdout",
          "text": [
            "\u001b[1m1/1\u001b[0m \u001b[32m━━━━━━━━━━━━━━━━━━━━\u001b[0m\u001b[37m\u001b[0m \u001b[1m0s\u001b[0m 63ms/step\n",
            "Predicted:\n",
            "[[0.83 0.1  0.   0.13]\n",
            " [0.12 0.83 0.1  0.  ]\n",
            " [0.01 0.17 0.81 0.12]\n",
            " [0.13 0.01 0.16 0.8 ]]\n"
          ]
        }
      ]
    },
    {
      "cell_type": "markdown",
      "metadata": {
        "id": "ayV_VSD1sIAu"
      },
      "source": [
        "The following code block displays the network configuration, including number of parameters (weights) that were estimated during training. Furthermore it displays the actual weights and biases of the trained model."
      ]
    },
    {
      "cell_type": "code",
      "metadata": {
        "id": "dk83yfrqbfd3",
        "outputId": "689a721d-6563-45d0-dbf2-4f2e2694217f",
        "colab": {
          "base_uri": "https://localhost:8080/",
          "height": 519
        }
      },
      "source": [
        "# Print a summary of the structure of the model\n",
        "model.summary()\n",
        "\n",
        "# Get the weights as a numpy array\n",
        "weights=model.get_weights()\n",
        "\n",
        "# Print the weights for the different layers\n",
        "print()\n",
        "print(\"hidden-to-input:\", weights[0], \"\", sep=\"\\n\")\n",
        "print(\"hidden-bias:\", weights[1], \"\", sep=\"\\n\")\n",
        "print(\"output-to-hidden:\", weights[2], \"\", sep=\"\\n\")\n",
        "print(\"output-bias:\", weights[3], \"\", sep=\"\\n\")"
      ],
      "execution_count": 5,
      "outputs": [
        {
          "output_type": "display_data",
          "data": {
            "text/plain": [
              "\u001b[1mModel: \"sequential_2\"\u001b[0m\n"
            ],
            "text/html": [
              "<pre style=\"white-space:pre;overflow-x:auto;line-height:normal;font-family:Menlo,'DejaVu Sans Mono',consolas,'Courier New',monospace\"><span style=\"font-weight: bold\">Model: \"sequential_2\"</span>\n",
              "</pre>\n"
            ]
          },
          "metadata": {}
        },
        {
          "output_type": "display_data",
          "data": {
            "text/plain": [
              "┏━━━━━━━━━━━━━━━━━━━━━━━━━━━━━━━━━━━━━━┳━━━━━━━━━━━━━━━━━━━━━━━━━━━━━┳━━━━━━━━━━━━━━━━━┓\n",
              "┃\u001b[1m \u001b[0m\u001b[1mLayer (type)                        \u001b[0m\u001b[1m \u001b[0m┃\u001b[1m \u001b[0m\u001b[1mOutput Shape               \u001b[0m\u001b[1m \u001b[0m┃\u001b[1m \u001b[0m\u001b[1m        Param #\u001b[0m\u001b[1m \u001b[0m┃\n",
              "┡━━━━━━━━━━━━━━━━━━━━━━━━━━━━━━━━━━━━━━╇━━━━━━━━━━━━━━━━━━━━━━━━━━━━━╇━━━━━━━━━━━━━━━━━┩\n",
              "│ hidden_layer (\u001b[38;5;33mDense\u001b[0m)                 │ (\u001b[38;5;45mNone\u001b[0m, \u001b[38;5;34m2\u001b[0m)                   │              \u001b[38;5;34m10\u001b[0m │\n",
              "├──────────────────────────────────────┼─────────────────────────────┼─────────────────┤\n",
              "│ output_layer (\u001b[38;5;33mDense\u001b[0m)                 │ (\u001b[38;5;45mNone\u001b[0m, \u001b[38;5;34m4\u001b[0m)                   │              \u001b[38;5;34m12\u001b[0m │\n",
              "└──────────────────────────────────────┴─────────────────────────────┴─────────────────┘\n"
            ],
            "text/html": [
              "<pre style=\"white-space:pre;overflow-x:auto;line-height:normal;font-family:Menlo,'DejaVu Sans Mono',consolas,'Courier New',monospace\">┏━━━━━━━━━━━━━━━━━━━━━━━━━━━━━━━━━━━━━━┳━━━━━━━━━━━━━━━━━━━━━━━━━━━━━┳━━━━━━━━━━━━━━━━━┓\n",
              "┃<span style=\"font-weight: bold\"> Layer (type)                         </span>┃<span style=\"font-weight: bold\"> Output Shape                </span>┃<span style=\"font-weight: bold\">         Param # </span>┃\n",
              "┡━━━━━━━━━━━━━━━━━━━━━━━━━━━━━━━━━━━━━━╇━━━━━━━━━━━━━━━━━━━━━━━━━━━━━╇━━━━━━━━━━━━━━━━━┩\n",
              "│ hidden_layer (<span style=\"color: #0087ff; text-decoration-color: #0087ff\">Dense</span>)                 │ (<span style=\"color: #00d7ff; text-decoration-color: #00d7ff\">None</span>, <span style=\"color: #00af00; text-decoration-color: #00af00\">2</span>)                   │              <span style=\"color: #00af00; text-decoration-color: #00af00\">10</span> │\n",
              "├──────────────────────────────────────┼─────────────────────────────┼─────────────────┤\n",
              "│ output_layer (<span style=\"color: #0087ff; text-decoration-color: #0087ff\">Dense</span>)                 │ (<span style=\"color: #00d7ff; text-decoration-color: #00d7ff\">None</span>, <span style=\"color: #00af00; text-decoration-color: #00af00\">4</span>)                   │              <span style=\"color: #00af00; text-decoration-color: #00af00\">12</span> │\n",
              "└──────────────────────────────────────┴─────────────────────────────┴─────────────────┘\n",
              "</pre>\n"
            ]
          },
          "metadata": {}
        },
        {
          "output_type": "display_data",
          "data": {
            "text/plain": [
              "\u001b[1m Total params: \u001b[0m\u001b[38;5;34m46\u001b[0m (188.00 B)\n"
            ],
            "text/html": [
              "<pre style=\"white-space:pre;overflow-x:auto;line-height:normal;font-family:Menlo,'DejaVu Sans Mono',consolas,'Courier New',monospace\"><span style=\"font-weight: bold\"> Total params: </span><span style=\"color: #00af00; text-decoration-color: #00af00\">46</span> (188.00 B)\n",
              "</pre>\n"
            ]
          },
          "metadata": {}
        },
        {
          "output_type": "display_data",
          "data": {
            "text/plain": [
              "\u001b[1m Trainable params: \u001b[0m\u001b[38;5;34m22\u001b[0m (88.00 B)\n"
            ],
            "text/html": [
              "<pre style=\"white-space:pre;overflow-x:auto;line-height:normal;font-family:Menlo,'DejaVu Sans Mono',consolas,'Courier New',monospace\"><span style=\"font-weight: bold\"> Trainable params: </span><span style=\"color: #00af00; text-decoration-color: #00af00\">22</span> (88.00 B)\n",
              "</pre>\n"
            ]
          },
          "metadata": {}
        },
        {
          "output_type": "display_data",
          "data": {
            "text/plain": [
              "\u001b[1m Non-trainable params: \u001b[0m\u001b[38;5;34m0\u001b[0m (0.00 B)\n"
            ],
            "text/html": [
              "<pre style=\"white-space:pre;overflow-x:auto;line-height:normal;font-family:Menlo,'DejaVu Sans Mono',consolas,'Courier New',monospace\"><span style=\"font-weight: bold\"> Non-trainable params: </span><span style=\"color: #00af00; text-decoration-color: #00af00\">0</span> (0.00 B)\n",
              "</pre>\n"
            ]
          },
          "metadata": {}
        },
        {
          "output_type": "display_data",
          "data": {
            "text/plain": [
              "\u001b[1m Optimizer params: \u001b[0m\u001b[38;5;34m24\u001b[0m (100.00 B)\n"
            ],
            "text/html": [
              "<pre style=\"white-space:pre;overflow-x:auto;line-height:normal;font-family:Menlo,'DejaVu Sans Mono',consolas,'Courier New',monospace\"><span style=\"font-weight: bold\"> Optimizer params: </span><span style=\"color: #00af00; text-decoration-color: #00af00\">24</span> (100.00 B)\n",
              "</pre>\n"
            ]
          },
          "metadata": {}
        },
        {
          "output_type": "stream",
          "name": "stdout",
          "text": [
            "\n",
            "hidden-to-input:\n",
            "[[-3.4782207   0.99167603]\n",
            " [ 2.7804868  -2.8811035 ]\n",
            " [ 2.018962    3.247313  ]\n",
            " [-1.0281476  -1.606447  ]]\n",
            "\n",
            "hidden-bias:\n",
            "[ 0.07618751 -0.38556382]\n",
            "\n",
            "output-to-hidden:\n",
            "[[-5.054643   3.4613616  1.9399446 -1.3656554]\n",
            " [ 1.7221152 -4.116991   3.8117838 -1.9110007]]\n",
            "\n",
            "output-bias:\n",
            "[ 0.18677254 -1.7439411  -3.9192574   0.39329308]\n",
            "\n"
          ]
        }
      ]
    },
    {
      "cell_type": "markdown",
      "metadata": {
        "id": "HPI2e5SnkDbM"
      },
      "source": [
        "(c) Using the sigmoid function defined below, write some code to manually calculate the outputs of the network using the `weights` and `X` as input. **OR** Explain how the weights and biases are used to calculate the networks outputs."
      ]
    },
    {
      "cell_type": "code",
      "metadata": {
        "id": "-1rCOKjtkH5H",
        "outputId": "7148f145-43f3-4c1b-b284-337089f957b8",
        "colab": {
          "base_uri": "https://localhost:8080/"
        }
      },
      "source": [
        "# definition of the signoid activation function\n",
        "def sigmoid(x):\n",
        "  return 1 / (1 + np.exp(-x))\n",
        "\n",
        "\n",
        "#(c)\n",
        "#ANSWER\n",
        "for i in range(4):\n",
        "  input = X[i]\n",
        "  output_hidden = sigmoid(np.matmul(input, weights[0]) + weights[1])\n",
        "  output_output = sigmoid(np.matmul(output_hidden, weights[2]) + weights[3])\n",
        "  print(input, np.around(output_hidden, decimals=2), np.around(output_output, decimals=2), sep=\"\\t\")"
      ],
      "execution_count": 10,
      "outputs": [
        {
          "output_type": "stream",
          "name": "stdout",
          "text": [
            "[1. 0. 0. 0.]\t[0.03 0.65]\t[0.76 0.01 0.2  0.29]\n",
            "[0. 1. 0. 0.]\t[0.95 0.04]\t[0.01 0.8  0.13 0.28]\n",
            "[0. 0. 1. 0.]\t[0.89 0.95]\t[0.06 0.07 0.8  0.07]\n",
            "[0. 0. 0. 1.]\t[0.28 0.12]\t[0.27 0.22 0.05 0.45]\n"
          ]
        }
      ]
    },
    {
      "cell_type": "markdown",
      "source": [
        "(d) What are autoencoders useful for?"
      ],
      "metadata": {
        "id": "_uek-sS6hsM1"
      }
    },
    {
      "cell_type": "code",
      "source": [
        "#https://en.wikipedia.org/wiki/Autoencoder#Applications\n",
        "\n",
        "#As the dimensionality is reduced, information is embedded more efficiently into a hidden layer with less units and then constructed again"
      ],
      "metadata": {
        "id": "S_W0Ttu1h04c"
      },
      "execution_count": null,
      "outputs": []
    }
  ]
}