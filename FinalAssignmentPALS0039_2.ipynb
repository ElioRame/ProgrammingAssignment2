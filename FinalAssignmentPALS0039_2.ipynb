{
  "cells": [
    {
      "cell_type": "markdown",
      "metadata": {
        "id": "view-in-github",
        "colab_type": "text"
      },
      "source": [
        "<a href=\"https://colab.research.google.com/github/ElioRame/ProgrammingAssignment2/blob/master/FinalAssignmentPALS0039_2.ipynb\" target=\"_parent\"><img src=\"https://colab.research.google.com/assets/colab-badge.svg\" alt=\"Open In Colab\"/></a>"
      ]
    },
    {
      "cell_type": "code",
      "execution_count": 186,
      "metadata": {
        "id": "Mn5DPIaA8HGI",
        "colab": {
          "base_uri": "https://localhost:8080/"
        },
        "outputId": "16bda9bc-8bee-4425-aca9-74f622b84137"
      },
      "outputs": [
        {
          "output_type": "stream",
          "name": "stdout",
          "text": [
            "['\\ufeffThe Project Gutenberg eBook of The Adventures of Tom Sawyer, Complete\\n', '    \\n', 'This ebook is for the use of anyone anywhere in the United States and\\n', 'most other parts of the world at no cost and with almost no restrictions\\n', 'whatsoever. You may copy it, give it away or re-use it under the terms\\n', 'of the Project Gutenberg License included with this ebook or online\\n', 'at www.gutenberg.org. If you are not located in the United States,\\n', 'you will have to check the laws of the country where you are located\\n', 'before using this eBook.\\n', '\\n', 'Title: The Adventures of Tom Sawyer, Complete\\n', '\\n', 'Author: Mark Twain\\n', '\\n', 'Release date: July 1, 2004 [eBook #74]\\n', '                Most recently updated: August 9, 2023\\n', '\\n', 'Language: English\\n', '\\n', 'Credits: David Widger\\n', '\\n', '\\n', '*** START OF THE PROJECT GUTENBERG EBOOK THE ADVENTURES OF TOM SAWYER, COMPLETE ***\\n', '\\n', '\\n', '\\n', '\\n', 'THE ADVENTURES OF TOM SAWYER\\n', '\\n', '\\n', 'By Mark Twain\\n', '\\n', '(Samuel Langhorne Clemens)\\n', '\\n', '\\n', '\\n', '\\n', 'CONTENTS\\n', '\\n', '\\n', 'CHAPTER I. Y-o-u-u Tom—Aunt Polly Decides Upon her Duty—Tom Practices\\n', 'Music—The Challenge—A Private Entrance\\n', '\\n', 'CHAPTER II. Strong Temptations—Strategic Movements—The Innocents\\n', 'Beguiled\\n', '\\n', 'CHAPTER III. Tom as a General—Triumph and Reward—Dismal\\n', 'Felicity—Commission and Omission\\n', '\\n', 'CHAPTER IV. Mental Acrobatics—Attending Sunday—School—The\\n']\n"
          ]
        }
      ],
      "source": [
        "\n",
        "with open(\"/content/pg74.txt\") as TomSawyer:\n",
        "  Book1 = TomSawyer.readlines()\n",
        "with open(\"/content/pg84.txt\") as Frankenstein:\n",
        "  Book2 = Frankenstein.readlines()\n",
        "with open(\"/content/pg345.txt\") as Dracula:\n",
        "  Book3 = Dracula.readlines()\n",
        "with open(\"/content/pg1342.txt\") as PrideandPrejudice:\n",
        "  Book4 = PrideandPrejudice.readlines()\n",
        "with open(\"/content/pg1727.txt\") as Odissey:\n",
        "  Book5 = Odissey.readlines()\n",
        "with open(\"/content/pg2701.txt\") as MobyDick:\n",
        "  Book6 = MobyDick.readlines()\n",
        "with open(\"/content/pg3207.txt\") as Leviathan:\n",
        "  Book7 = Leviathan.readlines()\n",
        "\n",
        "data = Book1 + Book2 + Book3 + Book4 + Book6 + Book7\n",
        "print(data[:50])"
      ]
    },
    {
      "cell_type": "code",
      "execution_count": 187,
      "metadata": {
        "colab": {
          "base_uri": "https://localhost:8080/"
        },
        "id": "D-T2aK-DX8UO",
        "outputId": "574349c6-6cb4-4b15-d9fa-373ef36f15e4"
      },
      "outputs": [
        {
          "output_type": "stream",
          "name": "stderr",
          "text": [
            "[nltk_data] Downloading package reuters to /root/nltk_data...\n",
            "[nltk_data]   Package reuters is already up-to-date!\n",
            "[nltk_data] Downloading package punkt to /root/nltk_data...\n",
            "[nltk_data]   Package punkt is already up-to-date!\n",
            "[nltk_data] Downloading package punkt_tab to /root/nltk_data...\n",
            "[nltk_data]   Package punkt_tab is already up-to-date!\n"
          ]
        }
      ],
      "source": [
        "!pip install -U nltk>=3.7.0\n",
        "\n",
        "import nltk\n",
        "nltk.download(\"reuters\")\n",
        "nltk.download(\"punkt\")\n",
        "nltk.download('punkt_tab')\n",
        "from nltk.corpus import reuters\n",
        "from nltk.lm import Vocabulary\n",
        "from nltk.util import pad_sequence, ngrams\n",
        "from nltk.tokenize import RegexpTokenizer\n",
        "from nltk.lm.preprocessing import flatten\n",
        "from nltk.lm.models import Laplace\n",
        "\n",
        "import matplotlib.pyplot as plt\n",
        "%matplotlib inline\n",
        "\n",
        "import numpy as np\n",
        "import regex as re\n",
        "\n",
        "import tensorflow as tf\n",
        "from tensorflow.keras.models import Sequential, Model\n",
        "from tensorflow.keras.optimizers import Adam\n",
        "from tensorflow.keras.layers import Dense, Embedding, Flatten, LSTM, TimeDistributed\n",
        "from tensorflow.keras.preprocessing.text import Tokenizer\n",
        "token = Tokenizer()\n",
        "from tensorflow.keras.preprocessing.sequence import pad_sequences\n",
        "from tensorflow.keras.callbacks import EarlyStopping\n"
      ]
    },
    {
      "cell_type": "code",
      "execution_count": 193,
      "metadata": {
        "colab": {
          "base_uri": "https://localhost:8080/"
        },
        "id": "7Q1vaRZJYI2f",
        "outputId": "7ba23f5f-a848-48ef-d489-b6405d638054"
      },
      "outputs": [
        {
          "output_type": "stream",
          "name": "stdout",
          "text": [
            "Length of corpus: 3845425\n",
            "Length of vocabulary: 39\n",
            "Unique words in corpus: 59\n",
            "['t', 'h', 'e', 'p', 'r', 'o', 'j', 'c', 'g', 'u', 'n', 'b', 'k', 'f', 'a', 'd', 'v', 's', 'm', 'w', 'y', 'l', 'i', '1', '2', '0', '4', '7', '9', '3', 'z', 'x', 'q', '8', '6', '_', '5', 'æ', '<UNK>']\n"
          ]
        }
      ],
      "source": [
        "import string\n",
        "import collections\n",
        "import operator\n",
        "\n",
        "\n",
        "letters = []\n",
        "padded_letters = []\n",
        "\n",
        "for text in data:\n",
        "  lower_text = [word.lower() for word in text]\n",
        "  for words in lower_text:\n",
        "   tokenizer = RegexpTokenizer(r'\\w+')\n",
        "   tokenised_word = tokenizer.tokenize(words)\n",
        "   for word in tokenised_word:\n",
        "    for letter in word:\n",
        "      letters.append(letter)\n",
        "\n",
        "\n",
        "\n",
        "   #for punct in string.punctuation:\n",
        "    #letters = list(map(lambda x: \" \" if x == punct else x, tokenised_word))\n",
        "     #for punct in string.punctuation:\n",
        "      #text_punct = list(map(lambda x: \" \" if x == punct else x, letter))\n",
        "      #letters.append(letter)\n",
        "\n",
        "\n",
        "\n",
        "#def tokenize(text):\n",
        "  #text_lower = [word.lower() for word in str(text)]\n",
        "  #for punct in string.punctuation:\n",
        "    #text_punct = list(map(lambda x: \" \" if x == punct else x, text_lower))\n",
        "  #return text_punct\n",
        "\n",
        "#tokenized_data = tokenize(data)\n",
        "#for words in tokenized_data:\n",
        "  #for letter in words:\n",
        "    #letters.append(letter)\n",
        "\n",
        "\n",
        "\n",
        "\n",
        "\n",
        "padded_lower_s = list(pad_sequence(letters,\n",
        "                                     n=2,\n",
        "                                     pad_left=True,\n",
        "                                     left_pad_symbol=\"<s>\",\n",
        "                                     pad_right=True,\n",
        "                                     right_pad_symbol=\"</s>\"))\n",
        "padded_letters.append(padded_lower_s)\n",
        "\n",
        "\n",
        "# 2. Flatten and create finite vocabulary\n",
        "corpus = list(flatten(padded_letters))\n",
        "\n",
        "\n",
        "\n",
        "\n",
        "vocab = Vocabulary(corpus, unk_cutoff=50)\n",
        "\n",
        "# 3. Partition into train and test\n",
        "test_letters = corpus[:100000]\n",
        "train_letters = corpus[100000:]\n",
        "\n",
        "#Inspect\n",
        "print(\"Length of corpus:\", len(corpus))\n",
        "print(\"Length of vocabulary:\", len(vocab))\n",
        "print(\"Unique words in corpus:\", len(set(corpus)))\n",
        "\n",
        "show_vocab = [i for i in vocab]\n",
        "print(show_vocab)"
      ]
    },
    {
      "cell_type": "code",
      "execution_count": 194,
      "metadata": {
        "colab": {
          "base_uri": "https://localhost:8080/"
        },
        "id": "N55ekRQ7Ye72",
        "outputId": "2ebfd98c-95e4-435b-88e3-6c95eb484248"
      },
      "outputs": [
        {
          "output_type": "stream",
          "name": "stdout",
          "text": [
            "[5, 18, 22, 10, 8, 11, 14, 7, 12, 0, 5, 0, 1, 22, 17, 0, 5, 19, 10, 14, 10, 20, 18, 5, 4]\n",
            "[38, 0, 1, 2, 3, 4, 5, 6, 2, 7, 0, 8, 9, 0, 2, 10, 11, 2, 4, 8, 2, 11, 5, 5, 12]\n"
          ]
        }
      ],
      "source": [
        "#Create mapping\n",
        "letter_to_index = {l: i for i, l in enumerate(vocab)}\n",
        "# if vocab = abcdefg\n",
        "#word_to_index = a : 1, b: 2, c:3, ...\n",
        "#map data to index in the voab so that cab = [3, 1, 2]\n",
        "#do it for both test and train data\n",
        "#Map data\n",
        "train_indices = [letter_to_index[vocab.lookup(l)] for l in train_letters]\n",
        "test_indices = [letter_to_index[vocab.lookup(l)] for l in test_letters]\n",
        "\n",
        "#Inspect\n",
        "print(train_indices[:25])\n",
        "print(test_indices[:25])\n",
        "\n",
        "\n"
      ]
    },
    {
      "cell_type": "code",
      "execution_count": 197,
      "metadata": {
        "colab": {
          "base_uri": "https://localhost:8080/"
        },
        "id": "45gOwWriYuc-",
        "outputId": "c17254e9-8543-433f-9646-ce419255707f"
      },
      "outputs": [
        {
          "output_type": "stream",
          "name": "stdout",
          "text": [
            "(7490, 500) (7490, 500)\n",
            "(200, 500) (200, 500)\n"
          ]
        }
      ],
      "source": [
        "seqlen = 500\n",
        "\n",
        "def prepare_sequences(letters, unk_index, seqlen=seqlen):\n",
        "  trunc_length = len(letters) % seqlen\n",
        "  X = np.array(letters)[trunc_length:].reshape((-1, seqlen))\n",
        "  y = np.array(letters + [unk_index])[trunc_length + 1:].reshape((-1, seqlen))\n",
        "  return X, y\n",
        "\n",
        "Xtrain, ytrain = prepare_sequences(train_indices, letter_to_index[\"<UNK>\"])\n",
        "Xtest, ytest = prepare_sequences(test_indices, letter_to_index[\"<UNK>\"])\n",
        "\n",
        "#Inspect\n",
        "print(Xtrain.shape, ytrain.shape)\n",
        "print(Xtest.shape, ytest.shape)\n",
        "\n"
      ]
    },
    {
      "cell_type": "code",
      "execution_count": 199,
      "metadata": {
        "colab": {
          "base_uri": "https://localhost:8080/",
          "height": 289
        },
        "id": "DMauwpOHY2Ff",
        "outputId": "1bea8355-c59b-4419-fde1-0c57fe317bed"
      },
      "outputs": [
        {
          "output_type": "display_data",
          "data": {
            "text/plain": [
              "\u001b[1mModel: \"sequential_5\"\u001b[0m\n"
            ],
            "text/html": [
              "<pre style=\"white-space:pre;overflow-x:auto;line-height:normal;font-family:Menlo,'DejaVu Sans Mono',consolas,'Courier New',monospace\"><span style=\"font-weight: bold\">Model: \"sequential_5\"</span>\n",
              "</pre>\n"
            ]
          },
          "metadata": {}
        },
        {
          "output_type": "display_data",
          "data": {
            "text/plain": [
              "┏━━━━━━━━━━━━━━━━━━━━━━━━━━━━━━━━━┳━━━━━━━━━━━━━━━━━━━━━━━━┳━━━━━━━━━━━━━━━┓\n",
              "┃\u001b[1m \u001b[0m\u001b[1mLayer (type)                   \u001b[0m\u001b[1m \u001b[0m┃\u001b[1m \u001b[0m\u001b[1mOutput Shape          \u001b[0m\u001b[1m \u001b[0m┃\u001b[1m \u001b[0m\u001b[1m      Param #\u001b[0m\u001b[1m \u001b[0m┃\n",
              "┡━━━━━━━━━━━━━━━━━━━━━━━━━━━━━━━━━╇━━━━━━━━━━━━━━━━━━━━━━━━╇━━━━━━━━━━━━━━━┩\n",
              "│ embedding_5 (\u001b[38;5;33mEmbedding\u001b[0m)         │ ?                      │   \u001b[38;5;34m0\u001b[0m (unbuilt) │\n",
              "├─────────────────────────────────┼────────────────────────┼───────────────┤\n",
              "│ lstm_9 (\u001b[38;5;33mLSTM\u001b[0m)                   │ ?                      │   \u001b[38;5;34m0\u001b[0m (unbuilt) │\n",
              "├─────────────────────────────────┼────────────────────────┼───────────────┤\n",
              "│ dense_10 (\u001b[38;5;33mDense\u001b[0m)                │ ?                      │   \u001b[38;5;34m0\u001b[0m (unbuilt) │\n",
              "├─────────────────────────────────┼────────────────────────┼───────────────┤\n",
              "│ time_distributed_5              │ ?                      │   \u001b[38;5;34m0\u001b[0m (unbuilt) │\n",
              "│ (\u001b[38;5;33mTimeDistributed\u001b[0m)               │                        │               │\n",
              "└─────────────────────────────────┴────────────────────────┴───────────────┘\n"
            ],
            "text/html": [
              "<pre style=\"white-space:pre;overflow-x:auto;line-height:normal;font-family:Menlo,'DejaVu Sans Mono',consolas,'Courier New',monospace\">┏━━━━━━━━━━━━━━━━━━━━━━━━━━━━━━━━━┳━━━━━━━━━━━━━━━━━━━━━━━━┳━━━━━━━━━━━━━━━┓\n",
              "┃<span style=\"font-weight: bold\"> Layer (type)                    </span>┃<span style=\"font-weight: bold\"> Output Shape           </span>┃<span style=\"font-weight: bold\">       Param # </span>┃\n",
              "┡━━━━━━━━━━━━━━━━━━━━━━━━━━━━━━━━━╇━━━━━━━━━━━━━━━━━━━━━━━━╇━━━━━━━━━━━━━━━┩\n",
              "│ embedding_5 (<span style=\"color: #0087ff; text-decoration-color: #0087ff\">Embedding</span>)         │ ?                      │   <span style=\"color: #00af00; text-decoration-color: #00af00\">0</span> (unbuilt) │\n",
              "├─────────────────────────────────┼────────────────────────┼───────────────┤\n",
              "│ lstm_9 (<span style=\"color: #0087ff; text-decoration-color: #0087ff\">LSTM</span>)                   │ ?                      │   <span style=\"color: #00af00; text-decoration-color: #00af00\">0</span> (unbuilt) │\n",
              "├─────────────────────────────────┼────────────────────────┼───────────────┤\n",
              "│ dense_10 (<span style=\"color: #0087ff; text-decoration-color: #0087ff\">Dense</span>)                │ ?                      │   <span style=\"color: #00af00; text-decoration-color: #00af00\">0</span> (unbuilt) │\n",
              "├─────────────────────────────────┼────────────────────────┼───────────────┤\n",
              "│ time_distributed_5              │ ?                      │   <span style=\"color: #00af00; text-decoration-color: #00af00\">0</span> (unbuilt) │\n",
              "│ (<span style=\"color: #0087ff; text-decoration-color: #0087ff\">TimeDistributed</span>)               │                        │               │\n",
              "└─────────────────────────────────┴────────────────────────┴───────────────┘\n",
              "</pre>\n"
            ]
          },
          "metadata": {}
        },
        {
          "output_type": "display_data",
          "data": {
            "text/plain": [
              "\u001b[1m Total params: \u001b[0m\u001b[38;5;34m0\u001b[0m (0.00 B)\n"
            ],
            "text/html": [
              "<pre style=\"white-space:pre;overflow-x:auto;line-height:normal;font-family:Menlo,'DejaVu Sans Mono',consolas,'Courier New',monospace\"><span style=\"font-weight: bold\"> Total params: </span><span style=\"color: #00af00; text-decoration-color: #00af00\">0</span> (0.00 B)\n",
              "</pre>\n"
            ]
          },
          "metadata": {}
        },
        {
          "output_type": "display_data",
          "data": {
            "text/plain": [
              "\u001b[1m Trainable params: \u001b[0m\u001b[38;5;34m0\u001b[0m (0.00 B)\n"
            ],
            "text/html": [
              "<pre style=\"white-space:pre;overflow-x:auto;line-height:normal;font-family:Menlo,'DejaVu Sans Mono',consolas,'Courier New',monospace\"><span style=\"font-weight: bold\"> Trainable params: </span><span style=\"color: #00af00; text-decoration-color: #00af00\">0</span> (0.00 B)\n",
              "</pre>\n"
            ]
          },
          "metadata": {}
        },
        {
          "output_type": "display_data",
          "data": {
            "text/plain": [
              "\u001b[1m Non-trainable params: \u001b[0m\u001b[38;5;34m0\u001b[0m (0.00 B)\n"
            ],
            "text/html": [
              "<pre style=\"white-space:pre;overflow-x:auto;line-height:normal;font-family:Menlo,'DejaVu Sans Mono',consolas,'Courier New',monospace\"><span style=\"font-weight: bold\"> Non-trainable params: </span><span style=\"color: #00af00; text-decoration-color: #00af00\">0</span> (0.00 B)\n",
              "</pre>\n"
            ]
          },
          "metadata": {}
        }
      ],
      "source": [
        "def perplexity(y_true, y_pred):\n",
        "  cross_entropy = tf.losses.sparse_categorical_crossentropy(y_true, y_pred)\n",
        "  perplexity = tf.exp(tf.reduce_mean(cross_entropy))\n",
        "  return perplexity\n",
        "\n",
        "def build_model(input_width=len(vocab), input_length=seqlen, output_width=len(vocab), learning_rate=0.01):\n",
        "  model = Sequential()\n",
        "  model.add(Embedding(input_dim=input_width, output_dim=64, input_length=input_length))\n",
        "  model.add(LSTM(32, return_sequences=True, activation='tanh'))\n",
        "  model.add(LSTM(32, return_sequences=True, activation='tanh'))\n",
        "  model.add(Dense(42, activation='tanh'))\n",
        "  model.add(TimeDistributed(Dense(output_width, activation='softmax')));\n",
        "  model.compile(loss='sparse_categorical_crossentropy', optimizer=Adam(learning_rate=learning_rate), metrics=[perplexity])\n",
        "  return model\n",
        "\n",
        "model = build_model()\n",
        "\n",
        "#Inspect\n",
        "model.summary()"
      ]
    },
    {
      "cell_type": "code",
      "execution_count": 17,
      "metadata": {
        "id": "Hfrg_QKHY6lh",
        "colab": {
          "base_uri": "https://localhost:8080/"
        },
        "outputId": "d890e0f0-c971-4fee-dda9-957e9ef25f79"
      },
      "outputs": [
        {
          "output_type": "stream",
          "name": "stdout",
          "text": [
            "Epoch 1/60\n",
            "\u001b[1m108/108\u001b[0m \u001b[32m━━━━━━━━━━━━━━━━━━━━\u001b[0m\u001b[37m\u001b[0m \u001b[1m206s\u001b[0m 1s/step - loss: 2.9151 - perplexity: 19.4861 - val_loss: 2.4835 - val_perplexity: 11.9909\n",
            "Epoch 2/60\n",
            "\u001b[1m108/108\u001b[0m \u001b[32m━━━━━━━━━━━━━━━━━━━━\u001b[0m\u001b[37m\u001b[0m \u001b[1m160s\u001b[0m 1s/step - loss: 2.4816 - perplexity: 11.9689 - val_loss: 2.3289 - val_perplexity: 10.2716\n",
            "Epoch 3/60\n",
            "\u001b[1m108/108\u001b[0m \u001b[32m━━━━━━━━━━━━━━━━━━━━\u001b[0m\u001b[37m\u001b[0m \u001b[1m146s\u001b[0m 1s/step - loss: 2.3467 - perplexity: 10.4540 - val_loss: 2.2420 - val_perplexity: 9.4157\n",
            "Epoch 4/60\n",
            "\u001b[1m108/108\u001b[0m \u001b[32m━━━━━━━━━━━━━━━━━━━━\u001b[0m\u001b[37m\u001b[0m \u001b[1m203s\u001b[0m 1s/step - loss: 2.2663 - perplexity: 9.6455 - val_loss: 2.1763 - val_perplexity: 8.8171\n",
            "Epoch 5/60\n",
            "\u001b[1m108/108\u001b[0m \u001b[32m━━━━━━━━━━━━━━━━━━━━\u001b[0m\u001b[37m\u001b[0m \u001b[1m200s\u001b[0m 1s/step - loss: 2.2156 - perplexity: 9.1673 - val_loss: 2.1407 - val_perplexity: 8.5077\n",
            "Epoch 6/60\n",
            "\u001b[1m108/108\u001b[0m \u001b[32m━━━━━━━━━━━━━━━━━━━━\u001b[0m\u001b[37m\u001b[0m \u001b[1m202s\u001b[0m 1s/step - loss: 2.1804 - perplexity: 8.8501 - val_loss: 2.1182 - val_perplexity: 8.3182\n",
            "Epoch 7/60\n",
            "\u001b[1m108/108\u001b[0m \u001b[32m━━━━━━━━━━━━━━━━━━━━\u001b[0m\u001b[37m\u001b[0m \u001b[1m203s\u001b[0m 1s/step - loss: 2.1544 - perplexity: 8.6234 - val_loss: 2.0902 - val_perplexity: 8.0888\n",
            "Epoch 8/60\n",
            "\u001b[1m108/108\u001b[0m \u001b[32m━━━━━━━━━━━━━━━━━━━━\u001b[0m\u001b[37m\u001b[0m \u001b[1m202s\u001b[0m 1s/step - loss: 2.1335 - perplexity: 8.4451 - val_loss: 2.0784 - val_perplexity: 7.9931\n",
            "Epoch 9/60\n",
            "\u001b[1m108/108\u001b[0m \u001b[32m━━━━━━━━━━━━━━━━━━━━\u001b[0m\u001b[37m\u001b[0m \u001b[1m147s\u001b[0m 1s/step - loss: 2.1188 - perplexity: 8.3219 - val_loss: 2.0647 - val_perplexity: 7.8845\n",
            "Epoch 10/60\n",
            "\u001b[1m108/108\u001b[0m \u001b[32m━━━━━━━━━━━━━━━━━━━━\u001b[0m\u001b[37m\u001b[0m \u001b[1m201s\u001b[0m 1s/step - loss: 2.1044 - perplexity: 8.2026 - val_loss: 2.0536 - val_perplexity: 7.7973\n",
            "Epoch 11/60\n",
            "\u001b[1m108/108\u001b[0m \u001b[32m━━━━━━━━━━━━━━━━━━━━\u001b[0m\u001b[37m\u001b[0m \u001b[1m203s\u001b[0m 1s/step - loss: 2.0916 - perplexity: 8.0981 - val_loss: 2.0423 - val_perplexity: 7.7097\n",
            "Epoch 12/60\n",
            "\u001b[1m108/108\u001b[0m \u001b[32m━━━━━━━━━━━━━━━━━━━━\u001b[0m\u001b[37m\u001b[0m \u001b[1m202s\u001b[0m 1s/step - loss: 2.0819 - perplexity: 8.0205 - val_loss: 2.0304 - val_perplexity: 7.6187\n",
            "Epoch 13/60\n",
            "\u001b[1m108/108\u001b[0m \u001b[32m━━━━━━━━━━━━━━━━━━━━\u001b[0m\u001b[37m\u001b[0m \u001b[1m200s\u001b[0m 1s/step - loss: 2.0727 - perplexity: 7.9470 - val_loss: 2.0211 - val_perplexity: 7.5477\n",
            "Epoch 14/60\n",
            "\u001b[1m108/108\u001b[0m \u001b[32m━━━━━━━━━━━━━━━━━━━━\u001b[0m\u001b[37m\u001b[0m \u001b[1m146s\u001b[0m 1s/step - loss: 2.0634 - perplexity: 7.8734 - val_loss: 2.0177 - val_perplexity: 7.5220\n",
            "Epoch 15/60\n",
            "\u001b[1m108/108\u001b[0m \u001b[32m━━━━━━━━━━━━━━━━━━━━\u001b[0m\u001b[37m\u001b[0m \u001b[1m146s\u001b[0m 1s/step - loss: 2.0565 - perplexity: 7.8191 - val_loss: 2.0087 - val_perplexity: 7.4548\n",
            "Epoch 16/60\n",
            "\u001b[1m108/108\u001b[0m \u001b[32m━━━━━━━━━━━━━━━━━━━━\u001b[0m\u001b[37m\u001b[0m \u001b[1m150s\u001b[0m 1s/step - loss: 2.0492 - perplexity: 7.7619 - val_loss: 2.0022 - val_perplexity: 7.4066\n",
            "Epoch 17/60\n",
            "\u001b[1m108/108\u001b[0m \u001b[32m━━━━━━━━━━━━━━━━━━━━\u001b[0m\u001b[37m\u001b[0m \u001b[1m201s\u001b[0m 1s/step - loss: 2.0421 - perplexity: 7.7074 - val_loss: 1.9982 - val_perplexity: 7.3764\n",
            "Epoch 18/60\n",
            "\u001b[1m108/108\u001b[0m \u001b[32m━━━━━━━━━━━━━━━━━━━━\u001b[0m\u001b[37m\u001b[0m \u001b[1m203s\u001b[0m 1s/step - loss: 2.0384 - perplexity: 7.6792 - val_loss: 1.9891 - val_perplexity: 7.3097\n",
            "Epoch 19/60\n",
            "\u001b[1m108/108\u001b[0m \u001b[32m━━━━━━━━━━━━━━━━━━━━\u001b[0m\u001b[37m\u001b[0m \u001b[1m203s\u001b[0m 1s/step - loss: 2.0325 - perplexity: 7.6337 - val_loss: 1.9811 - val_perplexity: 7.2512\n",
            "Epoch 20/60\n",
            "\u001b[1m108/108\u001b[0m \u001b[32m━━━━━━━━━━━━━━━━━━━━\u001b[0m\u001b[37m\u001b[0m \u001b[1m164s\u001b[0m 2s/step - loss: 2.0279 - perplexity: 7.5987 - val_loss: 1.9809 - val_perplexity: 7.2504\n",
            "Epoch 21/60\n",
            "\u001b[1m108/108\u001b[0m \u001b[32m━━━━━━━━━━━━━━━━━━━━\u001b[0m\u001b[37m\u001b[0m \u001b[1m210s\u001b[0m 2s/step - loss: 2.0262 - perplexity: 7.5854 - val_loss: 1.9768 - val_perplexity: 7.2203\n",
            "Epoch 22/60\n",
            "\u001b[1m108/108\u001b[0m \u001b[32m━━━━━━━━━━━━━━━━━━━━\u001b[0m\u001b[37m\u001b[0m \u001b[1m176s\u001b[0m 2s/step - loss: 2.0211 - perplexity: 7.5474 - val_loss: 1.9802 - val_perplexity: 7.2447\n",
            "Epoch 23/60\n",
            "\u001b[1m108/108\u001b[0m \u001b[32m━━━━━━━━━━━━━━━━━━━━\u001b[0m\u001b[37m\u001b[0m \u001b[1m201s\u001b[0m 2s/step - loss: 2.0172 - perplexity: 7.5179 - val_loss: 1.9728 - val_perplexity: 7.1917\n",
            "Epoch 24/60\n",
            "\u001b[1m108/108\u001b[0m \u001b[32m━━━━━━━━━━━━━━━━━━━━\u001b[0m\u001b[37m\u001b[0m \u001b[1m198s\u001b[0m 2s/step - loss: 2.0147 - perplexity: 7.4994 - val_loss: 1.9750 - val_perplexity: 7.2072\n",
            "Epoch 25/60\n",
            "\u001b[1m108/108\u001b[0m \u001b[32m━━━━━━━━━━━━━━━━━━━━\u001b[0m\u001b[37m\u001b[0m \u001b[1m205s\u001b[0m 2s/step - loss: 2.0118 - perplexity: 7.4776 - val_loss: 1.9673 - val_perplexity: 7.1520\n",
            "Epoch 26/60\n",
            "\u001b[1m108/108\u001b[0m \u001b[32m━━━━━━━━━━━━━━━━━━━━\u001b[0m\u001b[37m\u001b[0m \u001b[1m198s\u001b[0m 2s/step - loss: 2.0053 - perplexity: 7.4291 - val_loss: 1.9648 - val_perplexity: 7.1342\n",
            "Epoch 27/60\n",
            "\u001b[1m108/108\u001b[0m \u001b[32m━━━━━━━━━━━━━━━━━━━━\u001b[0m\u001b[37m\u001b[0m \u001b[1m201s\u001b[0m 2s/step - loss: 2.0038 - perplexity: 7.4175 - val_loss: 1.9670 - val_perplexity: 7.1499\n",
            "Epoch 28/60\n",
            "\u001b[1m108/108\u001b[0m \u001b[32m━━━━━━━━━━━━━━━━━━━━\u001b[0m\u001b[37m\u001b[0m \u001b[1m168s\u001b[0m 2s/step - loss: 2.0018 - perplexity: 7.4033 - val_loss: 1.9586 - val_perplexity: 7.0904\n",
            "Epoch 29/60\n",
            "\u001b[1m108/108\u001b[0m \u001b[32m━━━━━━━━━━━━━━━━━━━━\u001b[0m\u001b[37m\u001b[0m \u001b[1m201s\u001b[0m 2s/step - loss: 1.9999 - perplexity: 7.3889 - val_loss: 1.9625 - val_perplexity: 7.1175\n",
            "Epoch 30/60\n",
            "\u001b[1m108/108\u001b[0m \u001b[32m━━━━━━━━━━━━━━━━━━━━\u001b[0m\u001b[37m\u001b[0m \u001b[1m171s\u001b[0m 2s/step - loss: 1.9990 - perplexity: 7.3825 - val_loss: 1.9528 - val_perplexity: 7.0489\n",
            "Epoch 31/60\n",
            "\u001b[1m108/108\u001b[0m \u001b[32m━━━━━━━━━━━━━━━━━━━━\u001b[0m\u001b[37m\u001b[0m \u001b[1m204s\u001b[0m 2s/step - loss: 1.9940 - perplexity: 7.3454 - val_loss: 1.9578 - val_perplexity: 7.0843\n",
            "Epoch 32/60\n",
            "\u001b[1m108/108\u001b[0m \u001b[32m━━━━━━━━━━━━━━━━━━━━\u001b[0m\u001b[37m\u001b[0m \u001b[1m168s\u001b[0m 2s/step - loss: 1.9952 - perplexity: 7.3545 - val_loss: 1.9544 - val_perplexity: 7.0601\n",
            "Epoch 33/60\n",
            "\u001b[1m108/108\u001b[0m \u001b[32m━━━━━━━━━━━━━━━━━━━━\u001b[0m\u001b[37m\u001b[0m \u001b[1m198s\u001b[0m 2s/step - loss: 1.9940 - perplexity: 7.3460 - val_loss: 1.9535 - val_perplexity: 7.0542\n",
            "Epoch 34/60\n",
            "\u001b[1m108/108\u001b[0m \u001b[32m━━━━━━━━━━━━━━━━━━━━\u001b[0m\u001b[37m\u001b[0m \u001b[1m208s\u001b[0m 2s/step - loss: 1.9896 - perplexity: 7.3133 - val_loss: 1.9489 - val_perplexity: 7.0220\n",
            "Epoch 35/60\n",
            "\u001b[1m108/108\u001b[0m \u001b[32m━━━━━━━━━━━━━━━━━━━━\u001b[0m\u001b[37m\u001b[0m \u001b[1m196s\u001b[0m 2s/step - loss: 1.9877 - perplexity: 7.2997 - val_loss: 1.9480 - val_perplexity: 7.0154\n",
            "Epoch 36/60\n",
            "\u001b[1m108/108\u001b[0m \u001b[32m━━━━━━━━━━━━━━━━━━━━\u001b[0m\u001b[37m\u001b[0m \u001b[1m205s\u001b[0m 2s/step - loss: 1.9861 - perplexity: 7.2878 - val_loss: 1.9486 - val_perplexity: 7.0196\n",
            "Epoch 37/60\n",
            "\u001b[1m108/108\u001b[0m \u001b[32m━━━━━━━━━━━━━━━━━━━━\u001b[0m\u001b[37m\u001b[0m \u001b[1m200s\u001b[0m 2s/step - loss: 1.9838 - perplexity: 7.2710 - val_loss: 1.9463 - val_perplexity: 7.0032\n",
            "Epoch 38/60\n",
            "\u001b[1m108/108\u001b[0m \u001b[32m━━━━━━━━━━━━━━━━━━━━\u001b[0m\u001b[37m\u001b[0m \u001b[1m196s\u001b[0m 1s/step - loss: 1.9841 - perplexity: 7.2736 - val_loss: 1.9419 - val_perplexity: 6.9726\n",
            "Epoch 39/60\n",
            "\u001b[1m108/108\u001b[0m \u001b[32m━━━━━━━━━━━━━━━━━━━━\u001b[0m\u001b[37m\u001b[0m \u001b[1m205s\u001b[0m 1s/step - loss: 1.9842 - perplexity: 7.2738 - val_loss: 1.9429 - val_perplexity: 6.9797\n",
            "Epoch 40/60\n",
            "\u001b[1m108/108\u001b[0m \u001b[32m━━━━━━━━━━━━━━━━━━━━\u001b[0m\u001b[37m\u001b[0m \u001b[1m201s\u001b[0m 1s/step - loss: 1.9799 - perplexity: 7.2429 - val_loss: 1.9409 - val_perplexity: 6.9661\n",
            "Epoch 41/60\n",
            "\u001b[1m108/108\u001b[0m \u001b[32m━━━━━━━━━━━━━━━━━━━━\u001b[0m\u001b[37m\u001b[0m \u001b[1m163s\u001b[0m 2s/step - loss: 1.9782 - perplexity: 7.2307 - val_loss: 1.9457 - val_perplexity: 6.9992\n",
            "Epoch 42/60\n",
            "\u001b[1m108/108\u001b[0m \u001b[32m━━━━━━━━━━━━━━━━━━━━\u001b[0m\u001b[37m\u001b[0m \u001b[1m203s\u001b[0m 2s/step - loss: 1.9792 - perplexity: 7.2374 - val_loss: 1.9427 - val_perplexity: 6.9786\n",
            "Epoch 43/60\n",
            "\u001b[1m108/108\u001b[0m \u001b[32m━━━━━━━━━━━━━━━━━━━━\u001b[0m\u001b[37m\u001b[0m \u001b[1m206s\u001b[0m 2s/step - loss: 1.9777 - perplexity: 7.2271 - val_loss: 1.9403 - val_perplexity: 6.9620\n",
            "Epoch 44/60\n",
            "\u001b[1m108/108\u001b[0m \u001b[32m━━━━━━━━━━━━━━━━━━━━\u001b[0m\u001b[37m\u001b[0m \u001b[1m161s\u001b[0m 1s/step - loss: 1.9772 - perplexity: 7.2230 - val_loss: 1.9372 - val_perplexity: 6.9402\n",
            "Epoch 45/60\n",
            "\u001b[1m108/108\u001b[0m \u001b[32m━━━━━━━━━━━━━━━━━━━━\u001b[0m\u001b[37m\u001b[0m \u001b[1m206s\u001b[0m 2s/step - loss: 1.9788 - perplexity: 7.2355 - val_loss: 1.9376 - val_perplexity: 6.9428\n",
            "Epoch 46/60\n",
            "\u001b[1m108/108\u001b[0m \u001b[32m━━━━━━━━━━━━━━━━━━━━\u001b[0m\u001b[37m\u001b[0m \u001b[1m162s\u001b[0m 2s/step - loss: 1.9722 - perplexity: 7.1876 - val_loss: 1.9382 - val_perplexity: 6.9471\n",
            "Epoch 47/60\n",
            "\u001b[1m108/108\u001b[0m \u001b[32m━━━━━━━━━━━━━━━━━━━━\u001b[0m\u001b[37m\u001b[0m \u001b[1m201s\u001b[0m 1s/step - loss: 1.9682 - perplexity: 7.1585 - val_loss: 1.9358 - val_perplexity: 6.9302\n",
            "Epoch 48/60\n",
            "\u001b[1m108/108\u001b[0m \u001b[32m━━━━━━━━━━━━━━━━━━━━\u001b[0m\u001b[37m\u001b[0m \u001b[1m157s\u001b[0m 1s/step - loss: 1.9719 - perplexity: 7.1848 - val_loss: 1.9377 - val_perplexity: 6.9438\n",
            "Epoch 49/60\n",
            "\u001b[1m108/108\u001b[0m \u001b[32m━━━━━━━━━━━━━━━━━━━━\u001b[0m\u001b[37m\u001b[0m \u001b[1m202s\u001b[0m 1s/step - loss: 1.9682 - perplexity: 7.1586 - val_loss: 1.9324 - val_perplexity: 6.9069\n",
            "Epoch 50/60\n",
            "\u001b[1m108/108\u001b[0m \u001b[32m━━━━━━━━━━━━━━━━━━━━\u001b[0m\u001b[37m\u001b[0m \u001b[1m208s\u001b[0m 2s/step - loss: 1.9696 - perplexity: 7.1685 - val_loss: 1.9278 - val_perplexity: 6.8750\n",
            "Epoch 51/60\n",
            "\u001b[1m108/108\u001b[0m \u001b[32m━━━━━━━━━━━━━━━━━━━━\u001b[0m\u001b[37m\u001b[0m \u001b[1m160s\u001b[0m 1s/step - loss: 1.9654 - perplexity: 7.1387 - val_loss: 1.9298 - val_perplexity: 6.8886\n",
            "Epoch 52/60\n",
            "\u001b[1m108/108\u001b[0m \u001b[32m━━━━━━━━━━━━━━━━━━━━\u001b[0m\u001b[37m\u001b[0m \u001b[1m200s\u001b[0m 1s/step - loss: 1.9682 - perplexity: 7.1587 - val_loss: 1.9340 - val_perplexity: 6.9177\n",
            "Epoch 53/60\n",
            "\u001b[1m108/108\u001b[0m \u001b[32m━━━━━━━━━━━━━━━━━━━━\u001b[0m\u001b[37m\u001b[0m \u001b[1m160s\u001b[0m 1s/step - loss: 1.9679 - perplexity: 7.1564 - val_loss: 1.9260 - val_perplexity: 6.8631\n",
            "Epoch 54/60\n",
            "\u001b[1m108/108\u001b[0m \u001b[32m━━━━━━━━━━━━━━━━━━━━\u001b[0m\u001b[37m\u001b[0m \u001b[1m202s\u001b[0m 1s/step - loss: 1.9649 - perplexity: 7.1350 - val_loss: 1.9288 - val_perplexity: 6.8824\n",
            "Epoch 55/60\n",
            "\u001b[1m108/108\u001b[0m \u001b[32m━━━━━━━━━━━━━━━━━━━━\u001b[0m\u001b[37m\u001b[0m \u001b[1m162s\u001b[0m 1s/step - loss: 1.9664 - perplexity: 7.1455 - val_loss: 1.9265 - val_perplexity: 6.8659\n",
            "Epoch 56/60\n",
            "\u001b[1m108/108\u001b[0m \u001b[32m━━━━━━━━━━━━━━━━━━━━\u001b[0m\u001b[37m\u001b[0m \u001b[1m201s\u001b[0m 1s/step - loss: 1.9634 - perplexity: 7.1245 - val_loss: 1.9248 - val_perplexity: 6.8545\n",
            "Epoch 57/60\n",
            "\u001b[1m108/108\u001b[0m \u001b[32m━━━━━━━━━━━━━━━━━━━━\u001b[0m\u001b[37m\u001b[0m \u001b[1m158s\u001b[0m 1s/step - loss: 1.9643 - perplexity: 7.1305 - val_loss: 1.9264 - val_perplexity: 6.8653\n",
            "Epoch 58/60\n",
            "\u001b[1m108/108\u001b[0m \u001b[32m━━━━━━━━━━━━━━━━━━━━\u001b[0m\u001b[37m\u001b[0m \u001b[1m159s\u001b[0m 1s/step - loss: 1.9614 - perplexity: 7.1104 - val_loss: 1.9207 - val_perplexity: 6.8267\n",
            "Epoch 59/60\n",
            "\u001b[1m108/108\u001b[0m \u001b[32m━━━━━━━━━━━━━━━━━━━━\u001b[0m\u001b[37m\u001b[0m \u001b[1m210s\u001b[0m 2s/step - loss: 1.9608 - perplexity: 7.1061 - val_loss: 1.9270 - val_perplexity: 6.8694\n",
            "Epoch 60/60\n",
            "\u001b[1m108/108\u001b[0m \u001b[32m━━━━━━━━━━━━━━━━━━━━\u001b[0m\u001b[37m\u001b[0m \u001b[1m196s\u001b[0m 1s/step - loss: 1.9613 - perplexity: 7.1091 - val_loss: 1.9262 - val_perplexity: 6.8643\n"
          ]
        }
      ],
      "source": [
        "training_info = model.fit(Xtrain,ytrain, batch_size=64, validation_split=0.10, epochs=200, callbacks=EarlyStopping(monitor=\"val_loss\", patience=5))"
      ]
    },
    {
      "cell_type": "code",
      "execution_count": 18,
      "metadata": {
        "id": "F_YSlhYIbQSQ",
        "colab": {
          "base_uri": "https://localhost:8080/",
          "height": 465
        },
        "outputId": "27abddab-a290-4f9b-f0e3-4fe16f061506"
      },
      "outputs": [
        {
          "output_type": "display_data",
          "data": {
            "text/plain": [
              "<Figure size 1600x500 with 2 Axes>"
            ],
            "image/png": "[encoded data removed]"
          },
          "metadata": {}
        }
      ],
      "source": [
        "def plot_training_history(training_info):\n",
        "  fig, axs = plt.subplots(1, 2, figsize=(16, 5))\n",
        "  axs[0].plot(training_info.history['loss'], label=\"training set\")\n",
        "  axs[0].plot(training_info.history['val_loss'], label=\"validation set\")\n",
        "  axs[0].set_xlabel(\"Epoch\")\n",
        "  axs[0].set_ylabel(\"Loss\")\n",
        "  axs[0].grid(True)\n",
        "  axs[0].legend()\n",
        "  try:\n",
        "    axs[1].plot(training_info.history['perplexity'], label=\"training set\")\n",
        "    axs[1].plot(training_info.history['val_perplexity'], label=\"validation set\")\n",
        "    axs[1].set_xlabel(\"Epoch\")\n",
        "    axs[1].set_ylabel(\"Perplexity\")\n",
        "    axs[1].grid(True)\n",
        "    axs[1].legend()\n",
        "  except:\n",
        "    pass\n",
        "  plt.show()\n",
        "\n",
        "plot_training_history(training_info)"
      ]
    },
    {
      "cell_type": "code",
      "execution_count": 19,
      "metadata": {
        "id": "tzpCeOiBbVDo",
        "colab": {
          "base_uri": "https://localhost:8080/"
        },
        "outputId": "c27ad15f-65db-44c5-f360-f558e8aa89dc"
      },
      "outputs": [
        {
          "output_type": "stream",
          "name": "stdout",
          "text": [
            "Test loss: 2.1395676136016846\n",
            "Test perplexity: 8.495763778686523\n"
          ]
        }
      ],
      "source": [
        "test_loss, test_perplexity = model.evaluate(Xtest, ytest, verbose=0)\n",
        "print(\"Test loss:\", test_loss)\n",
        "print(\"Test perplexity:\", test_perplexity)"
      ]
    },
    {
      "cell_type": "code",
      "execution_count": 177,
      "metadata": {
        "id": "tt6uPTLebal5",
        "colab": {
          "base_uri": "https://localhost:8080/"
        },
        "outputId": "d4283e13-ad07-40fc-8b5a-66ca3c23d98e"
      },
      "outputs": [
        {
          "output_type": "stream",
          "name": "stdout",
          "text": [
            "Next_three_letters: it is a truth universally acknowledgedistnieetestteritnltonteownedge\n"
          ]
        }
      ],
      "source": [
        "\n",
        "#Map indexes stored through word_to_index() back to their original form\n",
        "index_to_letter = {i: l for l, i in letter_to_index.items()}\n",
        "\n",
        "# Choose seed text and create padded index sequence\n",
        "seed_text = \"it is a truth universally acknowledged\"\n",
        "next_letters = 30\n",
        "sequence = []\n",
        "#for w in seed_text.split():\n",
        "   #for letters in w:\n",
        "     #seq = [word_to_index[letters] for letters in w.lower()]\n",
        "#padded_seq = pad_sequences([seq], maxlen=seqlen, padding='post')\n",
        "for text in seed_text:\n",
        "  lower_t = [word.lower() for word in seed_text]\n",
        "  for words in lower_t:\n",
        "   tokenizer = RegexpTokenizer(r'\\w+')\n",
        "   token_word = tokenizer.tokenize(words)\n",
        "   for word in token_word:\n",
        "    for letter in word:\n",
        "      sequence.append(letter_to_index[letter])\n",
        "\n",
        "padded_seq = pad_sequences([sequence], maxlen = len(sequence), padding = \"post\")\n",
        "# Sample word sequence\n",
        "for i in range(next_letters):\n",
        "  full_prediction = model.predict(padded_seq, verbose=0)\n",
        "  next_three_letters = full_prediction[0][len(padded_seq) + i]\n",
        "  #dpd = rv_discrete(values=(list(range(len(next_three_letters))), next_three_letters))\n",
        "  #padded_seq[0][len(padded_seq) + i] = dpd.rvs(size=1)\n",
        "\n",
        "  prediction = index_to_letter[np.argmax(next_three_letters)]\n",
        "  seed_text += prediction\n",
        "\n",
        "\n",
        "# Print word sequence\n",
        "#sampled_words = []\n",
        "#for word_index in padded_seq[0]:\n",
        "  #sampled_words.append(index_to_word[word_index])\n",
        "  #for i in range(next_letters):\n",
        "    #seed_text += str(sampled_words)\n",
        "print(\"Next_three_letters:\", seed_text)"
      ]
    },
    {
      "cell_type": "markdown",
      "source": [
        "The present notebook makes use of six out of the seven texts made available for this assignment; namely: \"The Adventures of Tom Sawyer\" (Book 1), \"Frankenstein\" (Book 2), \"Dracula\" (Book 3), \"Pride and Prejudice\"(Book 4), \"Moby Dick\" (Book 6), and \"Leviathan\" (Book 7). Given the nature of the assignment - which required to build a language model able to predict the next three letters in a given English seed text - \"The Odissey\" (Book 5) was excluded because of the presence of Ancient Greek alphabet. While the complete exclusion of the text can be justified, a better result would have been achievable by the removal of letters that are not part of the English alphabet from the tokenized text during data preparation; this would have made it possible to add more data to the corpus while training the model on English sequences only. However, because the other texts provided a corpus of length 3845425, the data provided by the other six books was here considered enough to construct a meaningful model without the added presence of Book 5.\n",
        "\n",
        "The text was first tokenised at the word level, with punctuation, newlines, and spaces being excluded. A single flattened list was then created with each letter from the corpus forming a separate item. The sequence was padded, so as to inform the model of the start and end of the corpus. A vocabulary was created using the NLTK library with a cut-off argument of 50. This constructed the input of the language model by creating an object that contained every letter that was present more than 50 times thoughout the corpus. A high cut-off frequency was chosen so as to exclude other elements from the text as the trainable input, such as numbers and unknown, without excluding them from the corpus. An index was then created so as to obtain a numerical equivalent of the items in the list based on their position in the vocabulary. The creation of this index was ... . Analysis of the corpus revealed a vocabulary set of ..., while the total length of unique letters in the text is ... .Finally the list was separated into a training set, which comprised all the letters in the corpus apart of the first 10000, which were selected to be used for the test set.\n",
        "\n"
      ],
      "metadata": {
        "id": "dBjuF5HY6AL3"
      }
    }
  ],
  "metadata": {
    "colab": {
      "provenance": [],
      "mount_file_id": "1UGmaej6DpKxZ-YXKPbCP7CfKyFrCgDea",
      "authorship_tag": "ABX9TyPlIBkhQbY0TbMTbUSv4dLI",
      "include_colab_link": true
    },
    "kernelspec": {
      "display_name": "Python 3",
      "name": "python3"
    },
    "language_info": {
      "name": "python"
    }
  },
  "nbformat": 4,
  "nbformat_minor": 0
}