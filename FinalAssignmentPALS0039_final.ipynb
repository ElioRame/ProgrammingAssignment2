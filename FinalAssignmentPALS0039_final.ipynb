{
  "cells": [
    {
      "cell_type": "markdown",
      "metadata": {
        "id": "view-in-github",
        "colab_type": "text"
      },
      "source": [
        "<a href=\"https://colab.research.google.com/github/ElioRame/ProgrammingAssignment2/blob/master/FinalAssignmentPALS0039_final.ipynb\" target=\"_parent\"><img src=\"https://colab.research.google.com/assets/colab-badge.svg\" alt=\"Open In Colab\"/></a>"
      ]
    },
    {
      "cell_type": "code",
      "execution_count": 1,
      "metadata": {
        "colab": {
          "base_uri": "https://localhost:8080/"
        },
        "id": "Mn5DPIaA8HGI",
        "outputId": "6ea3a129-2b15-4580-83a2-c7082648a151"
      },
      "outputs": [
        {
          "output_type": "stream",
          "name": "stdout",
          "text": [
            "['\\ufeffThe Project Gutenberg eBook of The Adventures of Tom Sawyer, Complete\\n', '    \\n', 'This ebook is for the use of anyone anywhere in the United States and\\n', 'most other parts of the world at no cost and with almost no restrictions\\n', 'whatsoever. You may copy it, give it away or re-use it under the terms\\n', 'of the Project Gutenberg License included with this ebook or online\\n', 'at www.gutenberg.org. If you are not located in the United States,\\n', 'you will have to check the laws of the country where you are located\\n', 'before using this eBook.\\n', '\\n', 'Title: The Adventures of Tom Sawyer, Complete\\n', '\\n', 'Author: Mark Twain\\n', '\\n', 'Release date: July 1, 2004 [eBook #74]\\n', '                Most recently updated: August 9, 2023\\n', '\\n', 'Language: English\\n', '\\n', 'Credits: David Widger\\n', '\\n', '\\n', '*** START OF THE PROJECT GUTENBERG EBOOK THE ADVENTURES OF TOM SAWYER, COMPLETE ***\\n', '\\n', '\\n', '\\n', '\\n', 'THE ADVENTURES OF TOM SAWYER\\n', '\\n', '\\n', 'By Mark Twain\\n', '\\n', '(Samuel Langhorne Clemens)\\n', '\\n', '\\n', '\\n', '\\n', 'CONTENTS\\n', '\\n', '\\n', 'CHAPTER I. Y-o-u-u Tom—Aunt Polly Decides Upon her Duty—Tom Practices\\n', 'Music—The Challenge—A Private Entrance\\n', '\\n', 'CHAPTER II. Strong Temptations—Strategic Movements—The Innocents\\n', 'Beguiled\\n', '\\n', 'CHAPTER III. Tom as a General—Triumph and Reward—Dismal\\n', 'Felicity—Commission and Omission\\n', '\\n', 'CHAPTER IV. Mental Acrobatics—Attending Sunday—School—The\\n']\n"
          ]
        }
      ],
      "source": [
        "# All seven books are used for the assignments, they are downloaded using read.lines() from library and renamed, they are then added to create a new string named 'data'\n",
        "with open(\"/content/pg74.txt\") as TomSawyer:\n",
        "  Book1 = TomSawyer.readlines()\n",
        "with open(\"/content/pg84.txt\") as Frankenstein:\n",
        "  Book2 = Frankenstein.readlines()\n",
        "with open(\"/content/pg345.txt\") as Dracula:\n",
        "  Book3 = Dracula.readlines()\n",
        "with open(\"/content/pg1342.txt\") as PrideandPrejudice:\n",
        "  Book4 = PrideandPrejudice.readlines()\n",
        "with open(\"/content/pg1727.txt\") as Odissey:\n",
        "  Book5 = Odissey.readlines()\n",
        "with open(\"/content/pg2701.txt\") as MobyDick:\n",
        "  Book6 = MobyDick.readlines()\n",
        "with open(\"/content/pg3207.txt\") as Leviathan:\n",
        "  Book7 = Leviathan.readlines()\n",
        "\n",
        "data = Book1 + Book2 + Book3 + Book4 + Book5 + Book6 + Book7\n",
        "print(data[:50])"
      ]
    },
    {
      "cell_type": "code",
      "execution_count": 2,
      "metadata": {
        "colab": {
          "base_uri": "https://localhost:8080/"
        },
        "id": "D-T2aK-DX8UO",
        "outputId": "7c5fa325-f65e-46ac-ea4a-1c2eb21ac2a6"
      },
      "outputs": [
        {
          "output_type": "stream",
          "name": "stderr",
          "text": [
            "[nltk_data] Downloading package punkt to /root/nltk_data...\n",
            "[nltk_data]   Unzipping tokenizers/punkt.zip.\n",
            "[nltk_data] Downloading package punkt_tab to /root/nltk_data...\n",
            "[nltk_data]   Unzipping tokenizers/punkt_tab.zip.\n"
          ]
        }
      ],
      "source": [
        "!pip install -U nltk>=3.7.0\n",
        "\n",
        "import nltk\n",
        "\n",
        "\n",
        "nltk.download(\"punkt\")\n",
        "nltk.download('punkt_tab')\n",
        "\n",
        "from nltk.lm import Vocabulary\n",
        "from nltk.util import pad_sequence, ngrams\n",
        "from nltk.tokenize import RegexpTokenizer\n",
        "from nltk.lm.preprocessing import flatten\n",
        "\n",
        "\n",
        "import matplotlib.pyplot as plt\n",
        "%matplotlib inline\n",
        "\n",
        "import numpy as np\n",
        "import regex as re\n",
        "\n",
        "import tensorflow as tf\n",
        "from tensorflow.keras.models import Sequential, Model\n",
        "from tensorflow.keras.optimizers import Adam\n",
        "from tensorflow.keras.layers import Dense, Embedding, Flatten, LSTM, TimeDistributed, Dropout\n",
        "from tensorflow.keras.preprocessing.text import Tokenizer\n",
        "token = Tokenizer()\n",
        "from tensorflow.keras.preprocessing.sequence import pad_sequences\n",
        "from tensorflow.keras.callbacks import EarlyStopping\n"
      ]
    },
    {
      "cell_type": "code",
      "execution_count": 74,
      "metadata": {
        "colab": {
          "base_uri": "https://localhost:8080/"
        },
        "id": "7Q1vaRZJYI2f",
        "outputId": "96394e0e-0894-4651-ab6e-10094eff4856"
      },
      "outputs": [
        {
          "output_type": "stream",
          "name": "stdout",
          "text": [
            "79.0\n"
          ]
        }
      ],
      "source": [
        "import string\n",
        "import collections\n",
        "import operator\n",
        "import unicodedata\n",
        "\n",
        "\n",
        "# Eliminate non-English characters and punctuation by first defining a function that identifies using booleans\n",
        "# whether the items in the string are alphabetical and part of the list of items in the unicodedata function\n",
        "# Unicode gives access to list of characters through specifications (in this case 'LATIN' and 'COMMON')\n",
        "# Therefore it identifies as True items that are part of the latin alphabet\n",
        "def is_english_letter(letters):\n",
        "  return str(letters).isalpha() and unicodedata.name(letters).startswith(('LATIN', 'COMMON'))\n",
        "\n",
        "# Check if data contains only letters that are part of the Latin alphabet\n",
        "tokenizer = RegexpTokenizer(r'[A-Za-z]\\w+')\n",
        "\n",
        "for text in data:\n",
        " token_text = tokenizer.tokenize(text)\n",
        "print(is_english_letter(token_text))\n",
        "\n",
        "# There are characters belonging to different alphabets\n",
        "# Process the dataset to eliminate unwanted characters\n",
        "# if the item is part of the latin alphabet it is added to a new list (output_list)\n",
        "def remove_non_english_letters(list_of_letters):\n",
        "    output_list = []\n",
        "    for letter in list_of_letters:\n",
        "        filtered = filter(is_english_letter, list(letter))\n",
        "        english_string = ''.join(filtered)\n",
        "        output_list.append(english_string)\n",
        "    return output_list\n",
        "\n",
        "# Creat a list to append the padded and processed text\n",
        "letters = []\n",
        "# Texts are split into sentences using the newline (/n) symbol\n",
        "for text in data:\n",
        "  #split_text = re.split(r\"\\n\", text)\n",
        "  strip_text = text.strip()\n",
        "  split_text = strip_text.splitlines()\n",
        "  for sentence in split_text:\n",
        "   # The following code creates a new list. All letters in the text are first made lowercase and then appended\n",
        "     lower_text = [letter.lower() for letter in sentence]\n",
        "   # All letters that don't belong to the English alphabet are removed\n",
        "     eng_text = remove_non_english_letters(lower_text)\n",
        "   # The corpus is padded at the sentence level by using <s> at the start, and </s> at the end, of every sentence\n",
        "     padded_corpus = list(pad_sequence(eng_text, n=2, pad_left=True, left_pad_symbol=\"<s>\", pad_right=True, right_pad_symbol=\"</s>\"))\n",
        "   # The padded corpus is appended to the list \"letters\"\n",
        "     letters.append(padded_corpus)\n",
        "\n",
        "\n",
        "#for word in padded_words:\n",
        "   #tokenizer = RegexpTokenizer(r'\\w+')\n",
        "   #tokenised_word = tokenizer.tokenize(words)\n",
        "    #eng_letters = remove_non_english_letters(words)\n",
        "    #for word in eng_letters:\n",
        "     #for letter in word:\n",
        "      #letters.append(letter)\n",
        "\n",
        "#padded_corpus = list(pad_sequence(letters, n=2, pad_left=True, left_pad_symbol=\"<s>\", pad_right=True, right_pad_symbol=\"</s>\"))\n",
        "#for word in padded_words:\n",
        "  #if word in padded_words == \"<s>\" or \"</s>\":\n",
        "    #letters.append(word)\n",
        "  #else:\n",
        "    #for letter in words:\n",
        "      #letters.append(letter)\n",
        "\n",
        "\n",
        "\n",
        "   #for punct in string.punctuation:\n",
        "    #letters = list(map(lambda x: \" \" if x == punct else x, tokenised_word))\n",
        "     #for punct in string.punctuation:\n",
        "      #text_punct = list(map(lambda x: \" \" if x == punct else x, letter))\n",
        "      #letters.append(letter)\n",
        "\n",
        "\n",
        "\n",
        "#def tokenize(text):\n",
        "  #text_lower = [word.lower() for word in str(text)]\n",
        "  #for punct in string.punctuation:\n",
        "    #text_punct = list(map(lambda x: \" \" if x == punct else x, text_lower))\n",
        "  #return text_punct\n",
        "\n",
        "#tokenized_data = tokenize(data)\n",
        "#for words in tokenized_data:\n",
        "  #for letter in words:\n",
        "    #letters.append(letter)\n",
        "\n",
        "\n",
        "\n",
        "\n",
        "\n",
        "\n",
        "\n",
        "\n",
        "\n",
        "# The corpus is flattened to create a single list with all padded sentences\n",
        "corpus = list(flatten(letters))\n",
        "\n",
        "\n",
        "\n",
        "# A vocabulary is created using nltk.vocab which gives us a list of all the letters that appear in the text for 50 times or more\n",
        "vocab = Vocabulary(corpus, unk_cutoff=50)\n",
        "\n",
        "# Data from the corpus is partitioned into train and test sets\n",
        "test_letters = corpus[:100000]\n",
        "train_letters = corpus[100000:]\n",
        "\n",
        "# Inspection shows the presence of 31 vocab words, consistent with the English alphabet with added '<UNK>' and padding, as well as empty spaces between words\n",
        "print(\"Length of corpus:\", len(corpus))\n",
        "print(\"Length of vocabulary:\", len(vocab))\n",
        "print(\"Unique words in corpus:\", len(set(corpus)))\n",
        "\n",
        "show_vocab = [i for i in vocab]\n",
        "print(show_vocab)\n",
        "\n",
        "\n",
        "print(corpus[:100])\n",
        "print(split_text[:100])\n",
        "\n"
      ]
    },
    {
      "cell_type": "code",
      "execution_count": 76,
      "metadata": {
        "colab": {
          "base_uri": "https://localhost:8080/"
        },
        "id": "N55ekRQ7Ye72",
        "outputId": "dbe85c6b-e596-49aa-f81e-788720a4c608"
      },
      "outputs": [
        {
          "output_type": "stream",
          "name": "stdout",
          "text": [
            "[9, 14, 1, 16, 12, 17, 1, 5, 23, 4, 16, 17, 4, 17, 1, 24, 0, 1, 12, 7, 21, 1, 1, 13, 4, 9, 14, 22, 1, 1, 25, 2, 1, 19, 1, 16, 23, 23, 1, 17, 7, 12, 4, 1, 16, 23, 23, 1, 7, 18, 4, 6, 1, 13, 11, 2, 1, 2, 3, 4, 1, 14, 25, 19, 19, 1, 1, 17, 7, 12, 1, 2, 1, 22, 7, 11, 1, 13, 4, 1, 16, 15, 6, 16, 25, 17, 24, 0, 7, 15, 1, 2, 3, 16, 2, 1, 25, 2, 1, 16, 25, 12, 1, 2, 1, 16, 12, 22, 2, 3, 25, 12, 10, 1, 16, 2, 1, 16, 23, 23, 1, 1, 5, 23, 4, 16, 19, 4, 1, 1, 13, 4, 9, 14, 22, 1, 1, 1, 16, 12, 17, 1, 3, 4, 1, 2, 11, 10, 10, 4, 17, 1, 16, 2, 1, 3, 4, 6, 24, 0, 16, 5, 6, 7, 12, 1, 16, 12, 17, 1, 2, 3, 4, 1, 3, 16, 12, 17, 19, 1, 24, 0, 13, 22, 1, 16, 12, 17, 1, 13, 22, 1, 19, 3, 4, 1, 10, 16, 18, 4, 1, 11, 5, 1, 1, 16, 12, 17, 1, 23, 4, 2, 1, 3, 4, 6, 1, 3, 16, 12, 17, 19, 1, 17, 6, 7, 5, 1, 1, 3, 4, 6, 1, 15, 16, 9, 4, 1, 1, 16, 23, 23, 1, 10, 23, 7, 21, 25, 12, 10, 24, 0, 21, 25, 2, 3, 1, 2, 3, 4, 1, 19, 2, 6, 11, 10, 10, 23, 4, 1, 1, 9, 16, 20, 4, 1, 11, 5, 1, 16, 12, 17, 1, 19, 11, 13, 20, 25, 2, 2, 4, 17, 1, 1, 2, 7, 20, 1, 14, 25, 19, 19, 4, 17, 1, 2, 3, 4, 1, 6, 4, 17, 1, 23, 25, 5, 19, 1, 16, 12, 17, 24, 0, 19, 16, 25, 17, 1, 24, 0, 1, 12, 7, 21, 1, 25, 2, 1, 19, 1, 16, 23, 23, 1, 17, 7, 12, 4, 1, 1, 13, 4, 9, 14, 22, 1, 1, 16, 12, 17, 1, 16, 23, 21, 16, 22, 19, 1, 16, 15, 2, 4, 6, 1, 2, 3, 25, 19, 1, 1, 22, 7, 11, 1, 14, 12, 7, 21, 1, 1, 22, 7, 11, 1, 16, 25, 12, 1, 2, 24, 0, 4, 18, 4, 6, 1, 2, 7, 1, 23, 7, 18, 4, 1, 16, 12, 22, 13, 7, 17, 22, 1, 13, 11, 2, 1, 20, 4, 1, 1, 16, 12, 17, 1, 22, 7, 11, 1, 16, 25, 12, 1, 2, 1, 4, 18, 4, 6, 1, 2, 7, 1, 20, 16, 6, 6, 22, 1, 16, 12, 22, 13, 7, 17, 22, 1, 13, 11, 2, 1, 20, 4, 1, 24, 0, 4, 18, 4, 6, 1, 12, 4, 18, 4, 6, 1, 16, 12, 17, 1, 15, 7, 6, 4, 18, 4, 6, 1, 1, 21, 25, 23, 23, 1, 22, 7, 11, 1, 1, 24, 0, 1, 12, 7, 1, 1, 25, 1, 23, 23, 1, 12, 4, 18, 4, 6, 1, 23, 7, 18, 4, 1, 16, 12, 22, 13, 7, 17, 22, 1, 13, 11, 2, 1, 22, 7, 11, 1, 1, 2, 7, 20, 1, 1, 16, 12, 17, 1, 25, 1, 23, 23, 1, 12, 4, 18, 4, 6, 1, 20, 16, 6, 6, 22, 1, 16, 12, 22, 13, 7, 17, 22, 24, 0, 13, 11, 2, 1, 22, 7, 11, 1, 16, 12, 17, 1, 22, 7, 11, 1]\n",
            "[0, 1, 2, 3, 4, 1, 5, 6, 7, 8, 4, 9, 2, 1, 10, 11, 2, 4, 12, 13, 4, 6, 10, 1, 4]\n"
          ]
        }
      ],
      "source": [
        "#Create a dictionary that maps letters to their indexes within the vocab. We iterate though the words in our vocabulary and assign an index to each one\n",
        "#The index then becomes the key value to our letter\n",
        "letter_to_index = {l: i for i, l in enumerate(vocab)}\n",
        "# i.e. if vocab = abcdefg\n",
        "# word_to_index = {a : 1, b : 2, c : 3, d : 4, e : 5, f : 6, g : 6}\n",
        "# The function maps data to index in the vocab so that the word 'cab' = [3, 1, 2]\n",
        "\n",
        "\n",
        "# We iterate through all the letters in the training and test sets and convert each letter to the index using the letter_to_index dictionary and the lookup function\n",
        "# which will return the correct index for each letter\n",
        "train_indices = [letter_to_index[vocab.lookup(l)] for l in train_letters]\n",
        "test_indices = [letter_to_index[vocab.lookup(l)] for l in test_letters]\n",
        "\n",
        "# A list of indexes can then be fed to the neural network\n",
        "print(train_indices[:600])\n",
        "print(test_indices[:25])\n",
        "\n",
        "\n"
      ]
    },
    {
      "cell_type": "code",
      "execution_count": 77,
      "metadata": {
        "colab": {
          "base_uri": "https://localhost:8080/"
        },
        "id": "45gOwWriYuc-",
        "outputId": "b84db7a7-2a14-41f7-fac6-96088cd8acd8"
      },
      "outputs": [
        {
          "output_type": "stream",
          "name": "stdout",
          "text": [
            "(69899, 80) (69899, 80)\n",
            "(1250, 80) (1250, 80)\n",
            "[[ 1  2  3  4  1 14 25 19 19  1  1 17  7 12  1  2  1 22  7 11  1 13  4  1\n",
            "  16 15  6 16 25 17 24  0  7 15  1  2  3 16  2  1 25  2  1 16 25 12  1  2\n",
            "   1 16 12 22  2  3 25 12 10  1 16  2  1 16 23 23  1  1  5 23  4 16 19  4\n",
            "   1  1 13  4  9 14 22  1]\n",
            " [ 1  1 16 12 17  1  3  4  1  2 11 10 10  4 17  1 16  2  1  3  4  6 24  0\n",
            "  16  5  6  7 12  1 16 12 17  1  2  3  4  1  3 16 12 17 19  1 24  0 13 22\n",
            "   1 16 12 17  1 13 22  1 19  3  4  1 10 16 18  4  1 11  5  1  1 16 12 17\n",
            "   1 23  4  2  1  3  4  6]\n",
            " [ 1  3 16 12 17 19  1 17  6  7  5  1  1  3  4  6  1 15 16  9  4  1  1 16\n",
            "  23 23  1 10 23  7 21 25 12 10 24  0 21 25  2  3  1  2  3  4  1 19  2  6\n",
            "  11 10 10 23  4  1  1  9 16 20  4  1 11  5  1 16 12 17  1 19 11 13 20 25\n",
            "   2  2  4 17  1  1  2  7]\n",
            " [20  1 14 25 19 19  4 17  1  2  3  4  1  6  4 17  1 23 25  5 19  1 16 12\n",
            "  17 24  0 19 16 25 17  1 24  0  1 12  7 21  1 25  2  1 19  1 16 23 23  1\n",
            "  17  7 12  4  1  1 13  4  9 14 22  1  1 16 12 17  1 16 23 21 16 22 19  1\n",
            "  16 15  2  4  6  1  2  3]\n",
            " [25 19  1  1 22  7 11  1 14 12  7 21  1  1 22  7 11  1 16 25 12  1  2 24\n",
            "   0  4 18  4  6  1  2  7  1 23  7 18  4  1 16 12 22 13  7 17 22  1 13 11\n",
            "   2  1 20  4  1  1 16 12 17  1 22  7 11  1 16 25 12  1  2  1  4 18  4  6\n",
            "   1  2  7  1 20 16  6  6]\n",
            " [22  1 16 12 22 13  7 17 22  1 13 11  2  1 20  4  1 24  0  4 18  4  6  1\n",
            "  12  4 18  4  6  1 16 12 17  1 15  7  6  4 18  4  6  1  1 21 25 23 23  1\n",
            "  22  7 11  1  1 24  0  1 12  7  1  1 25  1 23 23  1 12  4 18  4  6  1 23\n",
            "   7 18  4  1 16 12 22 13]\n",
            " [ 7 17 22  1 13 11  2  1 22  7 11  1  1  2  7 20  1  1 16 12 17  1 25  1\n",
            "  23 23  1 12  4 18  4  6  1 20 16  6  6 22  1 16 12 22 13  7 17 22 24  0\n",
            "  13 11  2  1 22  7 11  1 16 12 17  1 22  7 11  1 16 25 12  1  2  1  2  7\n",
            "   1  4 18  4  6  1 20 16]\n",
            " [ 6  6 22  1 16 12 22 13  7 17 22  1 13 11  2  1 20  4  1  1  4 25  2  3\n",
            "   4  6  1  1 24  0  1  9  4  6  2 16 25 12 23 22  1  1  7 15  1  9  7 11\n",
            "   6 19  4  1  1  2  3 16  2  1 19  1  1  5 16  6  2  1  1  7 15  1 25  2\n",
            "   1  1 16 12 17  1 16 23]\n",
            " [21 16 22 19  1  9  7 20 25 12 10  1  2  7  1 19  9  3  7  7 23 24  0  7\n",
            "   6  1 21  3  4 12  1 21  4  1  6  4  1 10  7 25 12 10  1  3  7 20  4  1\n",
            "   1 22  7 11  1  6  4  1  2  7  1 21 16 23 14  1 21 25  2  3  1 20  4  1\n",
            "   1 21  3  4 12  1  2  3]\n",
            " [ 4  6  4  1 16 25 12  1  2 24  0 16 12 22 13  7 17 22  1 23  7  7 14 25\n",
            "  12 10  1 16 12 17  1 22  7 11  1  9  3  7  7 19  4  1 20  4  1 16 12 17\n",
            "   1 25  1  9  3  7  7 19  4  1 22  7 11  1 16  2  1  5 16  6  2 25  4 19\n",
            "   1  1 13  4  9 16 11 19]]\n"
          ]
        }
      ],
      "source": [
        "# Choose sequence length\n",
        "seqlen = 80\n",
        "\n",
        "# we create a function which takes the input, an index value, and the sequence length as arguments\n",
        "# We create sequences of same length by using the modulo (%) which divides our input into 500 letter sequences while the remainder is discarded\n",
        "def prepare_sequences(letters, unk_index, seqlen=seqlen):\n",
        "  # We calculate the remainder of our corpus length divided by the chosen sequence length\n",
        "  trunc_length = len(letters) % seqlen\n",
        "  # We create a two dimentional array of shape (, 100) by taking away the trunc_length remainder from the start of the corpus\n",
        "  X = np.array(letters)[trunc_length:].reshape((-1, seqlen))\n",
        "  # Similarly, a (, 100) dimensional array is created for the corpus with the added unk_index by taking away the remainder from the start of the corpus\n",
        "  # The output is a shifted by 1, with unk_index representing the next letter to predict.\n",
        "  y = np.array(letters + [unk_index])[trunc_length + 1:].reshape((-1, seqlen))\n",
        "  return X, y\n",
        "\n",
        "# The unk_index is set to the vocabulary index for \"<UNK>\"\n",
        "Xtrain, ytrain = prepare_sequences(train_indices, letter_to_index[\"<UNK>\"])\n",
        "Xtest, ytest = prepare_sequences(test_indices, letter_to_index[\"<UNK>\"])\n",
        "\n",
        "\n",
        "print(Xtrain.shape, ytrain.shape)\n",
        "print(Xtest.shape, ytest.shape)\n",
        "\n",
        "print(Xtrain[:10])\n"
      ]
    },
    {
      "cell_type": "code",
      "execution_count": 79,
      "metadata": {
        "id": "DMauwpOHY2Ff"
      },
      "outputs": [],
      "source": [
        "# This function calculates the perplexity by taking the product of all predicted probabilities, take the geometric mean, and the inverse\n",
        "def perplexity(y_true, y_pred):\n",
        "  cross_entropy = tf.losses.sparse_categorical_crossentropy(y_true, y_pred)\n",
        "  perplexity = tf.exp(tf.reduce_mean(cross_entropy))\n",
        "  return perplexity\n",
        "\n",
        "#A sequential model is built with vocab length as input and output width, 250 as input length, and low learning rate\n",
        "def build_model(input_width=len(vocab), input_length=seqlen, output_width=len(vocab), learning_rate=0.01):\n",
        " model = Sequential()\n",
        "\n",
        "  # the Embedding layer transforms each input into a unique vector of length output_dim, its aim is dimensionality reduction\n",
        "  # Through the unique vectors the model learns relationships between the inputs\n",
        "  #The current model has used different output dimensions (25, 64, 128)\n",
        "  #Using longer vectors has lead to less perplexity, repectively ...\n",
        " model.add(Embedding(input_dim=input_width, output_dim=128, input_length=input_length))\n",
        "\n",
        "  #The following LSTM models\n",
        " model.add(LSTM(30, return_sequences=True, activation='tanh'))\n",
        " model.add(Dropout(0.2))\n",
        " model.add(LSTM(30, return_sequences=True, activation='tanh'))\n",
        " model.add(TimeDistributed(Dense(input_width, activation='softmax')));\n",
        " model.compile(loss='sparse_categorical_crossentropy', optimizer=Adam(learning_rate=learning_rate), metrics=[perplexity])\n",
        " return model\n",
        "\n",
        "LSTMmodel = build_model()\n",
        "\n",
        "#model.build(input_shape=(94, 100))\n",
        "#Inspect\n",
        "\n",
        "#print(model.summary())"
      ]
    },
    {
      "cell_type": "code",
      "execution_count": 84,
      "metadata": {
        "colab": {
          "base_uri": "https://localhost:8080/"
        },
        "id": "Hfrg_QKHY6lh",
        "outputId": "01e0e52a-005e-48e3-fcef-23bd3fcf7d6b"
      },
      "outputs": [
        {
          "output_type": "stream",
          "name": "stdout",
          "text": [
            "Epoch 1/200\n",
            "\u001b[1m899/899\u001b[0m \u001b[32m━━━━━━━━━━━━━━━━━━━━\u001b[0m\u001b[37m\u001b[0m \u001b[1m111s\u001b[0m 123ms/step - loss: 1.7369 - perplexity: 5.6811 - val_loss: 1.6328 - val_perplexity: 5.1217\n",
            "Epoch 2/200\n",
            "\u001b[1m899/899\u001b[0m \u001b[32m━━━━━━━━━━━━━━━━━━━━\u001b[0m\u001b[37m\u001b[0m \u001b[1m141s\u001b[0m 122ms/step - loss: 1.7357 - perplexity: 5.6744 - val_loss: 1.6398 - val_perplexity: 5.1575\n",
            "Epoch 3/200\n",
            "\u001b[1m899/899\u001b[0m \u001b[32m━━━━━━━━━━━━━━━━━━━━\u001b[0m\u001b[37m\u001b[0m \u001b[1m141s\u001b[0m 122ms/step - loss: 1.7355 - perplexity: 5.6733 - val_loss: 1.6398 - val_perplexity: 5.1577\n",
            "Epoch 4/200\n",
            "\u001b[1m899/899\u001b[0m \u001b[32m━━━━━━━━━━━━━━━━━━━━\u001b[0m\u001b[37m\u001b[0m \u001b[1m143s\u001b[0m 123ms/step - loss: 1.7345 - perplexity: 5.6675 - val_loss: 1.6374 - val_perplexity: 5.1456\n",
            "Epoch 5/200\n",
            "\u001b[1m899/899\u001b[0m \u001b[32m━━━━━━━━━━━━━━━━━━━━\u001b[0m\u001b[37m\u001b[0m \u001b[1m142s\u001b[0m 123ms/step - loss: 1.7357 - perplexity: 5.6744 - val_loss: 1.6421 - val_perplexity: 5.1695\n",
            "Epoch 6/200\n",
            "\u001b[1m899/899\u001b[0m \u001b[32m━━━━━━━━━━━━━━━━━━━━\u001b[0m\u001b[37m\u001b[0m \u001b[1m143s\u001b[0m 124ms/step - loss: 1.7379 - perplexity: 5.6864 - val_loss: 1.6424 - val_perplexity: 5.1712\n",
            "Epoch 7/200\n",
            "\u001b[1m899/899\u001b[0m \u001b[32m━━━━━━━━━━━━━━━━━━━━\u001b[0m\u001b[37m\u001b[0m \u001b[1m112s\u001b[0m 125ms/step - loss: 1.7370 - perplexity: 5.6818 - val_loss: 1.6360 - val_perplexity: 5.1379\n",
            "Epoch 8/200\n",
            "\u001b[1m899/899\u001b[0m \u001b[32m━━━━━━━━━━━━━━━━━━━━\u001b[0m\u001b[37m\u001b[0m \u001b[1m113s\u001b[0m 126ms/step - loss: 1.7357 - perplexity: 5.6740 - val_loss: 1.6377 - val_perplexity: 5.1469\n",
            "Epoch 9/200\n",
            "\u001b[1m899/899\u001b[0m \u001b[32m━━━━━━━━━━━━━━━━━━━━\u001b[0m\u001b[37m\u001b[0m \u001b[1m113s\u001b[0m 125ms/step - loss: 1.7322 - perplexity: 5.6543 - val_loss: 1.6319 - val_perplexity: 5.1170\n",
            "Epoch 10/200\n",
            "\u001b[1m899/899\u001b[0m \u001b[32m━━━━━━━━━━━━━━━━━━━━\u001b[0m\u001b[37m\u001b[0m \u001b[1m139s\u001b[0m 122ms/step - loss: 1.7352 - perplexity: 5.6717 - val_loss: 1.6362 - val_perplexity: 5.1393\n",
            "Epoch 11/200\n",
            "\u001b[1m899/899\u001b[0m \u001b[32m━━━━━━━━━━━━━━━━━━━━\u001b[0m\u001b[37m\u001b[0m \u001b[1m113s\u001b[0m 126ms/step - loss: 1.7343 - perplexity: 5.6661 - val_loss: 1.6341 - val_perplexity: 5.1285\n",
            "Epoch 12/200\n",
            "\u001b[1m899/899\u001b[0m \u001b[32m━━━━━━━━━━━━━━━━━━━━\u001b[0m\u001b[37m\u001b[0m \u001b[1m114s\u001b[0m 127ms/step - loss: 1.7353 - perplexity: 5.6722 - val_loss: 1.6424 - val_perplexity: 5.1710\n",
            "Epoch 13/200\n",
            "\u001b[1m899/899\u001b[0m \u001b[32m━━━━━━━━━━━━━━━━━━━━\u001b[0m\u001b[37m\u001b[0m \u001b[1m138s\u001b[0m 122ms/step - loss: 1.7353 - perplexity: 5.6716 - val_loss: 1.6416 - val_perplexity: 5.1669\n",
            "Epoch 14/200\n",
            "\u001b[1m899/899\u001b[0m \u001b[32m━━━━━━━━━━━━━━━━━━━━\u001b[0m\u001b[37m\u001b[0m \u001b[1m111s\u001b[0m 124ms/step - loss: 1.7370 - perplexity: 5.6818 - val_loss: 1.6327 - val_perplexity: 5.1216\n",
            "Epoch 15/200\n",
            "\u001b[1m899/899\u001b[0m \u001b[32m━━━━━━━━━━━━━━━━━━━━\u001b[0m\u001b[37m\u001b[0m \u001b[1m140s\u001b[0m 122ms/step - loss: 1.7341 - perplexity: 5.6651 - val_loss: 1.6360 - val_perplexity: 5.1380\n",
            "Epoch 16/200\n",
            "\u001b[1m899/899\u001b[0m \u001b[32m━━━━━━━━━━━━━━━━━━━━\u001b[0m\u001b[37m\u001b[0m \u001b[1m113s\u001b[0m 126ms/step - loss: 1.7353 - perplexity: 5.6723 - val_loss: 1.6375 - val_perplexity: 5.1461\n",
            "Epoch 17/200\n",
            "\u001b[1m899/899\u001b[0m \u001b[32m━━━━━━━━━━━━━━━━━━━━\u001b[0m\u001b[37m\u001b[0m \u001b[1m140s\u001b[0m 124ms/step - loss: 1.7345 - perplexity: 5.6672 - val_loss: 1.6400 - val_perplexity: 5.1586\n",
            "Epoch 18/200\n",
            "\u001b[1m899/899\u001b[0m \u001b[32m━━━━━━━━━━━━━━━━━━━━\u001b[0m\u001b[37m\u001b[0m \u001b[1m141s\u001b[0m 123ms/step - loss: 1.7353 - perplexity: 5.6721 - val_loss: 1.6394 - val_perplexity: 5.1558\n",
            "Epoch 19/200\n",
            "\u001b[1m899/899\u001b[0m \u001b[32m━━━━━━━━━━━━━━━━━━━━\u001b[0m\u001b[37m\u001b[0m \u001b[1m112s\u001b[0m 124ms/step - loss: 1.7349 - perplexity: 5.6695 - val_loss: 1.6315 - val_perplexity: 5.1151\n",
            "Epoch 20/200\n",
            "\u001b[1m899/899\u001b[0m \u001b[32m━━━━━━━━━━━━━━━━━━━━\u001b[0m\u001b[37m\u001b[0m \u001b[1m141s\u001b[0m 123ms/step - loss: 1.7355 - perplexity: 5.6731 - val_loss: 1.6372 - val_perplexity: 5.1444\n",
            "Epoch 21/200\n",
            "\u001b[1m899/899\u001b[0m \u001b[32m━━━━━━━━━━━━━━━━━━━━\u001b[0m\u001b[37m\u001b[0m \u001b[1m112s\u001b[0m 125ms/step - loss: 1.7348 - perplexity: 5.6690 - val_loss: 1.6410 - val_perplexity: 5.1640\n",
            "Epoch 22/200\n",
            "\u001b[1m899/899\u001b[0m \u001b[32m━━━━━━━━━━━━━━━━━━━━\u001b[0m\u001b[37m\u001b[0m \u001b[1m143s\u001b[0m 126ms/step - loss: 1.7335 - perplexity: 5.6620 - val_loss: 1.6422 - val_perplexity: 5.1705\n",
            "Epoch 23/200\n",
            "\u001b[1m899/899\u001b[0m \u001b[32m━━━━━━━━━━━━━━━━━━━━\u001b[0m\u001b[37m\u001b[0m \u001b[1m111s\u001b[0m 123ms/step - loss: 1.7376 - perplexity: 5.6847 - val_loss: 1.6348 - val_perplexity: 5.1320\n",
            "Epoch 24/200\n",
            "\u001b[1m899/899\u001b[0m \u001b[32m━━━━━━━━━━━━━━━━━━━━\u001b[0m\u001b[37m\u001b[0m \u001b[1m142s\u001b[0m 124ms/step - loss: 1.7339 - perplexity: 5.6641 - val_loss: 1.6348 - val_perplexity: 5.1320\n",
            "Epoch 25/200\n",
            "\u001b[1m899/899\u001b[0m \u001b[32m━━━━━━━━━━━━━━━━━━━━\u001b[0m\u001b[37m\u001b[0m \u001b[1m142s\u001b[0m 123ms/step - loss: 1.7337 - perplexity: 5.6632 - val_loss: 1.6364 - val_perplexity: 5.1405\n",
            "Epoch 26/200\n",
            "\u001b[1m899/899\u001b[0m \u001b[32m━━━━━━━━━━━━━━━━━━━━\u001b[0m\u001b[37m\u001b[0m \u001b[1m143s\u001b[0m 124ms/step - loss: 1.7328 - perplexity: 5.6578 - val_loss: 1.6337 - val_perplexity: 5.1265\n",
            "Epoch 27/200\n",
            "\u001b[1m899/899\u001b[0m \u001b[32m━━━━━━━━━━━━━━━━━━━━\u001b[0m\u001b[37m\u001b[0m \u001b[1m141s\u001b[0m 123ms/step - loss: 1.7332 - perplexity: 5.6598 - val_loss: 1.6330 - val_perplexity: 5.1228\n",
            "Epoch 28/200\n",
            "\u001b[1m899/899\u001b[0m \u001b[32m━━━━━━━━━━━━━━━━━━━━\u001b[0m\u001b[37m\u001b[0m \u001b[1m143s\u001b[0m 125ms/step - loss: 1.7401 - perplexity: 5.6995 - val_loss: 1.6382 - val_perplexity: 5.1493\n",
            "Epoch 29/200\n",
            "\u001b[1m899/899\u001b[0m \u001b[32m━━━━━━━━━━━━━━━━━━━━\u001b[0m\u001b[37m\u001b[0m \u001b[1m143s\u001b[0m 126ms/step - loss: 1.7368 - perplexity: 5.6805 - val_loss: 1.6327 - val_perplexity: 5.1214\n",
            "Epoch 30/200\n",
            "\u001b[1m899/899\u001b[0m \u001b[32m━━━━━━━━━━━━━━━━━━━━\u001b[0m\u001b[37m\u001b[0m \u001b[1m139s\u001b[0m 123ms/step - loss: 1.7338 - perplexity: 5.6632 - val_loss: 1.6343 - val_perplexity: 5.1294\n",
            "Epoch 31/200\n",
            "\u001b[1m899/899\u001b[0m \u001b[32m━━━━━━━━━━━━━━━━━━━━\u001b[0m\u001b[37m\u001b[0m \u001b[1m111s\u001b[0m 124ms/step - loss: 1.7351 - perplexity: 5.6705 - val_loss: 1.6350 - val_perplexity: 5.1331\n",
            "Epoch 32/200\n",
            "\u001b[1m899/899\u001b[0m \u001b[32m━━━━━━━━━━━━━━━━━━━━\u001b[0m\u001b[37m\u001b[0m \u001b[1m140s\u001b[0m 122ms/step - loss: 1.7350 - perplexity: 5.6704 - val_loss: 1.6385 - val_perplexity: 5.1512\n",
            "Epoch 33/200\n",
            "\u001b[1m899/899\u001b[0m \u001b[32m━━━━━━━━━━━━━━━━━━━━\u001b[0m\u001b[37m\u001b[0m \u001b[1m113s\u001b[0m 126ms/step - loss: 1.7337 - perplexity: 5.6631 - val_loss: 1.6381 - val_perplexity: 5.1492\n",
            "Epoch 34/200\n",
            "\u001b[1m899/899\u001b[0m \u001b[32m━━━━━━━━━━━━━━━━━━━━\u001b[0m\u001b[37m\u001b[0m \u001b[1m141s\u001b[0m 124ms/step - loss: 1.7342 - perplexity: 5.6654 - val_loss: 1.6325 - val_perplexity: 5.1204\n",
            "Epoch 35/200\n",
            "\u001b[1m899/899\u001b[0m \u001b[32m━━━━━━━━━━━━━━━━━━━━\u001b[0m\u001b[37m\u001b[0m \u001b[1m141s\u001b[0m 123ms/step - loss: 1.7339 - perplexity: 5.6642 - val_loss: 1.6324 - val_perplexity: 5.1195\n",
            "Epoch 36/200\n",
            "\u001b[1m899/899\u001b[0m \u001b[32m━━━━━━━━━━━━━━━━━━━━\u001b[0m\u001b[37m\u001b[0m \u001b[1m110s\u001b[0m 122ms/step - loss: 1.7330 - perplexity: 5.6590 - val_loss: 1.6349 - val_perplexity: 5.1324\n",
            "Epoch 37/200\n",
            "\u001b[1m899/899\u001b[0m \u001b[32m━━━━━━━━━━━━━━━━━━━━\u001b[0m\u001b[37m\u001b[0m \u001b[1m143s\u001b[0m 124ms/step - loss: 1.7344 - perplexity: 5.6668 - val_loss: 1.6350 - val_perplexity: 5.1331\n",
            "Epoch 38/200\n",
            "\u001b[1m899/899\u001b[0m \u001b[32m━━━━━━━━━━━━━━━━━━━━\u001b[0m\u001b[37m\u001b[0m \u001b[1m141s\u001b[0m 122ms/step - loss: 1.7343 - perplexity: 5.6660 - val_loss: 1.6381 - val_perplexity: 5.1488\n",
            "Epoch 39/200\n",
            "\u001b[1m899/899\u001b[0m \u001b[32m━━━━━━━━━━━━━━━━━━━━\u001b[0m\u001b[37m\u001b[0m \u001b[1m144s\u001b[0m 125ms/step - loss: 1.7341 - perplexity: 5.6654 - val_loss: 1.6317 - val_perplexity: 5.1161\n"
          ]
        }
      ],
      "source": [
        "# model.fit is used on the training data.\n",
        "# Ten percent of the training data is used for validation - the remaining amount is plit into 216 batches of 94 sequences each, which are trained for 100 epochs.\n",
        "# EarlyStopping is part of the tensorflow package, it will monitor a specific value (in this case, 'val_loss'), and it will stop if there has been no meaningful change for five epochs\n",
        "# This helps to avoid overfitting\n",
        "training_model = LSTMmodel.fit(Xtrain,ytrain, batch_size=70, validation_split=0.10, epochs=200, callbacks=EarlyStopping(monitor=\"val_loss\", patience=20))"
      ]
    },
    {
      "cell_type": "code",
      "execution_count": 81,
      "metadata": {
        "colab": {
          "base_uri": "https://localhost:8080/",
          "height": 326
        },
        "id": "F_YSlhYIbQSQ",
        "outputId": "9ca038ac-218b-40d3-ffca-7a69146651c7"
      },
      "outputs": [
        {
          "output_type": "display_data",
          "data": {
            "text/plain": [
              "<Figure size 1600x500 with 2 Axes>"
            ],
            "image/png": "[encoded data removed]"
          },
          "metadata": {}
        }
      ],
      "source": [
        "# Make two graphs, plotting respectively the Loss and Perplexity values\n",
        "\n",
        "def plot_training_history(training_model):\n",
        "  # Choose the number of plots, how they should appear (side to side), and the size of the final figure\n",
        "  fig, axs = plt.subplots(1, 2, figsize=(16, 5))\n",
        "  # Plot 1: Loss - plot a line graph for both the training and validation set values throughout the different epochs ('loss' and 'val_loss') in training_info\n",
        "  axs[0].plot(training_model.history['loss'], label=\"training dataset\")\n",
        "  axs[0].plot(training_model.history['val_loss'], label=\"validation dataset\")\n",
        "  axs[0].set_xlabel(\"Epoch\")\n",
        "  axs[0].set_ylabel(\"Loss\")\n",
        "  axs[0].legend()\n",
        "  # Plot 2: Perplexity - plot a line graph for both the training and validation set values throughout the different epochs\n",
        "  axs[1].plot(training_model.history['perplexity'], label=\"training dataset\")\n",
        "  axs[1].plot(training_model.history['val_perplexity'], label=\"validation dataset\")\n",
        "  axs[1].set_xlabel(\"Epoch\")\n",
        "  axs[1].set_ylabel(\"Perplexity\")\n",
        "  axs[1].legend()\n",
        "\n",
        "  plt.show()\n",
        "\n",
        "plot_training_history(training_model)"
      ]
    },
    {
      "cell_type": "code",
      "execution_count": 82,
      "metadata": {
        "colab": {
          "base_uri": "https://localhost:8080/"
        },
        "id": "tzpCeOiBbVDo",
        "outputId": "71427359-4603-477f-e324-26e7675fef29"
      },
      "outputs": [
        {
          "output_type": "stream",
          "name": "stdout",
          "text": [
            "Test loss: 2.884222984313965\n",
            "Test perplexity: 17.902175903320312\n"
          ]
        }
      ],
      "source": [
        "# Calculate loss and perplexity. Both results are ..., indicating that ...\n",
        "# 5.87 test perplexity and 1.77 test loss for Embedding, output_dim = 28), EarlyStopping stopped at epoch 38\n",
        "test_loss, test_perplexity = model.evaluate(Xtest, ytest, verbose=0)\n",
        "print(\"Test loss:\", test_loss)\n",
        "print(\"Test perplexity:\", test_perplexity)"
      ]
    },
    {
      "cell_type": "code",
      "execution_count": 83,
      "metadata": {
        "colab": {
          "base_uri": "https://localhost:8080/"
        },
        "id": "tt6uPTLebal5",
        "outputId": "069b50af-ae28-4d52-ebf7-515ec259ade8"
      },
      "outputs": [
        {
          "output_type": "stream",
          "name": "stdout",
          "text": [
            "Next_three_letters: <s> Merry christ\n"
          ]
        }
      ],
      "source": [
        "\n",
        "#Map indexes stored through word_to_index() back to their original form\n",
        "index_to_letter = {i: l for l, i in letter_to_index.items()}\n",
        "\n",
        "# Choose seed text\n",
        "seed_text = \"<s> Merry christ\"\n",
        "# Choose how many characters you want the model to predict\n",
        "next_letters = 3\n",
        "#Create a list to add the tokenised and padded seed_text\n",
        "sequence = []\n",
        "\n",
        "#Lower, tokenise, and remove punctuation from seed_text\n",
        "for text in seed_text:\n",
        "  lower_t = [word.lower() for word in seed_text]\n",
        "  for words in lower_t:\n",
        "   tokenizer = RegexpTokenizer(r'\\w+')\n",
        "   token_word = tokenizer.tokenize(words)\n",
        "   for word in token_word:\n",
        "    for letter in word:\n",
        "      sequence.append(letter_to_index[letter])\n",
        "\n",
        "# Pad the sequence\n",
        "padded_seq = pad_sequences([sequence], maxlen = len(sequence), padding = \"post\")\n",
        "\n",
        "# Use model.predict to estimate how likely it is for each letter in the vocabulary to come after the seed_text\n",
        "for i in range(next_letters):\n",
        "  full_prediction = model.predict(padded_seq, verbose=0)\n",
        "  next_three_letters = full_prediction[0][len(padded_seq) + i]\n",
        "  # Use np.argmax to obtain the letter with the highest probability amongst the vocabulary items\n",
        "  prediction = index_to_letter[np.argmax(next_three_letters)]\n",
        "  # Add each prediction to the seed_text\n",
        "  seed_text += prediction\n",
        "\n",
        "\n",
        "# Print sequence\n",
        "print(\"Next_three_letters:\", seed_text)"
      ]
    },
    {
      "cell_type": "markdown",
      "metadata": {
        "id": "dBjuF5HY6AL3"
      },
      "source": [
        "1.\tData pre-processing\n",
        "\n",
        "The present notebook makes use of all the seven texts made available for this assignment; namely: \"The Adventures of Tom Sawyer\" (Book 1), \"Frankenstein\" (Book 2), \"Dracula\" (Book 3), \"Pride and Prejudice\"(Book 4), \"The Odyssey\" (Book 5), \"Moby Dick\" (Book 6), and \"Leviathan\" (Book 7). The pre-processing of the data was facilitated by the use of several NLTK classes, such as the nltk.lm.Vocabulary and flatten functions, the nltk.util.pad_sequence utility function, and the nltk.tokenize.RegexpTokenizer function.\n",
        "Upon inspection of the dataset, it became clear that the corpus contained letters belonging to non-Latin alphabets. Given the nature of the assignment - which required to build a language model able to predict the next three letters in a given English seed text - the data was pre-processed to include only letters that are part of the Latin alphabet by creating a new list which only comprised tokens present in the unicodedata dataset under the “LATIN” and “COMMON” lemma. The text was first tokenised at the sentence level, with punctuation, spaces, and newlines being eliminated and substituted by empty strings.\n",
        "The sequence was padded to obtain sequences of similar length. A single flattened list was then created with each letter from the corpus forming a separate item.  Using the nltk.lm.Vocabulary class with a cut-off parameter of 50, a list containing every letter present more than 50 times throughout the corpus. Analysis of the final dataset revealed a total length of 5737483 letters; a vocabulary set of 31 letters, which, upon inspection, included all letters of the English alphabet, as well as both designed chosen padding symbols (“< s>” and “< /s>”), and the empty string; while the total length of unique letters in the text was found to be 43, containing lesser used Latin alphabet letters, such as  .\n",
        "Finally, the list was separated into a training set, which comprised all the letters in the corpus apart of the first 100000, which were selected to be used for the test set. An index was then created to obtain a numerical equivalent of the items in the list based on their position in the vocabulary. After indexing the train and test sets, the data was reshaped into an array by partitioning each set into arrays of shape (, 100) using the modulo - this will consi: the training set, of dimension (22549, 250), and the test set, of dimension (400, 250). The training set will be further partitioned by using 10% for the validation set during training.\n",
        "\n",
        "2.\tRecurrent neural network model\n",
        "\n",
        "A recurrent neural network model was created with the following characteristics:\n",
        "\n",
        "a.\tEmbedding layer\n",
        "The Embedding layer transforms each one-hot encoded input into a unique vector, which then is used by the language model to keep track of the relationships between the tokens. The high-dimensional data is compressed, and the processing of dense vectors can make the model faster and more efficient. The letters that appear in similar context will have similar embeddings.\n",
        "The present model has been trained with vectors of different lengths - an input dimension of 28 yielded relatively high perplexity (5.87) and loss (1.76) values, while higher vector dimensions of length 64 (Perplexity = , Loss = ) and 128 (Perplexity = , Loss = ) showed significantly lower results. This may be due to …\n",
        "b.\t Long Short-Term Model\n",
        "After coverting our tokens to meaningful representations, two LSTM layers of shape ... were used to learn\n",
        "c.\tLong Short Term Model with dropout\n",
        "d.\tDense layer using the softmax activation function. The embedding layer\n",
        "7.2 work heavily with nltk we use several nltk classes such as vocabulary and utility functions such as pad_sequences neural networks are taken from tensorflow, adam the optimizer, time distributed is a layer that connects structure from a feedforward network to the lstm\n",
        "padding to be able to distinguish between sentences create a vocabulary giving cutoff as a parameters\n",
        "\n",
        "\n"
      ]
    }
  ],
  "metadata": {
    "colab": {
      "provenance": [],
      "history_visible": true,
      "mount_file_id": "1UGmaej6DpKxZ-YXKPbCP7CfKyFrCgDea",
      "authorship_tag": "ABX9TyPNN7qilDvXt4fF7Kyc4pUH",
      "include_colab_link": true
    },
    "kernelspec": {
      "display_name": "Python 3",
      "name": "python3"
    },
    "language_info": {
      "name": "python"
    }
  },
  "nbformat": 4,
  "nbformat_minor": 0
}