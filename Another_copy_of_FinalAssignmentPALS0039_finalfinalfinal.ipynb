{
  "cells": [
    {
      "cell_type": "markdown",
      "metadata": {
        "id": "view-in-github",
        "colab_type": "text"
      },
      "source": [
        "<a href=\"https://colab.research.google.com/github/ElioRame/ProgrammingAssignment2/blob/master/Another_copy_of_FinalAssignmentPALS0039_finalfinalfinal.ipynb\" target=\"_parent\"><img src=\"https://colab.research.google.com/assets/colab-badge.svg\" alt=\"Open In Colab\"/></a>"
      ]
    },
    {
      "cell_type": "code",
      "execution_count": 1,
      "metadata": {
        "colab": {
          "base_uri": "https://localhost:8080/"
        },
        "id": "Mn5DPIaA8HGI",
        "outputId": "dfbb5267-7bfb-435b-85aa-ae7a46897d54"
      },
      "outputs": [
        {
          "output_type": "stream",
          "name": "stdout",
          "text": [
            "['\\ufeffThe Project Gutenberg eBook of The Adventures of Tom Sawyer, Complete\\n', '    \\n', 'This ebook is for the use of anyone anywhere in the United States and\\n', 'most other parts of the world at no cost and with almost no restrictions\\n', 'whatsoever. You may copy it, give it away or re-use it under the terms\\n', 'of the Project Gutenberg License included with this ebook or online\\n', 'at www.gutenberg.org. If you are not located in the United States,\\n', 'you will have to check the laws of the country where you are located\\n', 'before using this eBook.\\n', '\\n', 'Title: The Adventures of Tom Sawyer, Complete\\n', '\\n', 'Author: Mark Twain\\n', '\\n', 'Release date: July 1, 2004 [eBook #74]\\n', '                Most recently updated: August 9, 2023\\n', '\\n', 'Language: English\\n', '\\n', 'Credits: David Widger\\n', '\\n', '\\n', '*** START OF THE PROJECT GUTENBERG EBOOK THE ADVENTURES OF TOM SAWYER, COMPLETE ***\\n', '\\n', '\\n', '\\n', '\\n', 'THE ADVENTURES OF TOM SAWYER\\n', '\\n', '\\n', 'By Mark Twain\\n', '\\n', '(Samuel Langhorne Clemens)\\n', '\\n', '\\n', '\\n', '\\n', 'CONTENTS\\n', '\\n', '\\n', 'CHAPTER I. Y-o-u-u Tom—Aunt Polly Decides Upon her Duty—Tom Practices\\n', 'Music—The Challenge—A Private Entrance\\n', '\\n', 'CHAPTER II. Strong Temptations—Strategic Movements—The Innocents\\n', 'Beguiled\\n', '\\n', 'CHAPTER III. Tom as a General—Triumph and Reward—Dismal\\n', 'Felicity—Commission and Omission\\n', '\\n', 'CHAPTER IV. Mental Acrobatics—Attending Sunday—School—The\\n']\n"
          ]
        }
      ],
      "source": [
        "# All seven books are used for the assignments, they are downloaded using read.lines() from library and renamed\n",
        "with open(\"/content/pg74.txt\") as TomSawyer:\n",
        "  Book1 = TomSawyer.readlines()\n",
        "with open(\"/content/pg84.txt\") as Frankenstein:\n",
        "  Book2 = Frankenstein.readlines()\n",
        "with open(\"/content/pg345.txt\") as Dracula:\n",
        "  Book3 = Dracula.readlines()\n",
        "with open(\"/content/pg1342.txt\") as PrideandPrejudice:\n",
        "  Book4 = PrideandPrejudice.readlines()\n",
        "with open(\"/content/pg1727.txt\") as Odissey:\n",
        "  Book5 = Odissey.readlines()\n",
        "with open(\"/content/pg2701.txt\") as MobyDick:\n",
        "  Book6 = MobyDick.readlines()\n",
        "with open(\"/content/pg3207.txt\") as Leviathan:\n",
        "  Book7 = Leviathan.readlines()\n",
        "\n",
        "# They are then added together to create a new list named 'data'\n",
        "data = Book1 + Book2 + Book3 + Book4 + Book5 + Book6 + Book7\n",
        "print(data[:50])"
      ]
    },
    {
      "cell_type": "code",
      "execution_count": 3,
      "metadata": {
        "colab": {
          "base_uri": "https://localhost:8080/"
        },
        "id": "D-T2aK-DX8UO",
        "outputId": "f24825c0-71ce-4365-f76e-7a5d92e860eb"
      },
      "outputs": [
        {
          "output_type": "stream",
          "name": "stderr",
          "text": [
            "[nltk_data] Downloading package punkt to /root/nltk_data...\n",
            "[nltk_data]   Package punkt is already up-to-date!\n",
            "[nltk_data] Downloading package punkt_tab to /root/nltk_data...\n",
            "[nltk_data]   Package punkt_tab is already up-to-date!\n"
          ]
        }
      ],
      "source": [
        "!pip install -U nltk>=3.7.0\n",
        "\n",
        "import nltk\n",
        "\n",
        "\n",
        "nltk.download(\"punkt\")\n",
        "nltk.download('punkt_tab')\n",
        "\n",
        "from nltk.lm import Vocabulary\n",
        "from nltk.util import pad_sequence\n",
        "from nltk.tokenize import RegexpTokenizer\n",
        "from nltk.lm.preprocessing import flatten\n",
        "\n",
        "\n",
        "import matplotlib.pyplot as plt\n",
        "%matplotlib inline\n",
        "\n",
        "import numpy as np\n",
        "import regex as re\n",
        "\n",
        "import tensorflow as tf\n",
        "from tensorflow.keras.models import Sequential, Model\n",
        "from tensorflow.keras.optimizers import Adam\n",
        "from tensorflow.keras.layers import Dense, Embedding, Flatten, LSTM, TimeDistributed, Dropout\n",
        "from tensorflow.keras.preprocessing.text import Tokenizer\n",
        "from tensorflow.keras.preprocessing.sequence import pad_sequences\n",
        "from tensorflow.keras.callbacks import EarlyStopping\n"
      ]
    },
    {
      "cell_type": "code",
      "execution_count": 5,
      "metadata": {
        "colab": {
          "base_uri": "https://localhost:8080/"
        },
        "id": "7Q1vaRZJYI2f",
        "outputId": "02c05efe-bbc0-40ee-d4c6-eef9d59ca994"
      },
      "outputs": [
        {
          "output_type": "stream",
          "name": "stdout",
          "text": [
            "Are all letters in the raw text part of the Latin alphabet? False\n",
            "Non-Latin letters in raw text: {'ῥ', 'ι', 'ὺ', '$', 'η', '4', ' ', '’', '“', '_', 'ἀ', '\\ufeff', '^', '·', '&', '}', '™', 'Μ', '/', 'τ', 'Ἰ', '7', 'υ', 'ζ', '2', 'ὡ', '(', 'ε', '\\n', '%', 'φ', 'ἦ', '0', 'Ν', '3', '?', 'θ', '\"', 'ὶ', 'ἔ', ')', '-', 'ώ', '#', '9', '1', '—', '•', '‘', 'ρ', 'ῶ', 'ὀ', 'μ', 'ὄ', 'κ', 'ν', 'σ', 'ί', 'ἄ', '{', '£', 'ς', '*', ';', 'ὦ', '”', 'ϰ', ':', 'ו', 'ῳ', 'λ', 'ἐ', 'δ', 'ἷ', 'π', '5', 'ῇ', 'ὼ', ']', 'έ', 'ἰ', 'ἠ', 'ο', 'ῆ', '.', 'ή', 'ח', 'ά', ',', '!', 'ῖ', 'γ', 'α', 'ύ', '6', 'ω', '8', '[', 'ό', 'χ'}\n",
            "Non-Latin letters in processed text: {'', '</s>', '<s>'} \n",
            "\n",
            "Inspect corpus: ['<s>', '', 't', 'h', 'e', '', 'p', 'r', 'o', 'j', 'e', 'c', 't', '', 'g', 'u', 't', 'e', 'n', 'b', 'e', 'r', 'g', '', 'e']\n",
            "Length of corpus: 5737483 \n",
            "\n",
            "Unique letters: {'', 'z', 'd', '<s>', 's', 'g', '</s>', 'v', 'r', 'h', 'l', 'u', 'á', 'n', 'a', 'ê', 'œ', 'k', 'c', 'o', 'â', 'í', 'j', 'ï', 'q', 'æ', 'ë', 'è', 'e', 'm', 'y', 'ô', 'ö', 'b', 'i', 'à', 'ù', 'w', 'p', 'f', 't', 'x', 'é'}\n",
            "Unique letters in corpus: 43 \n",
            "\n",
            "Vocabulary: ['<s>', '', 't', 'h', 'e', 'p', 'r', 'o', 'j', 'c', 'g', 'u', 'n', 'b', 'k', 'f', 'a', 'd', 'v', 's', 'm', 'w', 'y', 'l', '</s>', 'i', 'z', 'x', 'q', 'æ', '<UNK>']\n",
            "Length of vocabulary: 31 \n",
            "\n",
            "Discarded letters: ['á', 'ê', 'œ', 'â', 'í', 'ï', 'ë', 'è', 'ô', 'ö', 'à', 'ù', 'é']\n"
          ]
        }
      ],
      "source": [
        "import string\n",
        "import collections\n",
        "import operator\n",
        "import unicodedata\n",
        "\n",
        "# Check whether non-Latin alphabet characters are present in the data\n",
        "# Eliminate non-English characters and punctuation by first defining a function that identifies, using booleans, whether\n",
        "# all characters are alphabetical and part of the Latin alphabet script in the unicodedata function\n",
        "# This function also preserves common occurring symbols that are not part of the Latin alphabet (i.e. currency)\n",
        "# Unicode gives access to list of characters through specifications (in this case 'LATIN' and 'COMMON')\n",
        "# Therefore it identifies as True items that are part of the latin alphabet\n",
        "def is_english_letter(letters):\n",
        "  return str(letters).isalpha() and unicodedata.name(letters).startswith(('LATIN', 'COMMON'))\n",
        "\n",
        "# Check if present data contains only letters that are part of the Latin alphabet\n",
        "unwanted_letters = []\n",
        "for sentence in data:\n",
        "  for letter in sentence:\n",
        "   if is_english_letter(letter) == False:\n",
        "    unwanted_letters.append(letter)\n",
        "print(\"Are all letters in the raw text part of the Latin alphabet?\", is_english_letter(data))\n",
        "print(\"Non-Latin letters in raw text:\", set(unwanted_letters))\n",
        "\n",
        "# There are characters belonging to different alphabets\n",
        "# Process the dataset to eliminate unwanted characters\n",
        "# if the item is part of the latin alphabet it is added to a new list\n",
        "def remove_non_english_letters(data):\n",
        "    english_list = []\n",
        "    for letter in data:\n",
        "        filtered = filter(is_english_letter, list(letter))\n",
        "        english_string = \"\".join(filtered)\n",
        "        english_list.append(english_string)\n",
        "\n",
        "    return english_list\n",
        "\n",
        "# Create a list to append the padded and processed text\n",
        "letters = []\n",
        "\n",
        "# Texts are stripped of empty strings and spaces and split into a list of lists\n",
        "# Every item in the list is a sentence in the text, split at every newline\n",
        "for text in data:\n",
        "  split_text = text.splitlines()\n",
        "  for sentence in split_text:\n",
        "   # The following code creates a new list. For all the sentences in the text, all letters are made lowercase\n",
        "   # This creates a new list of lists with every letter in every list forming a separate token\n",
        "     lower_text = [letter.lower() for letter in sentence]\n",
        "   # All letters that don't belong to the English alphabet are removed\n",
        "     eng_text = remove_non_english_letters(lower_text)\n",
        "   # The corpus is padded at the sentence level by using <s> at the start, and </s> at the end, of every sentence\n",
        "     padded_corpus = list(pad_sequence(eng_text, n=2, pad_left=True, left_pad_symbol=\"<s>\", pad_right=True, right_pad_symbol=\"</s>\"))\n",
        "   # The padded corpus is appended to the list \"letters\"\n",
        "     letters.append(padded_corpus)\n",
        "\n",
        "\n",
        "# The corpus is flattened to create a single list with all padded sentences\n",
        "corpus = list(flatten(letters))\n",
        "\n",
        "\n",
        "# A vocabulary is created using nltk.vocab which gives us a list of all the letters that appear in the text for 50 times or more\n",
        "vocab = Vocabulary(corpus, unk_cutoff=50)\n",
        "\n",
        "# Data from the corpus is partitioned into train and test sets\n",
        "test_letters = corpus[:100000]\n",
        "train_letters = corpus[100000:]\n",
        "\n",
        "# Check if foreign letters were successfully excluded\n",
        "latin_false  = []\n",
        "for i in corpus:\n",
        "  if is_english_letter(i) == False:\n",
        "    latin_false.append(i)\n",
        "print(\"Non-Latin letters in processed text:\", set(latin_false), \"\\n\")\n",
        "\n",
        "# Inspection shows the presence of 31 vocab words, consistent with the English alphabet with added '<UNK>' and padding, as well as empty spaces between words\n",
        "print(\"Inspect corpus:\", corpus[:25])\n",
        "print(\"Length of corpus:\", len(corpus), \"\\n\")\n",
        "\n",
        "print(\"Unique letters:\", set(corpus))\n",
        "print(\"Length of unique letters in corpus:\", len(set(corpus)), \"\\n\")\n",
        "\n",
        "show_vocab = [i for i in vocab]\n",
        "print(\"Vocabulary:\", show_vocab)\n",
        "print(\"Length of vocabulary:\", len(vocab), \"\\n\")\n",
        "\n",
        "for i in set(corpus):\n",
        "    discarded_letters = [i for i in set(corpus) if i not in vocab]\n",
        "print(\"Discarded letters:\", discarded_letters)\n",
        "\n"
      ]
    },
    {
      "cell_type": "code",
      "execution_count": 6,
      "metadata": {
        "colab": {
          "base_uri": "https://localhost:8080/"
        },
        "id": "N55ekRQ7Ye72",
        "outputId": "442a4252-8cec-4887-bc09-b6df96b71f6c"
      },
      "outputs": [
        {
          "output_type": "stream",
          "name": "stdout",
          "text": [
            "[2, 1, 19, 23, 16, 2, 3, 4, 6, 19, 1, 7, 15, 1, 20, 7, 12, 4, 22, 1, 20, 7, 19, 2, 1]\n",
            "[0, 1, 2, 3, 4, 1, 5, 6, 7, 8, 4, 9, 2, 1, 10, 11, 2, 4, 12, 13, 4, 6, 10, 1, 4]\n"
          ]
        }
      ],
      "source": [
        "#Create a dictionary that maps letters to their indexes within the vocab. We iterate though the words in our vocabulary and assign an index to each one\n",
        "#The index then becomes the key value to our letter\n",
        "letter_to_index = {l: i for i, l in enumerate(vocab)}\n",
        "# i.e. if vocab = abcdefg\n",
        "# word_to_index = {a : 1, b : 2, c : 3, d : 4, e : 5, f : 6, g : 6}\n",
        "# The function maps data to index in the vocab so that the word 'cab' = [3, 1, 2]\n",
        "\n",
        "\n",
        "# We iterate through all the letters in the training and test sets and convert each letter to the index using the letter_to_index dictionary and the lookup function\n",
        "# which will return the correct index for each letter\n",
        "train_indices = [letter_to_index[vocab.lookup(l)] for l in train_letters]\n",
        "test_indices = [letter_to_index[vocab.lookup(l)] for l in test_letters]\n",
        "\n",
        "# A list of indexes can then be fed to the neural network\n",
        "print(train_indices[:25])\n",
        "print(test_indices[:25])\n",
        "\n",
        "\n"
      ]
    },
    {
      "cell_type": "code",
      "execution_count": 7,
      "metadata": {
        "colab": {
          "base_uri": "https://localhost:8080/"
        },
        "id": "45gOwWriYuc-",
        "outputId": "2d6f7b4f-c300-410d-f604-3eec602e04a2"
      },
      "outputs": [
        {
          "output_type": "stream",
          "name": "stdout",
          "text": [
            "(70468, 80) (70468, 80)\n",
            "(1250, 80) (1250, 80)\n"
          ]
        }
      ],
      "source": [
        "# Choose sequence length\n",
        "seqlen = 80\n",
        "\n",
        "# we create a function which takes the input, an index value, and the sequence length as arguments\n",
        "# We create sequences of same length by using the modulo (%) which divides our input into 80 letter sequences while the remainder is discarded\n",
        "def prepare_sequences(letters, unk_index, seqlen=seqlen):\n",
        "  # We calculate the remainder of our corpus length divided by the chosen sequence length\n",
        "  trunc_length = len(letters) % seqlen\n",
        "  # We create a two dimentional array of shape (, 80) by taking away the trunc_length remainder from the start of the corpus\n",
        "  X = np.array(letters)[trunc_length:].reshape((-1, seqlen))\n",
        "  # Similarly, a (, 80) dimensional array is created for the corpus with the added unk_index by taking away the remainder from the start of the corpus\n",
        "  # The output is a shifted by 1, with unk_index representing the next letter to predict.\n",
        "  y = np.array(letters + [unk_index])[trunc_length + 1:].reshape((-1, seqlen))\n",
        "  return X, y\n",
        "\n",
        "# The unk_index is set to the vocabulary index for \"<UNK>\"\n",
        "Xtrain, ytrain = prepare_sequences(train_indices, letter_to_index[\"<UNK>\"])\n",
        "Xtest, ytest = prepare_sequences(test_indices, letter_to_index[\"<UNK>\"])\n",
        "\n",
        "\n",
        "print(Xtrain.shape, ytrain.shape)\n",
        "print(Xtest.shape, ytest.shape)\n",
        "\n",
        "\n"
      ]
    },
    {
      "cell_type": "code",
      "execution_count": 51,
      "metadata": {
        "id": "DMauwpOHY2Ff",
        "colab": {
          "base_uri": "https://localhost:8080/",
          "height": 375
        },
        "outputId": "38e79122-b3a2-46ec-a19b-32b24c31974f"
      },
      "outputs": [
        {
          "output_type": "stream",
          "name": "stderr",
          "text": [
            "/usr/local/lib/python3.11/dist-packages/keras/src/layers/core/embedding.py:90: UserWarning: Argument `input_length` is deprecated. Just remove it.\n",
            "  warnings.warn(\n"
          ]
        },
        {
          "output_type": "display_data",
          "data": {
            "text/plain": [
              "\u001b[1mModel: \"sequential_2\"\u001b[0m\n"
            ],
            "text/html": [
              "<pre style=\"white-space:pre;overflow-x:auto;line-height:normal;font-family:Menlo,'DejaVu Sans Mono',consolas,'Courier New',monospace\"><span style=\"font-weight: bold\">Model: \"sequential_2\"</span>\n",
              "</pre>\n"
            ]
          },
          "metadata": {}
        },
        {
          "output_type": "display_data",
          "data": {
            "text/plain": [
              "┏━━━━━━━━━━━━━━━━━━━━━━━━━━━━━━━━━┳━━━━━━━━━━━━━━━━━━━━━━━━┳━━━━━━━━━━━━━━━┓\n",
              "┃\u001b[1m \u001b[0m\u001b[1mLayer (type)                   \u001b[0m\u001b[1m \u001b[0m┃\u001b[1m \u001b[0m\u001b[1mOutput Shape          \u001b[0m\u001b[1m \u001b[0m┃\u001b[1m \u001b[0m\u001b[1m      Param #\u001b[0m\u001b[1m \u001b[0m┃\n",
              "┡━━━━━━━━━━━━━━━━━━━━━━━━━━━━━━━━━╇━━━━━━━━━━━━━━━━━━━━━━━━╇━━━━━━━━━━━━━━━┩\n",
              "│ embedding_2 (\u001b[38;5;33mEmbedding\u001b[0m)         │ ?                      │   \u001b[38;5;34m0\u001b[0m (unbuilt) │\n",
              "├─────────────────────────────────┼────────────────────────┼───────────────┤\n",
              "│ lstm_4 (\u001b[38;5;33mLSTM\u001b[0m)                   │ ?                      │   \u001b[38;5;34m0\u001b[0m (unbuilt) │\n",
              "├─────────────────────────────────┼────────────────────────┼───────────────┤\n",
              "│ dropout_2 (\u001b[38;5;33mDropout\u001b[0m)             │ ?                      │             \u001b[38;5;34m0\u001b[0m │\n",
              "├─────────────────────────────────┼────────────────────────┼───────────────┤\n",
              "│ lstm_5 (\u001b[38;5;33mLSTM\u001b[0m)                   │ ?                      │   \u001b[38;5;34m0\u001b[0m (unbuilt) │\n",
              "├─────────────────────────────────┼────────────────────────┼───────────────┤\n",
              "│ time_distributed_2              │ ?                      │   \u001b[38;5;34m0\u001b[0m (unbuilt) │\n",
              "│ (\u001b[38;5;33mTimeDistributed\u001b[0m)               │                        │               │\n",
              "└─────────────────────────────────┴────────────────────────┴───────────────┘\n"
            ],
            "text/html": [
              "<pre style=\"white-space:pre;overflow-x:auto;line-height:normal;font-family:Menlo,'DejaVu Sans Mono',consolas,'Courier New',monospace\">┏━━━━━━━━━━━━━━━━━━━━━━━━━━━━━━━━━┳━━━━━━━━━━━━━━━━━━━━━━━━┳━━━━━━━━━━━━━━━┓\n",
              "┃<span style=\"font-weight: bold\"> Layer (type)                    </span>┃<span style=\"font-weight: bold\"> Output Shape           </span>┃<span style=\"font-weight: bold\">       Param # </span>┃\n",
              "┡━━━━━━━━━━━━━━━━━━━━━━━━━━━━━━━━━╇━━━━━━━━━━━━━━━━━━━━━━━━╇━━━━━━━━━━━━━━━┩\n",
              "│ embedding_2 (<span style=\"color: #0087ff; text-decoration-color: #0087ff\">Embedding</span>)         │ ?                      │   <span style=\"color: #00af00; text-decoration-color: #00af00\">0</span> (unbuilt) │\n",
              "├─────────────────────────────────┼────────────────────────┼───────────────┤\n",
              "│ lstm_4 (<span style=\"color: #0087ff; text-decoration-color: #0087ff\">LSTM</span>)                   │ ?                      │   <span style=\"color: #00af00; text-decoration-color: #00af00\">0</span> (unbuilt) │\n",
              "├─────────────────────────────────┼────────────────────────┼───────────────┤\n",
              "│ dropout_2 (<span style=\"color: #0087ff; text-decoration-color: #0087ff\">Dropout</span>)             │ ?                      │             <span style=\"color: #00af00; text-decoration-color: #00af00\">0</span> │\n",
              "├─────────────────────────────────┼────────────────────────┼───────────────┤\n",
              "│ lstm_5 (<span style=\"color: #0087ff; text-decoration-color: #0087ff\">LSTM</span>)                   │ ?                      │   <span style=\"color: #00af00; text-decoration-color: #00af00\">0</span> (unbuilt) │\n",
              "├─────────────────────────────────┼────────────────────────┼───────────────┤\n",
              "│ time_distributed_2              │ ?                      │   <span style=\"color: #00af00; text-decoration-color: #00af00\">0</span> (unbuilt) │\n",
              "│ (<span style=\"color: #0087ff; text-decoration-color: #0087ff\">TimeDistributed</span>)               │                        │               │\n",
              "└─────────────────────────────────┴────────────────────────┴───────────────┘\n",
              "</pre>\n"
            ]
          },
          "metadata": {}
        },
        {
          "output_type": "display_data",
          "data": {
            "text/plain": [
              "\u001b[1m Total params: \u001b[0m\u001b[38;5;34m0\u001b[0m (0.00 B)\n"
            ],
            "text/html": [
              "<pre style=\"white-space:pre;overflow-x:auto;line-height:normal;font-family:Menlo,'DejaVu Sans Mono',consolas,'Courier New',monospace\"><span style=\"font-weight: bold\"> Total params: </span><span style=\"color: #00af00; text-decoration-color: #00af00\">0</span> (0.00 B)\n",
              "</pre>\n"
            ]
          },
          "metadata": {}
        },
        {
          "output_type": "display_data",
          "data": {
            "text/plain": [
              "\u001b[1m Trainable params: \u001b[0m\u001b[38;5;34m0\u001b[0m (0.00 B)\n"
            ],
            "text/html": [
              "<pre style=\"white-space:pre;overflow-x:auto;line-height:normal;font-family:Menlo,'DejaVu Sans Mono',consolas,'Courier New',monospace\"><span style=\"font-weight: bold\"> Trainable params: </span><span style=\"color: #00af00; text-decoration-color: #00af00\">0</span> (0.00 B)\n",
              "</pre>\n"
            ]
          },
          "metadata": {}
        },
        {
          "output_type": "display_data",
          "data": {
            "text/plain": [
              "\u001b[1m Non-trainable params: \u001b[0m\u001b[38;5;34m0\u001b[0m (0.00 B)\n"
            ],
            "text/html": [
              "<pre style=\"white-space:pre;overflow-x:auto;line-height:normal;font-family:Menlo,'DejaVu Sans Mono',consolas,'Courier New',monospace\"><span style=\"font-weight: bold\"> Non-trainable params: </span><span style=\"color: #00af00; text-decoration-color: #00af00\">0</span> (0.00 B)\n",
              "</pre>\n"
            ]
          },
          "metadata": {}
        },
        {
          "output_type": "stream",
          "name": "stdout",
          "text": [
            "None\n"
          ]
        }
      ],
      "source": [
        "# This function calculates the perplexity by taking the product of all predicted probabilities, take the geometric mean, and the inverse\n",
        "def perplexity(y_true, y_pred):\n",
        "  cross_entropy = tf.losses.sparse_categorical_crossentropy(y_true, y_pred)\n",
        "  perplexity = tf.exp(tf.reduce_mean(cross_entropy))\n",
        "  return perplexity\n",
        "\n",
        "#A sequential model is built with vocab length as input and output width, 80 as input length, and low learning rate\n",
        "def build_model(input_width=len(vocab), input_length=seqlen, output_width=len(vocab), learning_rate=0.01):\n",
        " model = Sequential()\n",
        "\n",
        "  # the Embedding layer transforms each input into a unique vector of length output_dim, its aim is dimensionality reduction\n",
        "  # Through the unique vectors the model learns relationships between the inputs\n",
        " model.add(Embedding(input_dim=input_width, output_dim=128, input_length=seqlen))\n",
        "\n",
        "  #The following LSTM model returns the hidden state output for each input time step,\n",
        " model.add(LSTM(32, return_sequences=True, activation='tanh'))\n",
        " model.add(Dropout(0.2))\n",
        " model.add(LSTM(32, return_sequences=True, activation='tanh'))\n",
        " model.add(TimeDistributed(Dense(output_width, activation='softmax')));\n",
        " model.compile(loss='sparse_categorical_crossentropy', optimizer=Adam(learning_rate=learning_rate), metrics=[perplexity])\n",
        " return model\n",
        "\n",
        "LSTMmodel = build_model()\n",
        "\n",
        "\n",
        "#example_model = model.build(input_shape=(128, 80))\n",
        "#Inspect\n",
        "\n",
        "print(LSTMmodel.summary())"
      ]
    },
    {
      "cell_type": "code",
      "execution_count": null,
      "metadata": {
        "colab": {
          "base_uri": "https://localhost:8080/"
        },
        "id": "Hfrg_QKHY6lh",
        "outputId": "c5b9320a-726d-43eb-ce1b-2a6f7b5feb6a"
      },
      "outputs": [
        {
          "output_type": "stream",
          "name": "stdout",
          "text": [
            "Epoch 1/90\n",
            "\u001b[1m441/441\u001b[0m \u001b[32m━━━━━━━━━━━━━━━━━━━━\u001b[0m\u001b[37m\u001b[0m \u001b[1m89s\u001b[0m 187ms/step - loss: 2.4401 - perplexity: 12.2189 - val_loss: 1.9486 - val_perplexity: 7.0378\n",
            "Epoch 2/90\n",
            "\u001b[1m441/441\u001b[0m \u001b[32m━━━━━━━━━━━━━━━━━━━━\u001b[0m\u001b[37m\u001b[0m \u001b[1m141s\u001b[0m 185ms/step - loss: 1.9772 - perplexity: 7.2253 - val_loss: 1.8651 - val_perplexity: 6.4730\n",
            "Epoch 3/90\n",
            "\u001b[1m441/441\u001b[0m \u001b[32m━━━━━━━━━━━━━━━━━━━━\u001b[0m\u001b[37m\u001b[0m \u001b[1m81s\u001b[0m 183ms/step - loss: 1.9062 - perplexity: 6.7285 - val_loss: 1.8230 - val_perplexity: 6.2054\n",
            "Epoch 4/90\n",
            "\u001b[1m441/441\u001b[0m \u001b[32m━━━━━━━━━━━━━━━━━━━━\u001b[0m\u001b[37m\u001b[0m \u001b[1m82s\u001b[0m 184ms/step - loss: 1.8652 - perplexity: 6.4581 - val_loss: 1.7993 - val_perplexity: 6.0595\n",
            "Epoch 5/90\n",
            "\u001b[1m441/441\u001b[0m \u001b[32m━━━━━━━━━━━━━━━━━━━━\u001b[0m\u001b[37m\u001b[0m \u001b[1m82s\u001b[0m 184ms/step - loss: 1.8401 - perplexity: 6.2983 - val_loss: 1.7739 - val_perplexity: 5.9078\n",
            "Epoch 6/90\n",
            "\u001b[1m441/441\u001b[0m \u001b[32m━━━━━━━━━━━━━━━━━━━━\u001b[0m\u001b[37m\u001b[0m \u001b[1m81s\u001b[0m 183ms/step - loss: 1.8224 - perplexity: 6.1878 - val_loss: 1.7654 - val_perplexity: 5.8557\n",
            "Epoch 7/90\n",
            "\u001b[1m441/441\u001b[0m \u001b[32m━━━━━━━━━━━━━━━━━━━━\u001b[0m\u001b[37m\u001b[0m \u001b[1m81s\u001b[0m 184ms/step - loss: 1.8084 - perplexity: 6.1016 - val_loss: 1.7528 - val_perplexity: 5.7823\n",
            "Epoch 8/90\n",
            "\u001b[1m441/441\u001b[0m \u001b[32m━━━━━━━━━━━━━━━━━━━━\u001b[0m\u001b[37m\u001b[0m \u001b[1m80s\u001b[0m 182ms/step - loss: 1.7991 - perplexity: 6.0448 - val_loss: 1.7434 - val_perplexity: 5.7282\n",
            "Epoch 9/90\n",
            "\u001b[1m441/441\u001b[0m \u001b[32m━━━━━━━━━━━━━━━━━━━━\u001b[0m\u001b[37m\u001b[0m \u001b[1m82s\u001b[0m 184ms/step - loss: 1.7914 - perplexity: 5.9988 - val_loss: 1.7363 - val_perplexity: 5.6864\n",
            "Epoch 10/90\n",
            "\u001b[1m441/441\u001b[0m \u001b[32m━━━━━━━━━━━━━━━━━━━━\u001b[0m\u001b[37m\u001b[0m \u001b[1m81s\u001b[0m 185ms/step - loss: 1.7845 - perplexity: 5.9574 - val_loss: 1.7318 - val_perplexity: 5.6611\n",
            "Epoch 11/90\n",
            "\u001b[1m441/441\u001b[0m \u001b[32m━━━━━━━━━━━━━━━━━━━━\u001b[0m\u001b[37m\u001b[0m \u001b[1m81s\u001b[0m 183ms/step - loss: 1.7807 - perplexity: 5.9347 - val_loss: 1.7273 - val_perplexity: 5.6356\n",
            "Epoch 12/90\n",
            "\u001b[1m441/441\u001b[0m \u001b[32m━━━━━━━━━━━━━━━━━━━━\u001b[0m\u001b[37m\u001b[0m \u001b[1m87s\u001b[0m 194ms/step - loss: 1.7761 - perplexity: 5.9075 - val_loss: 1.7276 - val_perplexity: 5.6370\n",
            "Epoch 13/90\n",
            "\u001b[1m441/441\u001b[0m \u001b[32m━━━━━━━━━━━━━━━━━━━━\u001b[0m\u001b[37m\u001b[0m \u001b[1m138s\u001b[0m 186ms/step - loss: 1.7727 - perplexity: 5.8878 - val_loss: 1.7193 - val_perplexity: 5.5900\n",
            "Epoch 14/90\n",
            "\u001b[1m441/441\u001b[0m \u001b[32m━━━━━━━━━━━━━━━━━━━━\u001b[0m\u001b[37m\u001b[0m \u001b[1m141s\u001b[0m 185ms/step - loss: 1.7688 - perplexity: 5.8647 - val_loss: 1.7187 - val_perplexity: 5.5861\n",
            "Epoch 15/90\n",
            "\u001b[1m441/441\u001b[0m \u001b[32m━━━━━━━━━━━━━━━━━━━━\u001b[0m\u001b[37m\u001b[0m \u001b[1m81s\u001b[0m 183ms/step - loss: 1.7665 - perplexity: 5.8512 - val_loss: 1.7193 - val_perplexity: 5.5896\n",
            "Epoch 16/90\n",
            "\u001b[1m441/441\u001b[0m \u001b[32m━━━━━━━━━━━━━━━━━━━━\u001b[0m\u001b[37m\u001b[0m \u001b[1m86s\u001b[0m 195ms/step - loss: 1.7649 - perplexity: 5.8419 - val_loss: 1.7170 - val_perplexity: 5.5769\n",
            "Epoch 17/90\n",
            "\u001b[1m441/441\u001b[0m \u001b[32m━━━━━━━━━━━━━━━━━━━━\u001b[0m\u001b[37m\u001b[0m \u001b[1m142s\u001b[0m 195ms/step - loss: 1.7613 - perplexity: 5.8206 - val_loss: 1.7133 - val_perplexity: 5.5556\n",
            "Epoch 18/90\n",
            "\u001b[1m441/441\u001b[0m \u001b[32m━━━━━━━━━━━━━━━━━━━━\u001b[0m\u001b[37m\u001b[0m \u001b[1m137s\u001b[0m 183ms/step - loss: 1.7590 - perplexity: 5.8071 - val_loss: 1.7080 - val_perplexity: 5.5263\n",
            "Epoch 19/90\n",
            "\u001b[1m441/441\u001b[0m \u001b[32m━━━━━━━━━━━━━━━━━━━━\u001b[0m\u001b[37m\u001b[0m \u001b[1m82s\u001b[0m 183ms/step - loss: 1.7569 - perplexity: 5.7953 - val_loss: 1.7095 - val_perplexity: 5.5338\n",
            "Epoch 20/90\n",
            "\u001b[1m441/441\u001b[0m \u001b[32m━━━━━━━━━━━━━━━━━━━━\u001b[0m\u001b[37m\u001b[0m \u001b[1m86s\u001b[0m 194ms/step - loss: 1.7562 - perplexity: 5.7908 - val_loss: 1.7057 - val_perplexity: 5.5128\n",
            "Epoch 21/90\n",
            "\u001b[1m441/441\u001b[0m \u001b[32m━━━━━━━━━━━━━━━━━━━━\u001b[0m\u001b[37m\u001b[0m \u001b[1m142s\u001b[0m 195ms/step - loss: 1.7542 - perplexity: 5.7797 - val_loss: 1.7074 - val_perplexity: 5.5228\n",
            "Epoch 22/90\n",
            "\u001b[1m441/441\u001b[0m \u001b[32m━━━━━━━━━━━━━━━━━━━━\u001b[0m\u001b[37m\u001b[0m \u001b[1m86s\u001b[0m 195ms/step - loss: 1.7532 - perplexity: 5.7739 - val_loss: 1.7056 - val_perplexity: 5.5121\n",
            "Epoch 23/90\n",
            "\u001b[1m441/441\u001b[0m \u001b[32m━━━━━━━━━━━━━━━━━━━━\u001b[0m\u001b[37m\u001b[0m \u001b[1m81s\u001b[0m 184ms/step - loss: 1.7530 - perplexity: 5.7728 - val_loss: 1.7090 - val_perplexity: 5.5313\n",
            "Epoch 24/90\n",
            "\u001b[1m441/441\u001b[0m \u001b[32m━━━━━━━━━━━━━━━━━━━━\u001b[0m\u001b[37m\u001b[0m \u001b[1m82s\u001b[0m 184ms/step - loss: 1.7505 - perplexity: 5.7581 - val_loss: 1.7055 - val_perplexity: 5.5112\n",
            "Epoch 25/90\n",
            "\u001b[1m441/441\u001b[0m \u001b[32m━━━━━━━━━━━━━━━━━━━━\u001b[0m\u001b[37m\u001b[0m \u001b[1m87s\u001b[0m 195ms/step - loss: 1.7499 - perplexity: 5.7548 - val_loss: 1.7029 - val_perplexity: 5.4970\n",
            "Epoch 26/90\n",
            "\u001b[1m441/441\u001b[0m \u001b[32m━━━━━━━━━━━━━━━━━━━━\u001b[0m\u001b[37m\u001b[0m \u001b[1m86s\u001b[0m 195ms/step - loss: 1.7492 - perplexity: 5.7505 - val_loss: 1.7018 - val_perplexity: 5.4910\n",
            "Epoch 27/90\n",
            "\u001b[1m441/441\u001b[0m \u001b[32m━━━━━━━━━━━━━━━━━━━━\u001b[0m\u001b[37m\u001b[0m \u001b[1m138s\u001b[0m 185ms/step - loss: 1.7485 - perplexity: 5.7469 - val_loss: 1.7027 - val_perplexity: 5.4958\n",
            "Epoch 28/90\n",
            "\u001b[1m441/441\u001b[0m \u001b[32m━━━━━━━━━━━━━━━━━━━━\u001b[0m\u001b[37m\u001b[0m \u001b[1m81s\u001b[0m 184ms/step - loss: 1.7455 - perplexity: 5.7294 - val_loss: 1.7007 - val_perplexity: 5.4843\n",
            "Epoch 29/90\n",
            "\u001b[1m441/441\u001b[0m \u001b[32m━━━━━━━━━━━━━━━━━━━━\u001b[0m\u001b[37m\u001b[0m \u001b[1m82s\u001b[0m 185ms/step - loss: 1.7444 - perplexity: 5.7231 - val_loss: 1.7017 - val_perplexity: 5.4902\n",
            "Epoch 30/90\n",
            "\u001b[1m441/441\u001b[0m \u001b[32m━━━━━━━━━━━━━━━━━━━━\u001b[0m\u001b[37m\u001b[0m \u001b[1m81s\u001b[0m 184ms/step - loss: 1.7439 - perplexity: 5.7203 - val_loss: 1.7029 - val_perplexity: 5.4962\n",
            "Epoch 31/90\n",
            "\u001b[1m441/441\u001b[0m \u001b[32m━━━━━━━━━━━━━━━━━━━━\u001b[0m\u001b[37m\u001b[0m \u001b[1m87s\u001b[0m 197ms/step - loss: 1.7427 - perplexity: 5.7133 - val_loss: 1.7026 - val_perplexity: 5.4943\n",
            "Epoch 32/90\n",
            "\u001b[1m441/441\u001b[0m \u001b[32m━━━━━━━━━━━━━━━━━━━━\u001b[0m\u001b[37m\u001b[0m \u001b[1m141s\u001b[0m 195ms/step - loss: 1.7422 - perplexity: 5.7103 - val_loss: 1.7008 - val_perplexity: 5.4854\n",
            "Epoch 33/90\n",
            "\u001b[1m441/441\u001b[0m \u001b[32m━━━━━━━━━━━━━━━━━━━━\u001b[0m\u001b[37m\u001b[0m \u001b[1m86s\u001b[0m 196ms/step - loss: 1.7413 - perplexity: 5.7053 - val_loss: 1.6965 - val_perplexity: 5.4615\n",
            "Epoch 34/90\n",
            "\u001b[1m441/441\u001b[0m \u001b[32m━━━━━━━━━━━━━━━━━━━━\u001b[0m\u001b[37m\u001b[0m \u001b[1m142s\u001b[0m 195ms/step - loss: 1.7412 - perplexity: 5.7049 - val_loss: 1.7005 - val_perplexity: 5.4833\n",
            "Epoch 35/90\n",
            "\u001b[1m319/441\u001b[0m \u001b[32m━━━━━━━━━━━━━━\u001b[0m\u001b[37m━━━━━━\u001b[0m \u001b[1m20s\u001b[0m 171ms/step - loss: 1.7421 - perplexity: 5.7101"
          ]
        }
      ],
      "source": [
        "# model.fit is used on the training data.\n",
        "# Ten percent of the training data is used for validation - the remaining amount is plit into 441 batches of 218 sequences each, which are trained for 50 epochs.\n",
        "# EarlyStopping is part of the tensorflow package, it will monitor a specific value (in this case, 'val_loss'), and it will stop if there has been no meaningful change for ten epochs\n",
        "# This helps to avoid overfitting\n",
        "training_model = LSTMmodel.fit(Xtrain,ytrain, batch_size=128, validation_split=0.20, epochs=90, callbacks=EarlyStopping(monitor=\"val_loss\", patience=10))"
      ]
    },
    {
      "cell_type": "code",
      "execution_count": 49,
      "metadata": {
        "id": "F_YSlhYIbQSQ",
        "colab": {
          "base_uri": "https://localhost:8080/",
          "height": 465
        },
        "outputId": "ad0ca691-b3d4-4507-8b17-da28404b6c25"
      },
      "outputs": [
        {
          "output_type": "display_data",
          "data": {
            "text/plain": [
              "<Figure size 1600x500 with 2 Axes>"
            ],
            "image/png": "[encoded data removed]"
          },
          "metadata": {}
        }
      ],
      "source": [
        "# Make two graphs, plotting respectively the Loss and Perplexity values\n",
        "\n",
        "def plot_training_history(training_model):\n",
        "  # Choose the number of plots, how they should appear (side to side), and the size of the final figure\n",
        "  fig, axs = plt.subplots(1, 2, figsize=(16, 5))\n",
        "  # Plot 1: Loss - plot a line graph for both the training and validation set values throughout the different epochs ('loss' and 'val_loss') in training_info\n",
        "  axs[0].plot(training_model.history['loss'], label=\"training dataset\")\n",
        "  axs[0].plot(training_model.history['val_loss'], label=\"validation dataset\")\n",
        "  #axs[0].ylim((1, 10))\n",
        "  axs[0].set_xlabel(\"Epoch\")\n",
        "  axs[0].set_ylabel(\"Loss\")\n",
        "  axs[0].legend()\n",
        "  # Plot 2: Perplexity - plot a line graph for both the training and validation set values throughout the different epochs\n",
        "  axs[1].plot(training_model.history['perplexity'], label=\"training dataset\")\n",
        "  axs[1].plot(training_model.history['val_perplexity'], label=\"validation dataset\")\n",
        "  #axs[1].set_y_lim(0, 31)\n",
        "  axs[1].set_xlabel(\"Epoch\")\n",
        "  axs[1].set_ylabel(\"Perplexity\")\n",
        "  axs[1].legend()\n",
        "\n",
        "  plt.show()\n",
        "\n",
        "plot_training_history(training_model)"
      ]
    },
    {
      "cell_type": "code",
      "execution_count": 27,
      "metadata": {
        "id": "tzpCeOiBbVDo",
        "colab": {
          "base_uri": "https://localhost:8080/"
        },
        "outputId": "ee513000-ae27-453c-ccec-05dda9d3d795"
      },
      "outputs": [
        {
          "output_type": "stream",
          "name": "stdout",
          "text": [
            "Test loss: 1.7342791557312012\n",
            "Test perplexity: 5.69478178024292\n"
          ]
        }
      ],
      "source": [
        "# Calculate loss and perplexity\n",
        "# 5.87 test perplexity and 1.77 test loss for Embedding, output_dim = 28), EarlyStopping stopped at epoch 38\n",
        "test_loss, test_perplexity = LSTMmodel.evaluate(Xtest, ytest, verbose=0)\n",
        "print(\"Test loss:\", test_loss)\n",
        "print(\"Test perplexity:\", test_perplexity)"
      ]
    },
    {
      "cell_type": "code",
      "execution_count": 45,
      "metadata": {
        "id": "tt6uPTLebal5",
        "colab": {
          "base_uri": "https://localhost:8080/"
        },
        "outputId": "a46ce378-3da0-4fcc-c806-9230a30e9295"
      },
      "outputs": [
        {
          "output_type": "stream",
          "name": "stdout",
          "text": [
            "Next_three_letters: <s> Have a merrene\n"
          ]
        }
      ],
      "source": [
        "\n",
        "#Map indexes stored through word_to_index() back to their original form\n",
        "index_to_letter = {i: l for l, i in letter_to_index.items()}\n",
        "\n",
        "# Choose seed text\n",
        "seed_text = \"<s> \"\n",
        "# Choose how many characters you want the model to predict\n",
        "next_letters = 3\n",
        "#Create a list to add the tokenised and padded seed_text\n",
        "sequence = []\n",
        "\n",
        "#Lower, tokenise, and remove punctuation from seed_text\n",
        "for text in seed_text:\n",
        "  lower_t = [word.lower() for word in seed_text]\n",
        "  for words in lower_t:\n",
        "   tokenizer = RegexpTokenizer(r'\\w+')\n",
        "   token_word = tokenizer.tokenize(words)\n",
        "   for word in token_word:\n",
        "    for letter in word:\n",
        "      sequence.append(letter_to_index[letter])\n",
        "\n",
        "# Pad the sequence\n",
        "padded_seq = pad_sequences([sequence], maxlen = len(sequence), padding = \"post\")\n",
        "\n",
        "# Use model.predict to estimate how likely it is for each letter in the vocabulary to come after the seed_text\n",
        "for i in range(next_letters):\n",
        "  full_prediction = LSTMmodel.predict(padded_seq, verbose=0)\n",
        "  next_three_letters = full_prediction[0][len(padded_seq) + i]\n",
        "  # Use np.argmax to obtain the letter with the highest probability amongst the vocabulary items\n",
        "  prediction = index_to_letter[np.argmax(next_three_letters)]\n",
        "  # Add each prediction to the seed_text\n",
        "  seed_text += prediction\n",
        "\n",
        "\n",
        "# Print sequence\n",
        "print(\"Next_three_letters:\", seed_text)"
      ]
    },
    {
      "cell_type": "markdown",
      "metadata": {
        "id": "dBjuF5HY6AL3"
      },
      "source": [
        "1.\tData pre-processing\n",
        "\n",
        "The present notebook makes use of all the seven texts made available for this assignment; namely: \"The Adventures of Tom Sawyer\" (Book 1), \"Frankenstein\" (Book 2), \"Dracula\" (Book 3), \"Pride and Prejudice\"(Book 4), \"The Odyssey\" (Book 5), \"Moby Dick\" (Book 6), and \"Leviathan\" (Book 7). The pre-processing of the data was facilitated by the use of several NLTK classes, such as the nltk.lm.Vocabulary and flatten functions, the nltk.util.pad_sequence utility function, and the nltk.tokenize.RegexpTokenizer function.\n",
        "Upon inspection of the dataset, it became clear that the corpus contained letters belonging to non-Latin alphabets. Given the nature of the assignment - which required to build a language model able to predict the next three letters in a given English seed text - the data was pre-processed to include only letters that are part of the Latin alphabet by creating a new list which only comprised tokens present in the unicodedata dataset under the “LATIN” and “COMMON” code. The text was first stripped of empty strings and tokenised at the newline level. After eliminating foreign alphabet characters, the tokens were padded at the start and at the end of each sequence. A single flattened list was then created with each letter from the corpus forming a separate item. The empty spaces between words were kept, as they provided the model with useful information about the way in which different letters unfold into sequences of words, which may lead to a higher rate of correct predictions.\n",
        "\n",
        "Using the nltk.lm.Vocabulary class, a list containing every letter present more than 50 times throughout the corpus was made. Analysis of the final dataset revealed a total length of 5737483 letters; a vocabulary set of 31 letters, which, upon inspection, included all letters of the English alphabet, as well as both designed chosen padding symbols (“< s>” and “< /s>”); while the total length of unique letters in the text was found to be 43, containing letters whose frequency was deemed to low to be relevant for the task ('ö', 'á', 'í', 'â', 'é', 'œ', 'à', 'ê', 'ù', 'ï', 'ë', 'ô', 'è'). Finally, the list was separated into a training set, which comprised all the letters in the corpus apart of the first 100000, which were selected to be used for the test set.\n",
        "\n",
        "The aim of the neural network will be to predict which letter from the vocabulary is more likely to follow a text sequence - to this end, an index was then created to obtain a numerical equivalent of each letter in the list based on their position in the vocabulary. After indexing the train and test sets, the data was reshaped into an array by partitioning each set into arrays of shape (, 80) to obtain sequences of similar length: the training set, of dimension (70468, 80), and the test set, of dimension (1250, 80). An 80/20 split between the training and validation test was chosen for training over 200 epochs, with EarlyStopping being set at 10 to avoid overfitting - the model will monitor the loss function for the validation set and stop if the gradient descent has not decreased for more than 10 epochs.\n",
        "\n",
        "2.\tRecurrent neural network model\n",
        "\n",
        "A sequential recurrent neural network model was created with the following characteristics:\n",
        "\n",
        "a.\tEmbedding layer\n",
        "\n",
        "The Embedding layer transforms each one-hot encoded input into a unique vector, which then is used by the language model to keep track of the relationships between the tokens; The letters that appear in similar context will have similar embeddings. The high-dimensional data is compressed, and the processing of dense vectors can make the model faster and more efficient.\n",
        "The present model has been trained with vectors of different lengths - an input dimension of 28 yielded relatively high perplexity (5.87) and loss (1.76) values, while higher vector dimensions of 128 (Perplexity = , Loss = ) showed significantly lower results. This may be due to the complexity of the dataset, a longer vector may be able to capture more complex relationships between letters in the corpus.\n",
        "\n",
        "b.\t Long Short-Term Model\n",
        "\n",
        "After coverting our tokens to meaningful representations, an LSTM layer with 32 memory units was used to predict the next letter in the sequence while keeping track of the previous input.The network's internal gates allow the model to be trained through backpropagation and prevent vanishing gradient. The model returns the hidden state output for each input time step so that the output can be fed forward to a second LSTM hidden layer.\n",
        "\n",
        "c. Dropout layer\n",
        "The LSTM was followed by a dropout layer; this layer will randomly set 20% of the weights to zero before feeding the input to a second LSTM layer, which will have to re-learn some of the lost input. This layer has been added to avoid overfitting of the data.\n",
        "\n",
        "d.\tLong Short Term Model with dropout\n",
        "The second LSTM model, of shape 32, updates the weights based on the input received by the dropout layer, re-learns some of the lost relationships between the tokens and forwards it to the next fully connected layer\n",
        "\n",
        "d.\tDense layer\n",
        "A final dense layer takes the output from the LSTM model and, using a softmax function, forces it into an integer between 0 and 1 representing. Opposite to the embedding layer, its role is to take the embeddings and return them to their one-hot encoded form in order to predict the needed vocabulary character. The TimeDistributed function was used to ... . Sparse categorical crossentropy. Adam. Perplexity.\n",
        "\n",
        "After 100 epochs, the training was stopped as the loss function for the validation set stopped decreasing. Why loss? Two graphs were made showing the Loss and Perplexity values for both the training and validation sets. Inspection of the graphs shows that both sets are descending into convergence; however, the model does not present overfitting.\n",
        "By using the model.predict() function, it's possible to confirm that the model generalises relatively well to unseen data, with the loss and perplexity values being similar to the ones observed at the local minimum for this model (Perplexity = , Loss = ). This result shows that the model's predictions of the next letter are as good as a random guess between close to six of the vocabulary characters. This remains a high degree of uncertainty - as made evident by using a seed_text (\"< s> Merry christ\") and asking the model to predict the next three letters, the model was able to accurately predict only one out of the three letters (\"m\")\n",
        "\n",
        "\n",
        "3. Limitations and alternative solutions\n",
        "\n",
        "Size of corpus\n",
        "\n",
        "N-grams\n",
        "\n",
        "Autoencoders\n",
        "\n"
      ]
    }
  ],
  "metadata": {
    "colab": {
      "provenance": [],
      "mount_file_id": "1UGmaej6DpKxZ-YXKPbCP7CfKyFrCgDea",
      "authorship_tag": "ABX9TyNPRpakkHUicZt/D31EpPJI",
      "include_colab_link": true
    },
    "kernelspec": {
      "display_name": "Python 3",
      "name": "python3"
    },
    "language_info": {
      "name": "python"
    }
  },
  "nbformat": 4,
  "nbformat_minor": 0
}