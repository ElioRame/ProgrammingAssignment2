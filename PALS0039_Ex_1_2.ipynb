{
  "nbformat": 4,
  "nbformat_minor": 0,
  "metadata": {
    "colab": {
      "provenance": [],
      "include_colab_link": true
    },
    "kernelspec": {
      "name": "python3",
      "display_name": "Python 3"
    },
    "language_info": {
      "name": "python"
    }
  },
  "cells": [
    {
      "cell_type": "markdown",
      "metadata": {
        "id": "view-in-github",
        "colab_type": "text"
      },
      "source": [
        "<a href=\"https://colab.research.google.com/github/ElioRame/ProgrammingAssignment2/blob/master/PALS0039_Ex_1_2.ipynb\" target=\"_parent\"><img src=\"https://colab.research.google.com/assets/colab-badge.svg\" alt=\"Open In Colab\"/></a>"
      ]
    },
    {
      "cell_type": "markdown",
      "source": [
        "[![PALS0039 Logo](https://www.phon.ucl.ac.uk/courses/pals0039/images/pals0039logo.png)](https://www.phon.ucl.ac.uk/courses/pals0039/)\n",
        "\n",
        "# Exercise 1.2 Numpy and Scipy practice\n",
        "\n",
        "In this exercise we practise using the Numpy and Scipy libraries to manipulate arrays of numbers.\n",
        "\n",
        "(a) Generate an *array* of integers 1-100, then find the *sum*, *mean* and *sum of squares* of the array.\n",
        "\n",
        "Hint: You will find the following references useful for [array creation](https://numpy.org/doc/stable/reference/routines.array-creation.html), [mathematical operations](https://numpy.org/doc/stable/reference/routines.math.html) and [statistics](https://numpy.org/doc/stable/reference/routines.statistics.html).\n"
      ],
      "metadata": {
        "id": "Ns-04P4l0LhL"
      }
    },
    {
      "cell_type": "code",
      "source": [
        "import numpy as np\n",
        "import scipy.stats as ss\n",
        "array = np.arange(1, 101)\n",
        "sum_array = sum(array)\n",
        "m = np.mean(array)\n",
        "squares = 0\n",
        "for i in array:\n",
        "  square = i**2\n",
        "  squares += square\n",
        "print(array, sum_array, m, squares)\n",
        "#(a)\n",
        "#ANSWER"
      ],
      "metadata": {
        "id": "D5zLs2aLCfAC",
        "outputId": "f4406e0f-5d12-4fe2-f923-014c665a0f3c",
        "colab": {
          "base_uri": "https://localhost:8080/"
        }
      },
      "execution_count": 69,
      "outputs": [
        {
          "output_type": "stream",
          "name": "stdout",
          "text": [
            "[  1   2   3   4   5   6   7   8   9  10  11  12  13  14  15  16  17  18\n",
            "  19  20  21  22  23  24  25  26  27  28  29  30  31  32  33  34  35  36\n",
            "  37  38  39  40  41  42  43  44  45  46  47  48  49  50  51  52  53  54\n",
            "  55  56  57  58  59  60  61  62  63  64  65  66  67  68  69  70  71  72\n",
            "  73  74  75  76  77  78  79  80  81  82  83  84  85  86  87  88  89  90\n",
            "  91  92  93  94  95  96  97  98  99 100] 5050 50.5 338350\n"
          ]
        }
      ]
    },
    {
      "cell_type": "markdown",
      "source": [
        "(b) Generate an array of 100 pseudo-random numbers from a *uniform distribution* between 0 and 1. Find the smallest value in the array. Find the largest value in the array. Report the 25th, 50th and 75th percentiles of the values in the array.\n",
        "\n",
        "Hint: The numpy documentation contains a quick start guide to [generating random numbers](https://numpy.org/doc/stable/reference/random/index.html)."
      ],
      "metadata": {
        "id": "C15uElTtCbgZ"
      }
    },
    {
      "cell_type": "code",
      "execution_count": 72,
      "metadata": {
        "id": "gH4R1G2m0GEd",
        "outputId": "45d95b5f-fa36-4a7c-9c0c-a224cb32656f",
        "colab": {
          "base_uri": "https://localhost:8080/",
          "height": 742
        }
      },
      "outputs": [
        {
          "output_type": "stream",
          "name": "stdout",
          "text": [
            "[0.65278498 0.86016098 0.88411423 0.38666824 0.7453131  0.34150761\n",
            " 0.76566978 0.20122988 0.98570192 0.25480124 0.12305363 0.24679168\n",
            " 0.17762256 0.26255425 0.76801996 0.50532613 0.24212161 0.96270741\n",
            " 0.04897352 0.04331141 0.28812643 0.31147485 0.43568273 0.23361634\n",
            " 0.26476725 0.83637979 0.10985745 0.66613894 0.75861567 0.53658305\n",
            " 0.38372956 0.00102716 0.53094611 0.42674267 0.47259828 0.1518728\n",
            " 0.46523057 0.25477586 0.24967366 0.58692473 0.93215477 0.9771147\n",
            " 0.27481124 0.0158173  0.02868196 0.26989954 0.16456372 0.55654258\n",
            " 0.15437777 0.34197201 0.10990543 0.99549407 0.06236936 0.32873386\n",
            " 0.13438847 0.7954161  0.38578321 0.88330166 0.72278254 0.84719133\n",
            " 0.81933977 0.73405927 0.50313469 0.73369423 0.66780845 0.63958412\n",
            " 0.27654229 0.46761447 0.51469002 0.91886264 0.86373112 0.00303913\n",
            " 0.65784463 0.15323049 0.13413634 0.47804091 0.32659625 0.57971183\n",
            " 0.48179972 0.77512736 0.81516958 0.74043088 0.26138743 0.42259869\n",
            " 0.03028583 0.1083897  0.14915561 0.91216894 0.89282547 0.34246188\n",
            " 0.98677779 0.61925663 0.78671477 0.12146879 0.1184184  0.35867351\n",
            " 0.03302783 0.77248763 0.51972012 0.22589215] 0.0010271565245326686 0.9954940687003972 0.23168529398585316 0.4312126995651946 0.7416514343656209\n"
          ]
        },
        {
          "output_type": "execute_result",
          "data": {
            "text/plain": [
              "[<matplotlib.lines.Line2D at 0x7d7ea02e7190>]"
            ]
          },
          "metadata": {},
          "execution_count": 72
        },
        {
          "output_type": "display_data",
          "data": {
            "text/plain": [
              "<Figure size 640x480 with 1 Axes>"
            ],
            "image/png": "[encoded data removed]"
          },
          "metadata": {}
        }
      ],
      "source": [
        "#(b)\n",
        "import matplotlib.pyplot as plt\n",
        "rng = np.random.default_rng(seed=72)\n",
        "y = np.random.uniform(low = 0, high = 1, size = 100)\n",
        "#y = rng.random(100) # both can be used for uniform distribution\n",
        "\n",
        "min_y = min(y)\n",
        "max_y = max(y)\n",
        "lower_p, medium_p, higher_p = np.percentile(y, (25, 50, 75))\n",
        "\n",
        "x_values = np.arange(start = 0, stop = 1, step = 0.01)\n",
        "count, bins, ignored = plt.hist(y, 10, density=True)\n",
        "\n",
        "print(y, min_y, max_y, lower_p, medium_p, higher_p)\n",
        "plt.plot(bins, np.ones_like(bins), linewidth=2, color='r')\n",
        "#ANSWER"
      ]
    },
    {
      "cell_type": "markdown",
      "source": [
        "(c) Recall the two pre-defined *normal distributions* from a previous exercise (given in the code block below). Generate an array of 1000 values from each distribution by *random sampling* and find the minimum, maximum and percentile values (as before) for each of them.\n",
        "\n",
        "Hint: The Python variables representing the distributions have a method for random sampling (refer to [this documentation](https://docs.scipy.org/doc/scipy/reference/generated/scipy.stats.norm.html))."
      ],
      "metadata": {
        "id": "GTjRG-h3Cky4"
      }
    },
    {
      "cell_type": "code",
      "source": [
        "import scipy.stats as ss\n",
        "import random\n",
        "random.seed(72)\n",
        "f_pitch_mean, f_pitch_sdev = 160.0, 15.0\n",
        "m_pitch_mean, m_pitch_sdev = 120.0, 11.7\n",
        "\n",
        "f_pitch_distribution = ss.norm(f_pitch_mean, f_pitch_sdev)\n",
        "m_pitch_distribution = ss.norm(m_pitch_mean, m_pitch_sdev)\n",
        "\n",
        "#(c)\n",
        "#ANSWER\n",
        "\n",
        "x = np.random.uniform(low = 40, high = 230, size = 1000)\n",
        "f = f_pitch_distribution.pdf(x)\n",
        "\n",
        "lower_pf, medium_pf, higher_pf = np.percentile(f, (25, 50, 75))\n",
        "min_f, max_f = min(f), max(f)\n",
        "\n",
        "s = min_f, max_f, lower_pf, medium_pf, higher_pf\n",
        "print(s)\n",
        "print(sorted(s))"
      ],
      "metadata": {
        "id": "MMQNaB_BPbCK",
        "outputId": "2d1d85e5-e56c-46e2-f9b1-74517e5e22e0",
        "colab": {
          "base_uri": "https://localhost:8080/"
        }
      },
      "execution_count": 117,
      "outputs": [
        {
          "output_type": "stream",
          "name": "stdout",
          "text": [
            "(np.float64(3.5553802148336913e-16), np.float64(0.02659472182037522), np.float64(3.7026571186616504e-07), np.float64(0.0001852980827078823), np.float64(0.006300774108439991))\n",
            "[np.float64(3.5553802148336913e-16), np.float64(3.7026571186616504e-07), np.float64(0.0001852980827078823), np.float64(0.006300774108439991), np.float64(0.02659472182037522)]\n"
          ]
        }
      ]
    },
    {
      "cell_type": "markdown",
      "source": [
        "(d) Partition the **female pitch samples** generated in the previous answer into 10 sets of 100 samples and calculate the median of each set.\n",
        "\n",
        "Hint: The original array of values can be [reshaped](https://numpy.org/doc/stable/reference/generated/numpy.reshape.html) into a matrix with 10 rows by 100 columns and the [`median`](https://numpy.org/doc/stable/reference/generated/numpy.median.html)  function accepts an `axis` parameter which can apply it row-wise or column-wise."
      ],
      "metadata": {
        "id": "3OrcnzfAV45k"
      }
    },
    {
      "cell_type": "code",
      "source": [
        "#(d)\n",
        "#ANSWER\n",
        "sub_array = np.split(f, 10)\n",
        "matrix = np.reshape(sub_array, [10, 100])\n",
        "m0 = np.median(matrix[0])\n",
        "m1 = np.median()matrix[1], matrix[2], matrix[3], matrix[4])\n",
        "\n",
        "\n",
        "\n",
        "print(matrix, m0, m1, m2, m3, m4)\n",
        "#0.0004698602393854316"
      ],
      "metadata": {
        "id": "TiPvsEVhYC60",
        "outputId": "c8253f3d-bb91-4fe5-8e64-c8a03db8826a",
        "colab": {
          "base_uri": "https://localhost:8080/",
          "height": 356
        }
      },
      "execution_count": 127,
      "outputs": [
        {
          "output_type": "error",
          "ename": "TypeError",
          "evalue": "integer argument expected, got float",
          "traceback": [
            "\u001b[0;31m---------------------------------------------------------------------------\u001b[0m",
            "\u001b[0;31mTypeError\u001b[0m                                 Traceback (most recent call last)",
            "\u001b[0;32m<ipython-input-127-36c4be0403e7>\u001b[0m in \u001b[0;36m<cell line: 0>\u001b[0;34m()\u001b[0m\n\u001b[1;32m      3\u001b[0m \u001b[0msub_array\u001b[0m \u001b[0;34m=\u001b[0m \u001b[0mnp\u001b[0m\u001b[0;34m.\u001b[0m\u001b[0msplit\u001b[0m\u001b[0;34m(\u001b[0m\u001b[0mf\u001b[0m\u001b[0;34m,\u001b[0m \u001b[0;36m10\u001b[0m\u001b[0;34m)\u001b[0m\u001b[0;34m\u001b[0m\u001b[0;34m\u001b[0m\u001b[0m\n\u001b[1;32m      4\u001b[0m \u001b[0mmatrix\u001b[0m \u001b[0;34m=\u001b[0m \u001b[0mnp\u001b[0m\u001b[0;34m.\u001b[0m\u001b[0mreshape\u001b[0m\u001b[0;34m(\u001b[0m\u001b[0msub_array\u001b[0m\u001b[0;34m,\u001b[0m \u001b[0;34m[\u001b[0m\u001b[0;36m10\u001b[0m\u001b[0;34m,\u001b[0m \u001b[0;36m100\u001b[0m\u001b[0;34m]\u001b[0m\u001b[0;34m)\u001b[0m\u001b[0;34m\u001b[0m\u001b[0;34m\u001b[0m\u001b[0m\n\u001b[0;32m----> 5\u001b[0;31m \u001b[0mm0\u001b[0m\u001b[0;34m,\u001b[0m \u001b[0mm1\u001b[0m\u001b[0;34m,\u001b[0m \u001b[0mm2\u001b[0m\u001b[0;34m,\u001b[0m \u001b[0mm3\u001b[0m\u001b[0;34m,\u001b[0m \u001b[0mm4\u001b[0m \u001b[0;34m=\u001b[0m \u001b[0mnp\u001b[0m\u001b[0;34m.\u001b[0m\u001b[0mmedian\u001b[0m\u001b[0;34m(\u001b[0m\u001b[0mmatrix\u001b[0m\u001b[0;34m[\u001b[0m\u001b[0;36m0\u001b[0m\u001b[0;34m]\u001b[0m\u001b[0;34m,\u001b[0m \u001b[0mmatrix\u001b[0m\u001b[0;34m[\u001b[0m\u001b[0;36m1\u001b[0m\u001b[0;34m]\u001b[0m\u001b[0;34m,\u001b[0m \u001b[0mmatrix\u001b[0m\u001b[0;34m[\u001b[0m\u001b[0;36m2\u001b[0m\u001b[0;34m]\u001b[0m\u001b[0;34m,\u001b[0m \u001b[0mmatrix\u001b[0m\u001b[0;34m[\u001b[0m\u001b[0;36m3\u001b[0m\u001b[0;34m]\u001b[0m\u001b[0;34m,\u001b[0m \u001b[0mmatrix\u001b[0m\u001b[0;34m[\u001b[0m\u001b[0;36m4\u001b[0m\u001b[0;34m]\u001b[0m\u001b[0;34m)\u001b[0m\u001b[0;34m\u001b[0m\u001b[0;34m\u001b[0m\u001b[0m\n\u001b[0m\u001b[1;32m      6\u001b[0m \u001b[0;34m\u001b[0m\u001b[0m\n\u001b[1;32m      7\u001b[0m \u001b[0;34m\u001b[0m\u001b[0m\n",
            "\u001b[0;32m/usr/local/lib/python3.11/dist-packages/numpy/lib/_function_base_impl.py\u001b[0m in \u001b[0;36mmedian\u001b[0;34m(a, axis, out, overwrite_input, keepdims)\u001b[0m\n\u001b[1;32m   3874\u001b[0m \u001b[0;34m\u001b[0m\u001b[0m\n\u001b[1;32m   3875\u001b[0m     \"\"\"\n\u001b[0;32m-> 3876\u001b[0;31m     return _ureduce(a, func=_median, keepdims=keepdims, axis=axis, out=out,\n\u001b[0m\u001b[1;32m   3877\u001b[0m                     overwrite_input=overwrite_input)\n\u001b[1;32m   3878\u001b[0m \u001b[0;34m\u001b[0m\u001b[0m\n",
            "\u001b[0;32m/usr/local/lib/python3.11/dist-packages/numpy/lib/_function_base_impl.py\u001b[0m in \u001b[0;36m_ureduce\u001b[0;34m(a, func, keepdims, **kwargs)\u001b[0m\n\u001b[1;32m   3737\u001b[0m     \u001b[0mnd\u001b[0m \u001b[0;34m=\u001b[0m \u001b[0ma\u001b[0m\u001b[0;34m.\u001b[0m\u001b[0mndim\u001b[0m\u001b[0;34m\u001b[0m\u001b[0;34m\u001b[0m\u001b[0m\n\u001b[1;32m   3738\u001b[0m     \u001b[0;32mif\u001b[0m \u001b[0maxis\u001b[0m \u001b[0;32mis\u001b[0m \u001b[0;32mnot\u001b[0m \u001b[0;32mNone\u001b[0m\u001b[0;34m:\u001b[0m\u001b[0;34m\u001b[0m\u001b[0;34m\u001b[0m\u001b[0m\n\u001b[0;32m-> 3739\u001b[0;31m         \u001b[0maxis\u001b[0m \u001b[0;34m=\u001b[0m \u001b[0m_nx\u001b[0m\u001b[0;34m.\u001b[0m\u001b[0mnormalize_axis_tuple\u001b[0m\u001b[0;34m(\u001b[0m\u001b[0maxis\u001b[0m\u001b[0;34m,\u001b[0m \u001b[0mnd\u001b[0m\u001b[0;34m)\u001b[0m\u001b[0;34m\u001b[0m\u001b[0;34m\u001b[0m\u001b[0m\n\u001b[0m\u001b[1;32m   3740\u001b[0m \u001b[0;34m\u001b[0m\u001b[0m\n\u001b[1;32m   3741\u001b[0m         \u001b[0;32mif\u001b[0m \u001b[0mkeepdims\u001b[0m\u001b[0;34m:\u001b[0m\u001b[0;34m\u001b[0m\u001b[0;34m\u001b[0m\u001b[0m\n",
            "\u001b[0;32m/usr/local/lib/python3.11/dist-packages/numpy/_core/numeric.py\u001b[0m in \u001b[0;36mnormalize_axis_tuple\u001b[0;34m(axis, ndim, argname, allow_duplicate)\u001b[0m\n\u001b[1;32m   1422\u001b[0m             \u001b[0;32mpass\u001b[0m\u001b[0;34m\u001b[0m\u001b[0;34m\u001b[0m\u001b[0m\n\u001b[1;32m   1423\u001b[0m     \u001b[0;31m# Going via an iterator directly is slower than via list comprehension.\u001b[0m\u001b[0;34m\u001b[0m\u001b[0;34m\u001b[0m\u001b[0m\n\u001b[0;32m-> 1424\u001b[0;31m     \u001b[0maxis\u001b[0m \u001b[0;34m=\u001b[0m \u001b[0mtuple\u001b[0m\u001b[0;34m(\u001b[0m\u001b[0;34m[\u001b[0m\u001b[0mnormalize_axis_index\u001b[0m\u001b[0;34m(\u001b[0m\u001b[0max\u001b[0m\u001b[0;34m,\u001b[0m \u001b[0mndim\u001b[0m\u001b[0;34m,\u001b[0m \u001b[0margname\u001b[0m\u001b[0;34m)\u001b[0m \u001b[0;32mfor\u001b[0m \u001b[0max\u001b[0m \u001b[0;32min\u001b[0m \u001b[0maxis\u001b[0m\u001b[0;34m]\u001b[0m\u001b[0;34m)\u001b[0m\u001b[0;34m\u001b[0m\u001b[0;34m\u001b[0m\u001b[0m\n\u001b[0m\u001b[1;32m   1425\u001b[0m     \u001b[0;32mif\u001b[0m \u001b[0;32mnot\u001b[0m \u001b[0mallow_duplicate\u001b[0m \u001b[0;32mand\u001b[0m \u001b[0mlen\u001b[0m\u001b[0;34m(\u001b[0m\u001b[0mset\u001b[0m\u001b[0;34m(\u001b[0m\u001b[0maxis\u001b[0m\u001b[0;34m)\u001b[0m\u001b[0;34m)\u001b[0m \u001b[0;34m!=\u001b[0m \u001b[0mlen\u001b[0m\u001b[0;34m(\u001b[0m\u001b[0maxis\u001b[0m\u001b[0;34m)\u001b[0m\u001b[0;34m:\u001b[0m\u001b[0;34m\u001b[0m\u001b[0;34m\u001b[0m\u001b[0m\n\u001b[1;32m   1426\u001b[0m         \u001b[0;32mif\u001b[0m \u001b[0margname\u001b[0m\u001b[0;34m:\u001b[0m\u001b[0;34m\u001b[0m\u001b[0;34m\u001b[0m\u001b[0m\n",
            "\u001b[0;32m/usr/local/lib/python3.11/dist-packages/numpy/_core/numeric.py\u001b[0m in \u001b[0;36m<listcomp>\u001b[0;34m(.0)\u001b[0m\n\u001b[1;32m   1422\u001b[0m             \u001b[0;32mpass\u001b[0m\u001b[0;34m\u001b[0m\u001b[0;34m\u001b[0m\u001b[0m\n\u001b[1;32m   1423\u001b[0m     \u001b[0;31m# Going via an iterator directly is slower than via list comprehension.\u001b[0m\u001b[0;34m\u001b[0m\u001b[0;34m\u001b[0m\u001b[0m\n\u001b[0;32m-> 1424\u001b[0;31m     \u001b[0maxis\u001b[0m \u001b[0;34m=\u001b[0m \u001b[0mtuple\u001b[0m\u001b[0;34m(\u001b[0m\u001b[0;34m[\u001b[0m\u001b[0mnormalize_axis_index\u001b[0m\u001b[0;34m(\u001b[0m\u001b[0max\u001b[0m\u001b[0;34m,\u001b[0m \u001b[0mndim\u001b[0m\u001b[0;34m,\u001b[0m \u001b[0margname\u001b[0m\u001b[0;34m)\u001b[0m \u001b[0;32mfor\u001b[0m \u001b[0max\u001b[0m \u001b[0;32min\u001b[0m \u001b[0maxis\u001b[0m\u001b[0;34m]\u001b[0m\u001b[0;34m)\u001b[0m\u001b[0;34m\u001b[0m\u001b[0;34m\u001b[0m\u001b[0m\n\u001b[0m\u001b[1;32m   1425\u001b[0m     \u001b[0;32mif\u001b[0m \u001b[0;32mnot\u001b[0m \u001b[0mallow_duplicate\u001b[0m \u001b[0;32mand\u001b[0m \u001b[0mlen\u001b[0m\u001b[0;34m(\u001b[0m\u001b[0mset\u001b[0m\u001b[0;34m(\u001b[0m\u001b[0maxis\u001b[0m\u001b[0;34m)\u001b[0m\u001b[0;34m)\u001b[0m \u001b[0;34m!=\u001b[0m \u001b[0mlen\u001b[0m\u001b[0;34m(\u001b[0m\u001b[0maxis\u001b[0m\u001b[0;34m)\u001b[0m\u001b[0;34m:\u001b[0m\u001b[0;34m\u001b[0m\u001b[0;34m\u001b[0m\u001b[0m\n\u001b[1;32m   1426\u001b[0m         \u001b[0;32mif\u001b[0m \u001b[0margname\u001b[0m\u001b[0;34m:\u001b[0m\u001b[0;34m\u001b[0m\u001b[0;34m\u001b[0m\u001b[0m\n",
            "\u001b[0;31mTypeError\u001b[0m: integer argument expected, got float"
          ]
        }
      ]
    },
    {
      "cell_type": "markdown",
      "source": [
        "Recall your earlier implementation of the Euclidean distance for points in two dimensions (Ex. 0.3). Would your implementation correctly calculate the result for points in higher dimensions? The Scipy library contains implementations for various [standard distance metrics](https://docs.scipy.org/doc/scipy/reference/spatial.distance.html) that accept points with any dimensionality.\n",
        "\n",
        "(e) Recalculate the Euclidean distances between the 5 points and the origin (given in the code block below) using the Scipy library. Also calculate the [`cityblock` distance](https://docs.scipy.org/doc/scipy/reference/generated/scipy.spatial.distance.cityblock.html) between the same points."
      ],
      "metadata": {
        "id": "Z1S8WGJGY2_9"
      }
    },
    {
      "cell_type": "code",
      "source": [
        "from scipy.spatial import distance\n",
        "\n",
        "# Define variables for points p and q:\n",
        "points = np.array([[-1.0, 0.0],\n",
        "                   [-0.7071, 0.7071],\n",
        "                   [0.0, 1.0],\n",
        "                   [0.7071, 0.7071],\n",
        "                   [1.0, 0.0]])\n",
        "origin = np.array([0.0, 0.0])\n",
        "distance.cityblock(points[0], points[4])\n",
        "#(e)\n",
        "#ANSWER"
      ],
      "metadata": {
        "id": "JApxvtbSgGb-",
        "outputId": "18cb0cad-bc8a-454f-e5ad-c183aa1691b0",
        "colab": {
          "base_uri": "https://localhost:8080/"
        }
      },
      "execution_count": 113,
      "outputs": [
        {
          "output_type": "execute_result",
          "data": {
            "text/plain": [
              "np.float64(2.0)"
            ]
          },
          "metadata": {},
          "execution_count": 113
        }
      ]
    }
  ]
}