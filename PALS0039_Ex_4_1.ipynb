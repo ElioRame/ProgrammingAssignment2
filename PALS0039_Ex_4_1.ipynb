{
  "nbformat": 4,
  "nbformat_minor": 0,
  "metadata": {
    "colab": {
      "provenance": [],
      "machine_shape": "hm",
      "include_colab_link": true
    },
    "kernelspec": {
      "name": "python3",
      "display_name": "Python 3"
    }
  },
  "cells": [
    {
      "cell_type": "markdown",
      "metadata": {
        "id": "view-in-github",
        "colab_type": "text"
      },
      "source": [
        "<a href=\"https://colab.research.google.com/github/ElioRame/ProgrammingAssignment2/blob/master/PALS0039_Ex_4_1.ipynb\" target=\"_parent\"><img src=\"https://colab.research.google.com/assets/colab-badge.svg\" alt=\"Open In Colab\"/></a>"
      ]
    },
    {
      "cell_type": "markdown",
      "metadata": {
        "id": "is1p5hg4EqlY"
      },
      "source": [
        "[![PALS0039 Logo](https://www.phon.ucl.ac.uk/courses/pals0039/images/pals0039logo.png)](https://www.phon.ucl.ac.uk/courses/pals0039/)\n",
        "\n",
        "# Exercise 4.1 Sentiment Analysis from text\n",
        "\n",
        "In this exercise we implement a DNN system for [Sentiment Analysis](https://en.wikipedia.org/wiki/Sentiment_analysis) of movie reviews.\n",
        "\n",
        "We use a set of film reviews taken from the [Internet Movie Database](https://www.imdb.com/) which have been labelled as positive or negative. Words in the reviews have already been tokenised and encoded as numbers using a dictionary. We load the numeric sequences as variable length lists then build a bag of words model for each review. This gives a fixed length vector for each review which we can input into a DNN classifier."
      ]
    },
    {
      "cell_type": "markdown",
      "metadata": {
        "id": "1GSGA1ZvEwTp"
      },
      "source": [
        "---\n",
        "(a) Run the following code block which loads the pre-prepared dataset from the Keras package. Examine the Keras documentation for the [`load_data` method](https://keras.io/api/datasets/imdb/) and add a comment to explain the arguments used (including the defaults for `skip_top`, `start_char`, `oov_char`)."
      ]
    },
    {
      "cell_type": "code",
      "metadata": {
        "id": "TuC220KlEni4",
        "outputId": "cd8a36db-cdfa-466a-cd47-9f1f210bf55c",
        "colab": {
          "base_uri": "https://localhost:8080/"
        }
      },
      "source": [
        "import numpy as np\n",
        "import matplotlib.pyplot as plt\n",
        "%matplotlib inline\n",
        "\n",
        "%tensorflow_version 2.x\n",
        "from tensorflow.keras.models import Sequential, Model\n",
        "from tensorflow.keras.layers import Dense\n",
        "from tensorflow.keras.optimizers import SGD\n",
        "from tensorflow.keras.utils import to_categorical\n",
        "from tensorflow.keras.datasets import imdb\n",
        "\n",
        "#(a)\n",
        "# the IMDB dataset contains reviews for 25,000 movies labeled by sentiment; each review is encoded as a list of indexes (by frequency, i.e. index \"3\" is the third most frequent word in the data)\n",
        "# num_words refers to the number of indexes to be kept (so starting from the top, that is the n number of most frequent words)\n",
        "# index_from i.e. index_from=2 will give you indexes from 2 up\n",
        "# path = from where to get the data\n",
        "# skip_top = skip the n most frequently used words, they will appear as oov_char if skip_top is not set to zero. defaukts to zero\n",
        "# maxlen = max len of the sequence\n",
        "# seed = integer for reproducible shuffling\n",
        "# oov_char are words cut out because of the num_words and skip_top limits, oov_char = integer that will represent the words, i.e. if = 2 then the oov_char will be indexed with n2\n",
        "# start_char = the start of the sequence will be marked with this integer (defaults to 1)\n",
        "(Xtrain_seq, ytrain), (Xtest_seq, ytest) = imdb.load_data(num_words=10000, index_from=2)\n",
        "\n",
        "# Print out a sample (first few inputs and associated outputs) of the data\n",
        "print(\"SAMPLE OF THE DATA:\")\n",
        "print(\"-------------------\")\n",
        "print(\"INPUTS:\")\n",
        "print(Xtrain_seq[:10])\n",
        "print(\"OUTPUTS:\")\n",
        "print(ytrain[:3])\n",
        "\n"
      ],
      "execution_count": 22,
      "outputs": [
        {
          "output_type": "stream",
          "name": "stdout",
          "text": [
            "Colab only includes TensorFlow 2.x; %tensorflow_version has no effect.\n",
            "SAMPLE OF THE DATA:\n",
            "-------------------\n",
            "INPUTS:\n",
            "[list([1, 13, 21, 15, 42, 529, 972, 1621, 1384, 64, 457, 4467, 65, 3940, 3, 172, 35, 255, 4, 24, 99, 42, 837, 111, 49, 669, 2, 8, 34, 479, 283, 4, 149, 3, 171, 111, 166, 2, 335, 384, 38, 3, 171, 4535, 1110, 16, 545, 37, 12, 446, 3, 191, 49, 15, 5, 146, 2024, 18, 13, 21, 3, 1919, 4612, 468, 3, 21, 70, 86, 11, 15, 42, 529, 37, 75, 14, 12, 1246, 3, 21, 16, 514, 16, 11, 15, 625, 17, 2, 4, 61, 385, 11, 7, 315, 7, 105, 4, 3, 2222, 5243, 15, 479, 65, 3784, 32, 3, 129, 11, 15, 37, 618, 4, 24, 123, 50, 35, 134, 47, 24, 1414, 32, 5, 21, 11, 214, 27, 76, 51, 4, 13, 406, 15, 81, 2, 7, 3, 106, 116, 5951, 14, 255, 3, 2, 6, 3765, 4, 722, 35, 70, 42, 529, 475, 25, 399, 316, 45, 6, 3, 2, 1028, 12, 103, 87, 3, 380, 14, 296, 97, 31, 2070, 55, 25, 140, 5, 193, 7485, 17, 3, 225, 21, 20, 133, 475, 25, 479, 4, 143, 29, 5534, 17, 50, 35, 27, 223, 91, 24, 103, 3, 225, 64, 15, 37, 1333, 87, 11, 15, 282, 4, 15, 4471, 112, 102, 31, 14, 15, 5344, 18, 177, 31])\n",
            " list([1, 193, 1152, 193, 8254, 77, 227, 4, 5, 1462, 4368, 5011, 133, 25, 3, 714, 7, 117, 1633, 13, 393, 19, 12, 118, 953, 188, 101, 4, 206, 109, 3102, 20, 13, 68, 187, 7, 29, 22, 6, 3, 248, 125, 92, 3, 113, 8, 2299, 1522, 4, 646, 3, 115, 8, 34, 8162, 3, 228, 8, 339, 1321, 3, 117, 8, 3, 129, 4900, 18, 3, 1001, 4, 88, 28, 951, 45, 36, 3, 454, 8, 44, 42, 37, 1542, 1904, 397, 3, 1648, 25, 6852, 4, 162, 10, 3214, 2, 3, 1152, 8, 193, 774, 6, 8254, 2, 348, 2636, 147, 604, 2, 8002, 14, 122, 124, 67, 2, 6852, 14, 348, 164, 4361, 97, 4, 3, 227, 8, 42, 2, 1156, 14, 298, 119, 4, 119, 173, 10, 219, 174, 135, 49, 8, 4372, 227, 8254, 4, 2, 655, 244, 2349, 4, 3, 9836, 130, 151, 490, 17, 2, 31, 7463, 1211, 13, 8, 5, 370, 77, 21, 624, 63, 1381, 8, 7, 167, 144, 22, 3, 1689, 14, 15, 3, 1354, 4, 27, 5, 51, 153, 461, 32, 88, 77, 284, 15, 144, 94])\n",
            " list([1, 13, 46, 7, 29, 30, 6, 3, 248, 107, 6, 3, 5973, 53, 60, 368, 12, 70, 148, 13, 21, 111, 3, 2400, 310, 11, 15, 3710, 32, 74, 42, 1828, 295, 3, 85, 319, 34, 533, 18, 262, 4820, 1300, 3, 1872, 32, 88, 77, 11, 65, 15, 3, 359, 6, 3, 57, 315, 333, 10, 3, 1715, 42, 644, 661, 7, 256, 84, 1199, 41, 1227, 2577, 82, 67, 3911, 14, 35, 164, 1538, 277, 35, 68, 2, 779, 7, 105, 13, 6904, 1337, 17, 5, 21, 11, 214, 27, 609, 39, 5, 86, 325, 22, 2299, 20, 22, 21, 11, 271, 39, 56, 30, 10, 3, 21, 46, 5, 2306, 50, 8, 169, 22, 594, 115, 594, 1351, 12, 190, 78, 637, 88, 2, 13, 8, 7, 105, 606, 623, 34, 533, 5, 226, 6, 128, 112])\n",
            " list([1, 3, 2, 2, 32, 2803, 3, 2039, 431, 110, 152, 102, 3, 1493, 12, 69, 130, 66, 10, 60, 2, 743, 34, 3714, 760, 60, 5765, 451, 9213, 3, 984, 6, 2, 58, 165, 3, 104, 215, 1238, 40, 1796, 8, 14, 6, 34, 743, 2412, 30, 7, 3, 686, 22, 3, 2, 7338, 5, 3692, 41, 37, 38, 120, 58, 455, 9, 9, 6, 264, 11, 574, 110, 152, 158, 58, 15, 1446, 20, 24, 585, 481, 38, 3, 95, 58, 715, 11, 3, 171, 64, 8, 578, 10, 6003, 3, 1614, 4, 2, 6, 5167, 16, 12, 7063, 11, 18, 5, 463, 30, 313, 10, 2, 5, 718, 604, 10, 7, 201, 26, 309, 3, 3771, 3500, 7, 2721, 57, 9, 9, 536, 2115, 179, 39, 13, 412, 172, 6, 262, 111, 36, 151, 376, 3, 536, 262, 845, 578, 177, 53, 74, 70, 475, 35, 412, 262, 2503, 181, 4, 16, 74, 2305, 921, 35, 278, 130, 2894, 16, 2866, 41, 16, 34, 920, 2, 191, 4, 1218, 3889, 18, 2, 216, 4121, 1709, 536, 2, 1235, 4, 735, 9, 9, 60, 402, 8, 2, 39, 60, 4493, 4, 26, 4493, 158, 89, 262, 2310, 4318, 308, 7, 177, 4, 81, 4318, 3, 64, 14, 9224, 144, 142, 5121, 11, 7038, 536, 745, 536, 536, 14, 7978, 3, 2, 593, 6, 5167, 93, 9095, 3986, 2, 10, 2, 3, 537, 6, 1794, 245, 2, 8, 2, 10, 634, 13, 8, 50, 407, 11, 93, 317, 1381, 11, 46, 5, 2682, 935, 4, 6306, 2, 18, 48, 6, 3, 1884, 2, 1117, 24, 79, 125, 841, 9, 9, 2, 2, 4725, 26, 4493, 10, 1549, 3632, 158, 26, 340, 28, 2732, 18, 4184, 172, 6, 89, 2, 7, 29, 10, 3, 1783, 85, 1116, 7, 3260, 45, 10, 2, 20, 28, 8, 2840, 22, 3, 1009, 2, 792, 5, 2, 1385, 1829, 9, 9, 245, 49, 8, 5, 2749, 1943, 745, 89, 28, 2, 7, 123, 3, 881, 3, 881, 495, 26, 2, 2212, 536, 120, 126, 1218, 129, 4, 28, 493, 7, 123, 3, 881, 495, 3, 340, 6, 26, 845, 9, 9, 28, 8, 1905, 7, 96, 5, 235, 2, 1310, 7, 3, 2, 6, 30, 6, 2, 90, 2, 3986, 69, 3, 881, 29, 578, 41, 8, 11, 31, 10, 536, 9, 9, 10, 13, 64, 43, 536, 74, 2, 1774, 3352, 2, 1845, 3, 2, 6, 153, 4, 3, 517, 52, 2, 2, 6, 3210, 881, 10, 398, 37, 74, 256, 3806, 18, 2, 16, 28, 455, 3, 64, 6, 26, 204, 112, 9, 9, 2, 3, 2, 2, 8, 241, 3, 90, 1201, 2, 4, 2069, 306, 21, 6, 5167, 125, 92, 39, 2, 12, 187, 1075, 3221, 18, 3, 2, 6, 2347, 536, 22, 52, 536, 20, 81, 39, 2, 12, 2, 13, 279, 12, 218, 3, 2, 430, 757, 858, 3, 952, 1051, 2, 6, 5990, 4, 93, 39, 24, 237, 59, 2, 3, 2, 803, 2, 6, 3, 9940, 131, 7, 66, 5, 21, 14, 8, 282, 7, 5167, 13, 30, 8, 241, 954, 47, 24, 278, 2, 22, 11, 1684, 194, 24, 237, 59, 795, 2, 3, 670, 6, 2803, 4, 3, 558, 153, 887, 6, 725, 49, 25, 48, 7007, 14, 565, 29, 578, 20, 63, 2573])\n",
            " list([1, 248, 1322, 6, 60, 112, 9, 9, 12, 1636, 13, 19, 55, 32, 2400, 17, 456, 87, 12, 2625, 1399, 44, 3170, 12, 69, 78, 48, 705, 918, 12, 15, 354, 339, 354, 1695, 95, 142, 3, 21, 31, 288, 6, 60, 368, 70, 2358, 4, 12, 15, 130, 2072, 248, 113, 248, 228, 248, 19, 12, 27, 125, 109, 12, 472, 7, 568, 60, 418, 55, 428, 5, 1512, 17, 34, 533, 94, 473, 569, 4, 24, 123, 137, 87, 11, 420, 1542, 51, 724, 6396, 60, 418, 10, 12, 1570, 14, 1542, 19, 10, 3, 2, 4, 295, 11, 3523, 4, 14, 420, 127, 73, 232, 333, 206, 125, 223, 11, 561, 297, 2166, 1271, 6, 2600, 4, 515, 987, 42, 7, 78, 119, 14, 594, 12, 783, 24, 3170, 17, 164, 169, 142, 18, 13, 4, 7223, 5, 225, 250, 6, 60, 112])\n",
            " list([1, 777, 127, 73, 11, 629, 162, 14, 3, 1765, 7981, 1050, 2, 31, 84, 155, 44, 39, 147, 138, 120, 663, 664, 9, 9, 1360, 172, 3, 748, 2, 15, 3803, 7, 3, 225, 64, 11, 42, 126, 23, 2, 9, 9])\n",
            " list([1, 6739, 364, 1233, 4, 1155, 353, 10, 13, 5326, 6637, 6, 1015, 2, 5939, 355, 43, 3, 1348, 499, 745, 4, 199, 3, 4131, 10, 2, 9362, 1116, 1830, 7484, 4, 4830, 25, 5, 2, 4182, 16, 368, 36, 214, 1344, 142, 2, 4, 1837, 7, 1973, 14, 35, 118, 256, 84, 51, 485, 8, 5, 2, 8563, 62, 270, 5, 195, 95, 948, 4120, 3, 2, 6, 3, 2211, 2435, 818, 62, 46, 76, 7174, 179, 5, 226, 10, 93, 2493, 2, 12, 422, 3, 167, 6, 3, 21, 4, 88, 664, 70, 269, 55, 4, 12, 196, 11, 160, 5389, 98, 75, 22, 2, 6, 418, 664, 39, 90, 84, 107, 6, 3, 2083, 4, 4772, 80, 54, 51, 1900])\n",
            " list([1, 3, 2, 715, 3, 64, 6, 3, 688, 4366, 6307, 2342, 4803, 2, 2, 5269, 2, 2314, 2, 2, 2, 2, 3, 2, 627, 7684, 36, 8, 149, 3, 9819, 4068, 10, 2908, 3, 2, 846, 312, 5, 175, 2, 8, 6201, 137, 8, 4433, 18, 3, 95, 182, 25, 3, 191, 14, 26, 5841, 798, 7100, 2, 587, 83, 10, 3, 3230, 151, 338, 5205, 41, 4868, 2, 6292, 344, 4803, 2, 141, 42, 217, 207, 53, 28, 852, 658, 45, 3, 881, 182, 79, 114, 29, 3, 171, 173, 9, 9, 1000, 397, 1000, 1054, 525, 33, 3716, 2, 5261, 2, 16, 3, 6705, 1093, 870, 63, 84, 21, 2029, 1108, 37, 229, 8, 3, 4323, 2, 250, 5055, 1033, 194, 300, 13, 15, 30, 6, 3, 2, 7, 782, 2, 32, 3, 2944, 102, 464, 2, 41, 844, 44, 445, 10, 1894, 18, 183, 75, 31, 3, 5309, 206, 109, 12, 196, 3, 2, 15, 600, 963, 2151, 594, 12, 257, 3, 1729, 65, 337, 54, 5311, 3, 549, 727, 64, 1195, 7, 1838, 60, 1545, 41, 8360, 60, 601, 119, 44, 7303, 5, 319, 785, 98, 195, 2, 785, 5935, 3, 224, 3, 372, 1008, 32, 3, 129, 62, 68, 71, 1103, 45, 1291, 224, 13, 65, 193, 2, 1702, 55, 7, 802, 1003, 5, 2, 154, 10, 3, 2, 3230, 44, 852, 2028, 7, 29, 5, 116, 429, 18, 5, 8940, 8, 14, 65, 423, 7, 2336, 177, 8, 14, 65, 423, 7, 1464, 177, 8, 14, 65, 141, 14, 8, 423, 7, 27, 177, 661, 43, 11, 16, 3, 129, 897, 1685, 8, 5, 5622, 266, 184, 429, 3, 117, 2, 276, 14, 3, 1187, 99, 215, 55, 18, 3, 356, 113, 2, 366, 44, 114, 92, 787, 120, 3, 2, 78, 31, 67, 277, 38, 7, 817, 161, 4164, 236, 599, 6, 97, 305, 7, 156, 548, 627, 10, 5, 2, 12, 823, 14, 4103, 75, 41, 137, 35, 773, 76, 1058, 158, 149, 3, 228, 496, 7, 1492, 10, 174, 250, 452, 18, 8650, 188, 11, 42, 126, 5, 393, 291, 6, 8252, 3, 106, 7, 3, 2825, 14, 1081, 1250, 8, 905, 41, 1133, 5, 65, 77, 21, 14, 12, 243, 2518, 7, 134, 232, 51, 43, 9, 9, 465, 111, 397, 525, 33, 3, 1571, 4412, 6705, 1093, 224, 56, 598, 132, 224, 5, 226, 6, 540, 4322, 5, 170, 138, 6, 538, 2, 55, 10, 5, 3230, 20, 163, 24, 425, 80, 32, 343, 623, 18, 5, 4616, 6, 2, 2, 5, 5801, 3, 21, 8, 1081, 628, 236, 44, 187, 5, 54, 654, 706, 6370, 955, 224, 1455, 840, 41, 1309, 224, 5, 2492, 1466, 7721, 2827, 20, 3, 2, 8, 363, 22, 3, 2227, 2406, 224, 23, 75, 132, 17, 3, 188, 2292, 9, 9, 813, 10, 2, 10, 2641, 13, 46, 14, 681, 363, 351, 167, 43, 11, 44, 23, 912, 92, 20, 246, 2440, 3, 115, 33, 34, 1858, 7, 71, 176, 8, 163, 7, 900, 343, 43, 12, 190, 134, 12, 125, 420, 232, 17, 258, 9, 9, 3, 2, 6846, 3, 2, 3073, 6, 111, 198, 752, 356, 38, 62, 11, 114, 2, 762, 7, 14, 34, 3281, 1522, 64, 56, 598, 5, 1915, 276, 1729, 36, 24, 91, 201, 5, 8847, 43, 24, 27, 5, 21, 14, 121, 23, 4170, 71, 32, 31])\n",
            " list([1, 42, 187, 45, 4, 565, 263, 50, 5, 529, 663, 13, 8, 1712, 80, 24, 1134, 45, 6, 5, 19, 749, 10, 140, 4298, 4, 2, 4440, 101, 27, 412, 37, 119, 5532, 14, 3, 3973, 6, 5368, 141, 370, 317, 4, 954, 1712, 570, 2, 2, 121, 13, 7, 71, 53, 11, 85, 384, 45, 4, 13, 19, 8, 398, 7, 71, 149, 12, 160, 123, 5, 154, 43, 13, 158, 169, 82, 11, 4, 50, 5, 865, 47, 24, 841, 3, 1119, 24, 237, 78, 3, 546, 14, 13, 8, 30, 6, 147, 2, 101, 43, 34, 479, 3822, 2379, 18, 119, 3, 349, 227, 4, 268, 7, 27, 177, 1313, 2346, 6, 50, 5, 86, 64, 11, 8, 978, 20, 94, 23, 3185, 177, 10, 2, 13, 8, 23, 14, 19, 3, 83, 375, 3, 64, 13, 126, 140, 5, 51, 291, 6, 4750, 174, 560, 6, 67, 3865, 136, 74, 2540, 67, 181, 4, 234, 174, 332, 18, 97, 49, 8, 37, 75, 723, 3, 6749, 14, 165, 284, 35, 139, 142, 37, 75, 52, 3093, 1300, 3, 6990, 15, 81, 5, 86, 3577, 43, 2526, 7611, 4, 799, 3, 3032, 10, 34, 1727, 95, 20, 13, 21, 8, 75, 52, 6, 5, 405, 64, 12, 42, 218, 11, 638, 20, 12, 79, 139, 4, 134, 14, 13, 8, 30, 6, 3, 117, 3671, 12, 27, 125, 109])\n",
            " list([1, 13, 19, 46, 110, 438, 3444, 18, 11, 14, 165, 11, 215, 124, 39, 5, 363, 351, 706, 1186, 38, 293, 10, 21, 395, 12, 27, 7, 201, 11, 1108, 22, 93, 2, 150, 110, 210, 468, 3, 19, 12, 257, 545, 1103, 7272, 11, 15, 37, 77, 32, 210, 14, 11, 15, 2848, 62, 92, 11, 5, 252, 105, 9, 9, 47, 334, 266, 17, 5, 363, 1241, 1178, 19, 18, 5, 1008, 6, 1986, 188, 4, 5, 8418, 6, 2722, 2, 94, 1718, 5, 6034, 6, 3911, 7143, 48, 368, 119, 4, 27, 48, 252, 9, 9, 12, 1040, 18, 84, 794, 14, 3, 480, 8, 54, 77, 806, 8, 374, 7, 1166, 7, 793, 75, 6, 3, 57, 4, 3, 815, 8, 242, 6, 42, 49])]\n",
            "OUTPUTS:\n",
            "[1 0 0]\n"
          ]
        }
      ]
    },
    {
      "cell_type": "markdown",
      "source": [
        "---\n",
        "(b) Examine the sample inputs and outputs above. What do the rows of the inputs represent, what do the numbers in the input represent? What do the numbers in the output represent. Why do all the inputs start with the number 1?\n"
      ],
      "metadata": {
        "id": "vRED2TODXJXr"
      }
    },
    {
      "cell_type": "code",
      "source": [
        "#(b)\n",
        "# rows of inputs represent sequences of words in the reviews, the number represents how frequent the word is\n",
        "# the output represents whether the review has been labelled as positive or negative (1 or 0), i.e. here ytrain[:3] and we get the rating for the first three sequences\n",
        "# imdb dataset uses 1 at the start of sequences (as per start_char in imdb.data documentation)"
      ],
      "metadata": {
        "id": "3RRWw2wjaQ2Z"
      },
      "execution_count": 23,
      "outputs": []
    },
    {
      "cell_type": "markdown",
      "source": [
        "(c) How many out-of-vocabulary (OOV) terms occur in each of the first three documents examined above? Write a short piece of code to determine the lengths and number of OOVs in each:"
      ],
      "metadata": {
        "id": "wW0CHXNma_PB"
      }
    },
    {
      "cell_type": "code",
      "source": [
        "#(c)\n",
        "#ANSWER\n",
        "for document in Xtrain_seq[:3]:\n",
        "  print(\"number of words per sequence:\", len(document))\n",
        "  print(\"OOV:\", document.count(2))"
      ],
      "metadata": {
        "id": "nsbxmxcNbkOT",
        "outputId": "a43f7c7c-7784-48a4-886e-e80c6599aa7f",
        "colab": {
          "base_uri": "https://localhost:8080/"
        }
      },
      "execution_count": 24,
      "outputs": [
        {
          "output_type": "stream",
          "name": "stdout",
          "text": [
            "number of words per sequence: 218\n",
            "OOV: 6\n",
            "number of words per sequence: 189\n",
            "OOV: 7\n",
            "number of words per sequence: 141\n",
            "OOV: 2\n"
          ]
        }
      ]
    },
    {
      "cell_type": "markdown",
      "source": [
        "(d) Determine the highest term index occuring in our dataset?"
      ],
      "metadata": {
        "id": "aNE0Kc1WzPED"
      }
    },
    {
      "cell_type": "code",
      "source": [
        "#(d)\n",
        "#ANSWER\n",
        "highest_index_per_document = []\n",
        "for i in Xtrain_seq:\n",
        "  highest_index_per_document.append(max(i))\n",
        "\n",
        "highest_term_index = max(highest_index_per_document)\n",
        "print(\"Highest term:\", highest_term_index)"
      ],
      "metadata": {
        "id": "15UWihMDzZdE",
        "outputId": "e8f16990-e48c-465b-d853-2a31d0256cb4",
        "colab": {
          "base_uri": "https://localhost:8080/"
        }
      },
      "execution_count": 25,
      "outputs": [
        {
          "output_type": "stream",
          "name": "stdout",
          "text": [
            "Highest term: 9999\n"
          ]
        }
      ]
    },
    {
      "cell_type": "markdown",
      "source": [
        "---\n",
        "The following code retrieves the mapping terms -> indices (starting from 1) from the corpus and uses this to create an inverse mapping (indices -> terms) taking care to include the special symbols we have introduced with `load_data`."
      ],
      "metadata": {
        "id": "5UhpGhnDiqpM"
      }
    },
    {
      "cell_type": "code",
      "source": [
        "term_to_index = imdb.get_word_index()\n",
        "\n",
        "index_to_term = {0: \"PAD\", 1: \"START\", 2: \"OOV\"}\n",
        "for term, index in term_to_index.items():\n",
        "  index_to_term[index + 2] = term\n",
        "\n",
        "# Print out the mappings to the special symbols and the top 10 most frequent words therafter\n",
        "for i in range(13):\n",
        "  print(i, index_to_term[i], sep=\"\\t\")\n"
      ],
      "metadata": {
        "id": "LxTIELRff2P-",
        "outputId": "af3be4a4-fd1e-46e3-97cc-acdfc011fe73",
        "colab": {
          "base_uri": "https://localhost:8080/"
        }
      },
      "execution_count": 26,
      "outputs": [
        {
          "output_type": "stream",
          "name": "stdout",
          "text": [
            "0\tPAD\n",
            "1\tSTART\n",
            "2\tOOV\n",
            "3\tthe\n",
            "4\tand\n",
            "5\ta\n",
            "6\tof\n",
            "7\tto\n",
            "8\tis\n",
            "9\tbr\n",
            "10\tin\n",
            "11\tit\n",
            "12\ti\n"
          ]
        }
      ]
    },
    {
      "cell_type": "markdown",
      "source": [
        "---\n",
        "(e) Use the index -> term mapping created above to convert the first document to a human-readable version"
      ],
      "metadata": {
        "id": "XAjLSnxdjfSa"
      }
    },
    {
      "cell_type": "code",
      "source": [
        "#(e)\n",
        "#ANSWER\n",
        "first_document = Xtrain_seq[0]\n",
        "for term_index in first_document:\n",
        "  term = index_to_term[term_index]\n",
        "  print(term, end = \" \")"
      ],
      "metadata": {
        "id": "rDWc60RPj1t6",
        "outputId": "5aa7fd4a-39e1-455c-906e-3aec72a5074a",
        "colab": {
          "base_uri": "https://localhost:8080/"
        }
      },
      "execution_count": 27,
      "outputs": [
        {
          "output_type": "stream",
          "name": "stdout",
          "text": [
            "START this film was just brilliant casting location scenery story direction everyone's really suited the part they played and you could just imagine being there robert OOV is an amazing actor and now the same being director OOV father came from the same scottish island as myself so i loved the fact there was a real connection with this film the witty remarks throughout the film were great it was just brilliant so much that i bought the film as soon as it was released for OOV and would recommend it to everyone to watch and the fly fishing was amazing really cried at the end it was so sad and you know what they say if you cry at a film it must have been good and this definitely was also OOV to the two little boy's that played the OOV of norman and paul they were just brilliant children are often left out of the OOV list i think because the stars that play them all grown up are such a big profile for the whole film but these children are amazing and should be praised for what they have done don't you think the whole story was so lovely because it was true and was someone's life after all that was shared with us all "
          ]
        }
      ]
    },
    {
      "cell_type": "markdown",
      "metadata": {
        "id": "mkf1xM0oNQ05"
      },
      "source": [
        "---\n",
        "We now vectorise the review documents. Run the code."
      ]
    },
    {
      "cell_type": "code",
      "metadata": {
        "id": "xvkaEXUKNhFp",
        "outputId": "1b986ab8-79d0-4dc0-fc0f-a8f545c03fc2",
        "colab": {
          "base_uri": "https://localhost:8080/"
        }
      },
      "source": [
        "# Function to convert a list of documents into counts of term indices.\n",
        "# Each row represents a single document and each column represents the counts of each term in the document.\n",
        "def bags_of_words(documents, numterms=10000):\n",
        "  # We create an empty array of the right size before we begin:\n",
        "  document_term_counts = np.zeros((len(documents), numterms))\n",
        "  # Now we loop over all documents and terms and count them:\n",
        "  for document_index, document in enumerate(documents):\n",
        "    for term_index in document:\n",
        "      document_term_counts[document_index, term_index] += 1\n",
        "  return document_term_counts\n",
        "\n",
        "# Convert training and test data to fixed-length vectors\n",
        "Xtrain = bags_of_words(Xtrain_seq)\n",
        "Xtest = bags_of_words(Xtest_seq)\n",
        "\n",
        "# Convert labels to numpy array\n",
        "ytrain = np.array(ytrain)\n",
        "ytest = np.array(ytest)\n",
        "\n",
        "# Print out some of the data to see what it looks like\n",
        "print(Xtrain.shape, ytrain.shape, Xtest.shape, ytest.shape)\n",
        "print(Xtrain[:10])"
      ],
      "execution_count": 28,
      "outputs": [
        {
          "output_type": "stream",
          "name": "stdout",
          "text": [
            "(25000, 10000) (25000,) (25000, 10000) (25000,)\n",
            "[[ 0.  1.  6. ...  0.  0.  0.]\n",
            " [ 0.  1.  7. ...  0.  0.  0.]\n",
            " [ 0.  1.  2. ...  0.  0.  0.]\n",
            " ...\n",
            " [ 0.  1. 37. ...  0.  0.  0.]\n",
            " [ 0.  1.  5. ...  0.  0.  0.]\n",
            " [ 0.  1.  2. ...  0.  0.  0.]]\n"
          ]
        }
      ]
    },
    {
      "cell_type": "markdown",
      "metadata": {
        "id": "ABgvXFckOnjB"
      },
      "source": [
        "---\n",
        "Build the DNN model. Run the code and add comments."
      ]
    },
    {
      "cell_type": "code",
      "metadata": {
        "id": "rvoA4IvbOpen",
        "outputId": "681e3c97-40d6-444c-91e3-04794e174939",
        "colab": {
          "base_uri": "https://localhost:8080/",
          "height": 281
        }
      },
      "source": [
        "def build_model(input_width=10000, hidden_width=16, output_width=1, add_hidden_layers=1, hidden_layer_activation=\"sigmoid\"):\n",
        "  model = Sequential()\n",
        "  model.add(Dense(hidden_width, activation=hidden_layer_activation, input_shape=(input_width,)))\n",
        "  for i in range(add_hidden_layers):\n",
        "    model.add(Dense(hidden_width, activation=hidden_layer_activation))\n",
        "  model.add(Dense(output_width, activation='sigmoid'))\n",
        "  model.compile(loss='binary_crossentropy', optimizer=\"rmsprop\", metrics=['accuracy'])\n",
        "  return model\n",
        "\n",
        "model = build_model()\n",
        "model.summary()"
      ],
      "execution_count": 29,
      "outputs": [
        {
          "output_type": "stream",
          "name": "stderr",
          "text": [
            "/usr/local/lib/python3.11/dist-packages/keras/src/layers/core/dense.py:87: UserWarning: Do not pass an `input_shape`/`input_dim` argument to a layer. When using Sequential models, prefer using an `Input(shape)` object as the first layer in the model instead.\n",
            "  super().__init__(activity_regularizer=activity_regularizer, **kwargs)\n"
          ]
        },
        {
          "output_type": "display_data",
          "data": {
            "text/plain": [
              "\u001b[1mModel: \"sequential_1\"\u001b[0m\n"
            ],
            "text/html": [
              "<pre style=\"white-space:pre;overflow-x:auto;line-height:normal;font-family:Menlo,'DejaVu Sans Mono',consolas,'Courier New',monospace\"><span style=\"font-weight: bold\">Model: \"sequential_1\"</span>\n",
              "</pre>\n"
            ]
          },
          "metadata": {}
        },
        {
          "output_type": "display_data",
          "data": {
            "text/plain": [
              "┏━━━━━━━━━━━━━━━━━━━━━━━━━━━━━━━━━┳━━━━━━━━━━━━━━━━━━━━━━━━┳━━━━━━━━━━━━━━━┓\n",
              "┃\u001b[1m \u001b[0m\u001b[1mLayer (type)                   \u001b[0m\u001b[1m \u001b[0m┃\u001b[1m \u001b[0m\u001b[1mOutput Shape          \u001b[0m\u001b[1m \u001b[0m┃\u001b[1m \u001b[0m\u001b[1m      Param #\u001b[0m\u001b[1m \u001b[0m┃\n",
              "┡━━━━━━━━━━━━━━━━━━━━━━━━━━━━━━━━━╇━━━━━━━━━━━━━━━━━━━━━━━━╇━━━━━━━━━━━━━━━┩\n",
              "│ dense_3 (\u001b[38;5;33mDense\u001b[0m)                 │ (\u001b[38;5;45mNone\u001b[0m, \u001b[38;5;34m16\u001b[0m)             │       \u001b[38;5;34m160,016\u001b[0m │\n",
              "├─────────────────────────────────┼────────────────────────┼───────────────┤\n",
              "│ dense_4 (\u001b[38;5;33mDense\u001b[0m)                 │ (\u001b[38;5;45mNone\u001b[0m, \u001b[38;5;34m16\u001b[0m)             │           \u001b[38;5;34m272\u001b[0m │\n",
              "├─────────────────────────────────┼────────────────────────┼───────────────┤\n",
              "│ dense_5 (\u001b[38;5;33mDense\u001b[0m)                 │ (\u001b[38;5;45mNone\u001b[0m, \u001b[38;5;34m1\u001b[0m)              │            \u001b[38;5;34m17\u001b[0m │\n",
              "└─────────────────────────────────┴────────────────────────┴───────────────┘\n"
            ],
            "text/html": [
              "<pre style=\"white-space:pre;overflow-x:auto;line-height:normal;font-family:Menlo,'DejaVu Sans Mono',consolas,'Courier New',monospace\">┏━━━━━━━━━━━━━━━━━━━━━━━━━━━━━━━━━┳━━━━━━━━━━━━━━━━━━━━━━━━┳━━━━━━━━━━━━━━━┓\n",
              "┃<span style=\"font-weight: bold\"> Layer (type)                    </span>┃<span style=\"font-weight: bold\"> Output Shape           </span>┃<span style=\"font-weight: bold\">       Param # </span>┃\n",
              "┡━━━━━━━━━━━━━━━━━━━━━━━━━━━━━━━━━╇━━━━━━━━━━━━━━━━━━━━━━━━╇━━━━━━━━━━━━━━━┩\n",
              "│ dense_3 (<span style=\"color: #0087ff; text-decoration-color: #0087ff\">Dense</span>)                 │ (<span style=\"color: #00d7ff; text-decoration-color: #00d7ff\">None</span>, <span style=\"color: #00af00; text-decoration-color: #00af00\">16</span>)             │       <span style=\"color: #00af00; text-decoration-color: #00af00\">160,016</span> │\n",
              "├─────────────────────────────────┼────────────────────────┼───────────────┤\n",
              "│ dense_4 (<span style=\"color: #0087ff; text-decoration-color: #0087ff\">Dense</span>)                 │ (<span style=\"color: #00d7ff; text-decoration-color: #00d7ff\">None</span>, <span style=\"color: #00af00; text-decoration-color: #00af00\">16</span>)             │           <span style=\"color: #00af00; text-decoration-color: #00af00\">272</span> │\n",
              "├─────────────────────────────────┼────────────────────────┼───────────────┤\n",
              "│ dense_5 (<span style=\"color: #0087ff; text-decoration-color: #0087ff\">Dense</span>)                 │ (<span style=\"color: #00d7ff; text-decoration-color: #00d7ff\">None</span>, <span style=\"color: #00af00; text-decoration-color: #00af00\">1</span>)              │            <span style=\"color: #00af00; text-decoration-color: #00af00\">17</span> │\n",
              "└─────────────────────────────────┴────────────────────────┴───────────────┘\n",
              "</pre>\n"
            ]
          },
          "metadata": {}
        },
        {
          "output_type": "display_data",
          "data": {
            "text/plain": [
              "\u001b[1m Total params: \u001b[0m\u001b[38;5;34m160,305\u001b[0m (626.19 KB)\n"
            ],
            "text/html": [
              "<pre style=\"white-space:pre;overflow-x:auto;line-height:normal;font-family:Menlo,'DejaVu Sans Mono',consolas,'Courier New',monospace\"><span style=\"font-weight: bold\"> Total params: </span><span style=\"color: #00af00; text-decoration-color: #00af00\">160,305</span> (626.19 KB)\n",
              "</pre>\n"
            ]
          },
          "metadata": {}
        },
        {
          "output_type": "display_data",
          "data": {
            "text/plain": [
              "\u001b[1m Trainable params: \u001b[0m\u001b[38;5;34m160,305\u001b[0m (626.19 KB)\n"
            ],
            "text/html": [
              "<pre style=\"white-space:pre;overflow-x:auto;line-height:normal;font-family:Menlo,'DejaVu Sans Mono',consolas,'Courier New',monospace\"><span style=\"font-weight: bold\"> Trainable params: </span><span style=\"color: #00af00; text-decoration-color: #00af00\">160,305</span> (626.19 KB)\n",
              "</pre>\n"
            ]
          },
          "metadata": {}
        },
        {
          "output_type": "display_data",
          "data": {
            "text/plain": [
              "\u001b[1m Non-trainable params: \u001b[0m\u001b[38;5;34m0\u001b[0m (0.00 B)\n"
            ],
            "text/html": [
              "<pre style=\"white-space:pre;overflow-x:auto;line-height:normal;font-family:Menlo,'DejaVu Sans Mono',consolas,'Courier New',monospace\"><span style=\"font-weight: bold\"> Non-trainable params: </span><span style=\"color: #00af00; text-decoration-color: #00af00\">0</span> (0.00 B)\n",
              "</pre>\n"
            ]
          },
          "metadata": {}
        }
      ]
    },
    {
      "cell_type": "markdown",
      "metadata": {
        "id": "Q3qy9MgOPUhw"
      },
      "source": [
        "---\n",
        "(f) Call the `model.fit` method with the correct arguments to train the model with the following specifications: (1) Train for 30 iterations over the dataset; (2) Update the weights during training in batches of 64 samples; (3) Request Keras to randomly select 10% of the training set as the **validation set**."
      ]
    },
    {
      "cell_type": "code",
      "metadata": {
        "id": "GZoDCCTsPaz4",
        "outputId": "46a64a60-f237-48bb-b9c3-b71cf58b59b2",
        "colab": {
          "base_uri": "https://localhost:8080/"
        }
      },
      "source": [
        "#(f)\n",
        "training_info = model.fit(Xtrain, ytrain, epochs = 30, batch_size = 64, validation_split=0.10)"
      ],
      "execution_count": 47,
      "outputs": [
        {
          "output_type": "stream",
          "name": "stdout",
          "text": [
            "Epoch 1/30\n",
            "\u001b[1m352/352\u001b[0m \u001b[32m━━━━━━━━━━━━━━━━━━━━\u001b[0m\u001b[37m\u001b[0m \u001b[1m2s\u001b[0m 6ms/step - accuracy: 1.0000 - loss: 8.8800e-06 - val_accuracy: 0.9348 - val_loss: 0.6959\n",
            "Epoch 2/30\n",
            "\u001b[1m352/352\u001b[0m \u001b[32m━━━━━━━━━━━━━━━━━━━━\u001b[0m\u001b[37m\u001b[0m \u001b[1m2s\u001b[0m 6ms/step - accuracy: 1.0000 - loss: 9.0325e-06 - val_accuracy: 0.9352 - val_loss: 0.7013\n",
            "Epoch 3/30\n",
            "\u001b[1m352/352\u001b[0m \u001b[32m━━━━━━━━━━━━━━━━━━━━\u001b[0m\u001b[37m\u001b[0m \u001b[1m3s\u001b[0m 6ms/step - accuracy: 1.0000 - loss: 8.6793e-06 - val_accuracy: 0.9352 - val_loss: 0.6986\n",
            "Epoch 4/30\n",
            "\u001b[1m352/352\u001b[0m \u001b[32m━━━━━━━━━━━━━━━━━━━━\u001b[0m\u001b[37m\u001b[0m \u001b[1m3s\u001b[0m 9ms/step - accuracy: 1.0000 - loss: 8.5042e-06 - val_accuracy: 0.9348 - val_loss: 0.7011\n",
            "Epoch 5/30\n",
            "\u001b[1m352/352\u001b[0m \u001b[32m━━━━━━━━━━━━━━━━━━━━\u001b[0m\u001b[37m\u001b[0m \u001b[1m6s\u001b[0m 10ms/step - accuracy: 1.0000 - loss: 8.1334e-06 - val_accuracy: 0.9348 - val_loss: 0.7010\n",
            "Epoch 6/30\n",
            "\u001b[1m352/352\u001b[0m \u001b[32m━━━━━━━━━━━━━━━━━━━━\u001b[0m\u001b[37m\u001b[0m \u001b[1m3s\u001b[0m 6ms/step - accuracy: 1.0000 - loss: 8.4075e-06 - val_accuracy: 0.9348 - val_loss: 0.7039\n",
            "Epoch 7/30\n",
            "\u001b[1m352/352\u001b[0m \u001b[32m━━━━━━━━━━━━━━━━━━━━\u001b[0m\u001b[37m\u001b[0m \u001b[1m3s\u001b[0m 9ms/step - accuracy: 1.0000 - loss: 8.5091e-06 - val_accuracy: 0.9344 - val_loss: 0.7037\n",
            "Epoch 8/30\n",
            "\u001b[1m352/352\u001b[0m \u001b[32m━━━━━━━━━━━━━━━━━━━━\u001b[0m\u001b[37m\u001b[0m \u001b[1m4s\u001b[0m 6ms/step - accuracy: 1.0000 - loss: 8.5024e-06 - val_accuracy: 0.9352 - val_loss: 0.7056\n",
            "Epoch 9/30\n",
            "\u001b[1m352/352\u001b[0m \u001b[32m━━━━━━━━━━━━━━━━━━━━\u001b[0m\u001b[37m\u001b[0m \u001b[1m2s\u001b[0m 5ms/step - accuracy: 1.0000 - loss: 7.7833e-06 - val_accuracy: 0.9348 - val_loss: 0.7035\n",
            "Epoch 10/30\n",
            "\u001b[1m352/352\u001b[0m \u001b[32m━━━━━━━━━━━━━━━━━━━━\u001b[0m\u001b[37m\u001b[0m \u001b[1m3s\u001b[0m 5ms/step - accuracy: 1.0000 - loss: 7.5261e-06 - val_accuracy: 0.9348 - val_loss: 0.7047\n",
            "Epoch 11/30\n",
            "\u001b[1m352/352\u001b[0m \u001b[32m━━━━━━━━━━━━━━━━━━━━\u001b[0m\u001b[37m\u001b[0m \u001b[1m3s\u001b[0m 7ms/step - accuracy: 1.0000 - loss: 8.0227e-06 - val_accuracy: 0.9348 - val_loss: 0.7037\n",
            "Epoch 12/30\n",
            "\u001b[1m352/352\u001b[0m \u001b[32m━━━━━━━━━━━━━━━━━━━━\u001b[0m\u001b[37m\u001b[0m \u001b[1m2s\u001b[0m 7ms/step - accuracy: 1.0000 - loss: 7.5519e-06 - val_accuracy: 0.9348 - val_loss: 0.7046\n",
            "Epoch 13/30\n",
            "\u001b[1m352/352\u001b[0m \u001b[32m━━━━━━━━━━━━━━━━━━━━\u001b[0m\u001b[37m\u001b[0m \u001b[1m2s\u001b[0m 6ms/step - accuracy: 1.0000 - loss: 7.4864e-06 - val_accuracy: 0.9344 - val_loss: 0.7075\n",
            "Epoch 14/30\n",
            "\u001b[1m352/352\u001b[0m \u001b[32m━━━━━━━━━━━━━━━━━━━━\u001b[0m\u001b[37m\u001b[0m \u001b[1m2s\u001b[0m 6ms/step - accuracy: 1.0000 - loss: 7.4883e-06 - val_accuracy: 0.9344 - val_loss: 0.7089\n",
            "Epoch 15/30\n",
            "\u001b[1m352/352\u001b[0m \u001b[32m━━━━━━━━━━━━━━━━━━━━\u001b[0m\u001b[37m\u001b[0m \u001b[1m2s\u001b[0m 6ms/step - accuracy: 1.0000 - loss: 7.8374e-06 - val_accuracy: 0.9344 - val_loss: 0.7096\n",
            "Epoch 16/30\n",
            "\u001b[1m352/352\u001b[0m \u001b[32m━━━━━━━━━━━━━━━━━━━━\u001b[0m\u001b[37m\u001b[0m \u001b[1m3s\u001b[0m 6ms/step - accuracy: 1.0000 - loss: 7.3748e-06 - val_accuracy: 0.9340 - val_loss: 0.7084\n",
            "Epoch 17/30\n",
            "\u001b[1m352/352\u001b[0m \u001b[32m━━━━━━━━━━━━━━━━━━━━\u001b[0m\u001b[37m\u001b[0m \u001b[1m3s\u001b[0m 8ms/step - accuracy: 1.0000 - loss: 7.2183e-06 - val_accuracy: 0.9348 - val_loss: 0.7093\n",
            "Epoch 18/30\n",
            "\u001b[1m352/352\u001b[0m \u001b[32m━━━━━━━━━━━━━━━━━━━━\u001b[0m\u001b[37m\u001b[0m \u001b[1m4s\u001b[0m 6ms/step - accuracy: 1.0000 - loss: 7.6893e-06 - val_accuracy: 0.9340 - val_loss: 0.7106\n",
            "Epoch 19/30\n",
            "\u001b[1m352/352\u001b[0m \u001b[32m━━━━━━━━━━━━━━━━━━━━\u001b[0m\u001b[37m\u001b[0m \u001b[1m2s\u001b[0m 6ms/step - accuracy: 1.0000 - loss: 7.2239e-06 - val_accuracy: 0.9340 - val_loss: 0.7108\n",
            "Epoch 20/30\n",
            "\u001b[1m352/352\u001b[0m \u001b[32m━━━━━━━━━━━━━━━━━━━━\u001b[0m\u001b[37m\u001b[0m \u001b[1m2s\u001b[0m 6ms/step - accuracy: 1.0000 - loss: 7.2856e-06 - val_accuracy: 0.9340 - val_loss: 0.7106\n",
            "Epoch 21/30\n",
            "\u001b[1m352/352\u001b[0m \u001b[32m━━━━━━━━━━━━━━━━━━━━\u001b[0m\u001b[37m\u001b[0m \u001b[1m3s\u001b[0m 7ms/step - accuracy: 1.0000 - loss: 7.1467e-06 - val_accuracy: 0.9344 - val_loss: 0.7133\n",
            "Epoch 22/30\n",
            "\u001b[1m352/352\u001b[0m \u001b[32m━━━━━━━━━━━━━━━━━━━━\u001b[0m\u001b[37m\u001b[0m \u001b[1m5s\u001b[0m 6ms/step - accuracy: 1.0000 - loss: 7.0098e-06 - val_accuracy: 0.9340 - val_loss: 0.7132\n",
            "Epoch 23/30\n",
            "\u001b[1m352/352\u001b[0m \u001b[32m━━━━━━━━━━━━━━━━━━━━\u001b[0m\u001b[37m\u001b[0m \u001b[1m2s\u001b[0m 6ms/step - accuracy: 1.0000 - loss: 6.7023e-06 - val_accuracy: 0.9344 - val_loss: 0.7118\n",
            "Epoch 24/30\n",
            "\u001b[1m352/352\u001b[0m \u001b[32m━━━━━━━━━━━━━━━━━━━━\u001b[0m\u001b[37m\u001b[0m \u001b[1m2s\u001b[0m 6ms/step - accuracy: 1.0000 - loss: 6.8297e-06 - val_accuracy: 0.9344 - val_loss: 0.7120\n",
            "Epoch 25/30\n",
            "\u001b[1m352/352\u001b[0m \u001b[32m━━━━━━━━━━━━━━━━━━━━\u001b[0m\u001b[37m\u001b[0m \u001b[1m2s\u001b[0m 6ms/step - accuracy: 1.0000 - loss: 6.8296e-06 - val_accuracy: 0.9344 - val_loss: 0.7160\n",
            "Epoch 26/30\n",
            "\u001b[1m352/352\u001b[0m \u001b[32m━━━━━━━━━━━━━━━━━━━━\u001b[0m\u001b[37m\u001b[0m \u001b[1m3s\u001b[0m 7ms/step - accuracy: 1.0000 - loss: 6.5718e-06 - val_accuracy: 0.9344 - val_loss: 0.7154\n",
            "Epoch 27/30\n",
            "\u001b[1m352/352\u001b[0m \u001b[32m━━━━━━━━━━━━━━━━━━━━\u001b[0m\u001b[37m\u001b[0m \u001b[1m2s\u001b[0m 6ms/step - accuracy: 1.0000 - loss: 6.2713e-06 - val_accuracy: 0.9348 - val_loss: 0.7170\n",
            "Epoch 28/30\n",
            "\u001b[1m352/352\u001b[0m \u001b[32m━━━━━━━━━━━━━━━━━━━━\u001b[0m\u001b[37m\u001b[0m \u001b[1m3s\u001b[0m 6ms/step - accuracy: 1.0000 - loss: 6.4988e-06 - val_accuracy: 0.9340 - val_loss: 0.7168\n",
            "Epoch 29/30\n",
            "\u001b[1m352/352\u001b[0m \u001b[32m━━━━━━━━━━━━━━━━━━━━\u001b[0m\u001b[37m\u001b[0m \u001b[1m2s\u001b[0m 6ms/step - accuracy: 1.0000 - loss: 6.6277e-06 - val_accuracy: 0.9344 - val_loss: 0.7179\n",
            "Epoch 30/30\n",
            "\u001b[1m352/352\u001b[0m \u001b[32m━━━━━━━━━━━━━━━━━━━━\u001b[0m\u001b[37m\u001b[0m \u001b[1m3s\u001b[0m 6ms/step - accuracy: 1.0000 - loss: 6.0999e-06 - val_accuracy: 0.9348 - val_loss: 0.7185\n"
          ]
        }
      ]
    },
    {
      "cell_type": "markdown",
      "metadata": {
        "id": "ieqTwwWuQ6UX"
      },
      "source": [
        "---\n",
        "Plot and examine the training graphs, compare the training and evaluation errors. Run the code."
      ]
    },
    {
      "cell_type": "markdown",
      "source": [],
      "metadata": {
        "id": "8W2PzlnMT-iu"
      }
    },
    {
      "cell_type": "code",
      "metadata": {
        "id": "LlWg9PXNQ8_F",
        "outputId": "97a19688-6cc1-498c-9267-44e8c5d68630",
        "colab": {
          "base_uri": "https://localhost:8080/",
          "height": 263
        }
      },
      "source": [
        "def plot_training_history(training_info):\n",
        "  # Plot the training process:\n",
        "  fig, axs = plt.subplots(1, 2, figsize=(16, 5))\n",
        "  axs[0].plot(training_info.history['loss'], label=\"training set\")\n",
        "  axs[0].plot(training_info.history['val_loss'], label=\"validation set\")\n",
        "  axs[0].set_xlabel(\"Epoch\")\n",
        "  axs[0].set_ylabel(\"Loss\")\n",
        "  axs[0].grid(True)\n",
        "  axs[0].legend()\n",
        "  try:\n",
        "    axs[1].plot(training_info.history['accuracy'], label=\"training set\")\n",
        "    axs[1].plot(training_info.history['val_accuracy'], label=\"validation set\")\n",
        "    axs[1].set_xlabel(\"Epoch\")\n",
        "    axs[1].set_ylabel(\"Accuracy\")\n",
        "    axs[1].grid(True)\n",
        "    axs[1].legend()\n",
        "  except:\n",
        "    pass\n",
        "  plt.show()\n",
        "\n",
        "plot_training_history(training_info)"
      ],
      "execution_count": 48,
      "outputs": [
        {
          "output_type": "display_data",
          "data": {
            "text/plain": [
              "<Figure size 1600x500 with 2 Axes>"
            ],
            "image/png": "[encoded data removed]"
          },
          "metadata": {}
        }
      ]
    },
    {
      "cell_type": "markdown",
      "source": [
        "(g) Does the process exhibit overfitting or underfitting? Is the performance of the classifier good? Is 30 epochs a reasonable choice? Should the number of epochs be increased or decreased?"
      ],
      "metadata": {
        "id": "FC3BOOyYwnYr"
      }
    },
    {
      "cell_type": "code",
      "source": [
        "#(g)\n",
        "#overfitting\n",
        "#epochs should be decreased (keras.callback), validation set should approximately have 50% of each output"
      ],
      "metadata": {
        "id": "SfJ3H_LKxKKc"
      },
      "execution_count": 44,
      "outputs": []
    },
    {
      "cell_type": "markdown",
      "source": [
        "The follow applies TF-IDF transform to the term counts and repeats the model training experiment"
      ],
      "metadata": {
        "id": "NdiKdTrGHfkn"
      }
    },
    {
      "cell_type": "code",
      "source": [
        "from sklearn.feature_extraction.text import TfidfTransformer\n",
        "tfidf_transformer = TfidfTransformer().fit(Xtrain)\n",
        "Xtrain_tfidf = tfidf_transformer.transform(Xtrain).toarray()\n",
        "\n",
        "model_tfidf = build_model()\n",
        "training_info = model_tfidf.fit(Xtrain_tfidf, ytrain, epochs=30, batch_size=64, validation_split=0.10)\n",
        "plot_training_history(training_info)"
      ],
      "metadata": {
        "id": "t1oDKoDiywJQ",
        "outputId": "9da41c27-c774-429a-e6bd-7b18504d0a5c",
        "colab": {
          "base_uri": "https://localhost:8080/",
          "height": 1000
        }
      },
      "execution_count": 45,
      "outputs": [
        {
          "output_type": "stream",
          "name": "stderr",
          "text": [
            "/usr/local/lib/python3.11/dist-packages/keras/src/layers/core/dense.py:87: UserWarning: Do not pass an `input_shape`/`input_dim` argument to a layer. When using Sequential models, prefer using an `Input(shape)` object as the first layer in the model instead.\n",
            "  super().__init__(activity_regularizer=activity_regularizer, **kwargs)\n"
          ]
        },
        {
          "output_type": "stream",
          "name": "stdout",
          "text": [
            "Epoch 1/30\n",
            "\u001b[1m352/352\u001b[0m \u001b[32m━━━━━━━━━━━━━━━━━━━━\u001b[0m\u001b[37m\u001b[0m \u001b[1m3s\u001b[0m 7ms/step - accuracy: 0.5128 - loss: 0.7033 - val_accuracy: 0.5124 - val_loss: 0.6889\n",
            "Epoch 2/30\n",
            "\u001b[1m352/352\u001b[0m \u001b[32m━━━━━━━━━━━━━━━━━━━━\u001b[0m\u001b[37m\u001b[0m \u001b[1m2s\u001b[0m 6ms/step - accuracy: 0.5783 - loss: 0.6878 - val_accuracy: 0.7496 - val_loss: 0.6812\n",
            "Epoch 3/30\n",
            "\u001b[1m352/352\u001b[0m \u001b[32m━━━━━━━━━━━━━━━━━━━━\u001b[0m\u001b[37m\u001b[0m \u001b[1m2s\u001b[0m 6ms/step - accuracy: 0.6917 - loss: 0.6770 - val_accuracy: 0.6024 - val_loss: 0.6622\n",
            "Epoch 4/30\n",
            "\u001b[1m352/352\u001b[0m \u001b[32m━━━━━━━━━━━━━━━━━━━━\u001b[0m\u001b[37m\u001b[0m \u001b[1m3s\u001b[0m 6ms/step - accuracy: 0.7503 - loss: 0.6513 - val_accuracy: 0.7532 - val_loss: 0.6155\n",
            "Epoch 5/30\n",
            "\u001b[1m352/352\u001b[0m \u001b[32m━━━━━━━━━━━━━━━━━━━━\u001b[0m\u001b[37m\u001b[0m \u001b[1m3s\u001b[0m 8ms/step - accuracy: 0.7931 - loss: 0.5904 - val_accuracy: 0.8224 - val_loss: 0.5195\n",
            "Epoch 6/30\n",
            "\u001b[1m352/352\u001b[0m \u001b[32m━━━━━━━━━━━━━━━━━━━━\u001b[0m\u001b[37m\u001b[0m \u001b[1m4s\u001b[0m 5ms/step - accuracy: 0.8344 - loss: 0.4841 - val_accuracy: 0.8532 - val_loss: 0.4093\n",
            "Epoch 7/30\n",
            "\u001b[1m352/352\u001b[0m \u001b[32m━━━━━━━━━━━━━━━━━━━━\u001b[0m\u001b[37m\u001b[0m \u001b[1m2s\u001b[0m 5ms/step - accuracy: 0.8683 - loss: 0.3729 - val_accuracy: 0.8692 - val_loss: 0.3382\n",
            "Epoch 8/30\n",
            "\u001b[1m352/352\u001b[0m \u001b[32m━━━━━━━━━━━━━━━━━━━━\u001b[0m\u001b[37m\u001b[0m \u001b[1m3s\u001b[0m 6ms/step - accuracy: 0.8871 - loss: 0.3004 - val_accuracy: 0.8784 - val_loss: 0.3034\n",
            "Epoch 9/30\n",
            "\u001b[1m352/352\u001b[0m \u001b[32m━━━━━━━━━━━━━━━━━━━━\u001b[0m\u001b[37m\u001b[0m \u001b[1m3s\u001b[0m 8ms/step - accuracy: 0.9008 - loss: 0.2632 - val_accuracy: 0.8800 - val_loss: 0.2880\n",
            "Epoch 10/30\n",
            "\u001b[1m352/352\u001b[0m \u001b[32m━━━━━━━━━━━━━━━━━━━━\u001b[0m\u001b[37m\u001b[0m \u001b[1m4s\u001b[0m 6ms/step - accuracy: 0.9104 - loss: 0.2395 - val_accuracy: 0.8876 - val_loss: 0.2776\n",
            "Epoch 11/30\n",
            "\u001b[1m352/352\u001b[0m \u001b[32m━━━━━━━━━━━━━━━━━━━━\u001b[0m\u001b[37m\u001b[0m \u001b[1m3s\u001b[0m 6ms/step - accuracy: 0.9176 - loss: 0.2171 - val_accuracy: 0.8900 - val_loss: 0.2681\n",
            "Epoch 12/30\n",
            "\u001b[1m352/352\u001b[0m \u001b[32m━━━━━━━━━━━━━━━━━━━━\u001b[0m\u001b[37m\u001b[0m \u001b[1m2s\u001b[0m 6ms/step - accuracy: 0.9279 - loss: 0.2005 - val_accuracy: 0.8936 - val_loss: 0.2649\n",
            "Epoch 13/30\n",
            "\u001b[1m352/352\u001b[0m \u001b[32m━━━━━━━━━━━━━━━━━━━━\u001b[0m\u001b[37m\u001b[0m \u001b[1m3s\u001b[0m 7ms/step - accuracy: 0.9325 - loss: 0.1912 - val_accuracy: 0.8944 - val_loss: 0.2641\n",
            "Epoch 14/30\n",
            "\u001b[1m352/352\u001b[0m \u001b[32m━━━━━━━━━━━━━━━━━━━━\u001b[0m\u001b[37m\u001b[0m \u001b[1m2s\u001b[0m 7ms/step - accuracy: 0.9386 - loss: 0.1720 - val_accuracy: 0.8960 - val_loss: 0.2620\n",
            "Epoch 15/30\n",
            "\u001b[1m352/352\u001b[0m \u001b[32m━━━━━━━━━━━━━━━━━━━━\u001b[0m\u001b[37m\u001b[0m \u001b[1m2s\u001b[0m 6ms/step - accuracy: 0.9420 - loss: 0.1672 - val_accuracy: 0.8980 - val_loss: 0.2628\n",
            "Epoch 16/30\n",
            "\u001b[1m352/352\u001b[0m \u001b[32m━━━━━━━━━━━━━━━━━━━━\u001b[0m\u001b[37m\u001b[0m \u001b[1m2s\u001b[0m 5ms/step - accuracy: 0.9453 - loss: 0.1566 - val_accuracy: 0.8976 - val_loss: 0.2649\n",
            "Epoch 17/30\n",
            "\u001b[1m352/352\u001b[0m \u001b[32m━━━━━━━━━━━━━━━━━━━━\u001b[0m\u001b[37m\u001b[0m \u001b[1m3s\u001b[0m 6ms/step - accuracy: 0.9489 - loss: 0.1475 - val_accuracy: 0.8976 - val_loss: 0.2672\n",
            "Epoch 18/30\n",
            "\u001b[1m352/352\u001b[0m \u001b[32m━━━━━━━━━━━━━━━━━━━━\u001b[0m\u001b[37m\u001b[0m \u001b[1m3s\u001b[0m 7ms/step - accuracy: 0.9518 - loss: 0.1399 - val_accuracy: 0.8980 - val_loss: 0.2731\n",
            "Epoch 19/30\n",
            "\u001b[1m352/352\u001b[0m \u001b[32m━━━━━━━━━━━━━━━━━━━━\u001b[0m\u001b[37m\u001b[0m \u001b[1m3s\u001b[0m 7ms/step - accuracy: 0.9534 - loss: 0.1381 - val_accuracy: 0.8984 - val_loss: 0.2754\n",
            "Epoch 20/30\n",
            "\u001b[1m352/352\u001b[0m \u001b[32m━━━━━━━━━━━━━━━━━━━━\u001b[0m\u001b[37m\u001b[0m \u001b[1m2s\u001b[0m 6ms/step - accuracy: 0.9582 - loss: 0.1267 - val_accuracy: 0.8980 - val_loss: 0.2793\n",
            "Epoch 21/30\n",
            "\u001b[1m352/352\u001b[0m \u001b[32m━━━━━━━━━━━━━━━━━━━━\u001b[0m\u001b[37m\u001b[0m \u001b[1m2s\u001b[0m 6ms/step - accuracy: 0.9595 - loss: 0.1261 - val_accuracy: 0.8956 - val_loss: 0.2856\n",
            "Epoch 22/30\n",
            "\u001b[1m352/352\u001b[0m \u001b[32m━━━━━━━━━━━━━━━━━━━━\u001b[0m\u001b[37m\u001b[0m \u001b[1m3s\u001b[0m 6ms/step - accuracy: 0.9602 - loss: 0.1216 - val_accuracy: 0.8972 - val_loss: 0.2915\n",
            "Epoch 23/30\n",
            "\u001b[1m352/352\u001b[0m \u001b[32m━━━━━━━━━━━━━━━━━━━━\u001b[0m\u001b[37m\u001b[0m \u001b[1m3s\u001b[0m 6ms/step - accuracy: 0.9647 - loss: 0.1122 - val_accuracy: 0.8924 - val_loss: 0.2977\n",
            "Epoch 24/30\n",
            "\u001b[1m352/352\u001b[0m \u001b[32m━━━━━━━━━━━━━━━━━━━━\u001b[0m\u001b[37m\u001b[0m \u001b[1m3s\u001b[0m 8ms/step - accuracy: 0.9672 - loss: 0.1083 - val_accuracy: 0.8952 - val_loss: 0.2998\n",
            "Epoch 25/30\n",
            "\u001b[1m352/352\u001b[0m \u001b[32m━━━━━━━━━━━━━━━━━━━━\u001b[0m\u001b[37m\u001b[0m \u001b[1m4s\u001b[0m 6ms/step - accuracy: 0.9673 - loss: 0.1050 - val_accuracy: 0.8948 - val_loss: 0.3065\n",
            "Epoch 26/30\n",
            "\u001b[1m352/352\u001b[0m \u001b[32m━━━━━━━━━━━━━━━━━━━━\u001b[0m\u001b[37m\u001b[0m \u001b[1m3s\u001b[0m 6ms/step - accuracy: 0.9695 - loss: 0.1034 - val_accuracy: 0.8932 - val_loss: 0.3125\n",
            "Epoch 27/30\n",
            "\u001b[1m352/352\u001b[0m \u001b[32m━━━━━━━━━━━━━━━━━━━━\u001b[0m\u001b[37m\u001b[0m \u001b[1m2s\u001b[0m 6ms/step - accuracy: 0.9708 - loss: 0.0976 - val_accuracy: 0.8928 - val_loss: 0.3216\n",
            "Epoch 28/30\n",
            "\u001b[1m352/352\u001b[0m \u001b[32m━━━━━━━━━━━━━━━━━━━━\u001b[0m\u001b[37m\u001b[0m \u001b[1m3s\u001b[0m 8ms/step - accuracy: 0.9710 - loss: 0.0943 - val_accuracy: 0.8892 - val_loss: 0.3262\n",
            "Epoch 29/30\n",
            "\u001b[1m352/352\u001b[0m \u001b[32m━━━━━━━━━━━━━━━━━━━━\u001b[0m\u001b[37m\u001b[0m \u001b[1m2s\u001b[0m 6ms/step - accuracy: 0.9736 - loss: 0.0893 - val_accuracy: 0.8876 - val_loss: 0.3328\n",
            "Epoch 30/30\n",
            "\u001b[1m352/352\u001b[0m \u001b[32m━━━━━━━━━━━━━━━━━━━━\u001b[0m\u001b[37m\u001b[0m \u001b[1m2s\u001b[0m 6ms/step - accuracy: 0.9738 - loss: 0.0891 - val_accuracy: 0.8864 - val_loss: 0.3414\n"
          ]
        },
        {
          "output_type": "display_data",
          "data": {
            "text/plain": [
              "<Figure size 1600x500 with 2 Axes>"
            ],
            "image/png": "[encoded data removed]"
          },
          "metadata": {}
        }
      ]
    },
    {
      "cell_type": "markdown",
      "source": [
        "---\n",
        "(h) Does the TF-IDF transform improve the model performance with current choice of parameters? Can you think of possible reasons?"
      ],
      "metadata": {
        "id": "Jp5BST7iINS6"
      }
    },
    {
      "cell_type": "code",
      "source": [
        "#(h)\n",
        "#yes\n",
        "#normalisation\n",
        "#on the other hand the emotional valence of the reviews might actually be tied to the relative frequency of specific words compared to others"
      ],
      "metadata": {
        "id": "rFnwGG1uIceH"
      },
      "execution_count": 50,
      "outputs": []
    },
    {
      "cell_type": "markdown",
      "metadata": {
        "id": "sMmYJkNaTSHN"
      },
      "source": [
        "---\n",
        "(i) Estimate the generalisation performance of the two models on the test set (use the [`model.evaluate` method](https://keras.io/api/models/model_training_apis/#evaluate-method)). How does the test accuracy compare to those on the validation set? Why?"
      ]
    },
    {
      "cell_type": "code",
      "metadata": {
        "id": "Oiddz_GTTVKD",
        "outputId": "6a02ddfb-0ec9-40ef-8bbb-6c6ea4083848",
        "colab": {
          "base_uri": "https://localhost:8080/"
        }
      },
      "source": [
        "#(i)\n",
        "#ANSWER\n",
        "models_data = {\"Initial model\": (model, Xtest), \"TF-IDF model\": (model_tfidf, tfidf_transformer.transform(Xtest).toarray())}\n",
        "for this_label, (this_model, this_Xtest) in models_data.items():\n",
        "  test_loss, test_accuracy = this_model.evaluate(this_Xtest, ytest, verbose=0)\n",
        "  print(this_label,)\n",
        "  print(\"Test loss:\", test_loss)\n",
        "  print(\"Test accuracy:\", test_accuracy)\n",
        "  print(\"-----------------------------------------\")"
      ],
      "execution_count": 51,
      "outputs": [
        {
          "output_type": "stream",
          "name": "stdout",
          "text": [
            "Initial model\n",
            "Test loss: 1.5375646352767944\n",
            "Test accuracy: 0.8504400253295898\n",
            "-----------------------------------------\n",
            "TF-IDF model\n",
            "Test loss: 0.36926108598709106\n",
            "Test accuracy: 0.8704000115394592\n",
            "-----------------------------------------\n"
          ]
        }
      ]
    },
    {
      "cell_type": "markdown",
      "source": [
        "---\n",
        "(j) Inspect the predictions of the first model on the first 10 documents in the test set (use the model.predict method). Also convert the test documents to human-readable format as before. Do the predictions seem sensible?"
      ],
      "metadata": {
        "id": "CxoMupXYQPFh"
      }
    },
    {
      "cell_type": "code",
      "source": [
        "#(j)\n",
        "#ANSWER\n",
        "print(model.predict(Xtest[:10]))\n",
        "\n",
        "for document in Xtest_seq[:10]:\n",
        "  print()\n",
        "  for term_index in document:\n",
        "    term = index_to_term[term_index]\n",
        "    print(term, end=\" \")"
      ],
      "metadata": {
        "id": "7t_ZT42lQ-Ss",
        "outputId": "c41984a1-b4d6-4821-e1f1-c5de84fde1d2",
        "colab": {
          "base_uri": "https://localhost:8080/"
        }
      },
      "execution_count": 52,
      "outputs": [
        {
          "output_type": "stream",
          "name": "stdout",
          "text": [
            "\u001b[1m1/1\u001b[0m \u001b[32m━━━━━━━━━━━━━━━━━━━━\u001b[0m\u001b[37m\u001b[0m \u001b[1m0s\u001b[0m 121ms/step\n",
            "[[5.0499645e-04]\n",
            " [1.0000000e+00]\n",
            " [9.9950141e-01]\n",
            " [9.9999905e-01]\n",
            " [1.0000000e+00]\n",
            " [1.0000000e+00]\n",
            " [9.9999809e-01]\n",
            " [2.2762385e-09]\n",
            " [1.0000000e+00]\n",
            " [1.0000000e+00]]\n",
            "\n",
            "START please give this one a miss br br OOV OOV and the rest of the cast rendered terrible performances the show is flat flat flat br br i don't know how michael madison could have allowed this one on his plate he almost seemed to know this wasn't going to work out and his performance was quite OOV so all you madison fans give this a miss \n",
            "START this film requires a lot of patience because it focuses on mood and character development the plot is very simple and many of the scenes take place on the same set in frances OOV the sandy dennis character apartment but the film builds to a disturbing climax br br the characters create an atmosphere OOV with sexual tension and psychological OOV it's very interesting that robert altman directed this considering the style and structure of his other films still the trademark altman audio style is evident here and there i think what really makes this film work is the brilliant performance by sandy dennis it's definitely one of her darker characters but she plays it so perfectly and convincingly that it's scary michael burns does a good job as the mute young man regular altman player michael murphy has a small part the OOV moody set fits the content of the story very well in short this movie is a powerful study of loneliness sexual OOV and desperation be patient OOV up the atmosphere and pay attention to the wonderfully written script br br i praise robert altman this is one of his many films that deals with unconventional fascinating subject matter this film is disturbing but it's sincere and it's sure to OOV a strong emotional response from the viewer if you want to see an unusual film some might even say bizarre this is worth the time br br unfortunately it's very difficult to find in video stores you may have to buy it off the internet \n",
            "START many animation buffs consider OOV OOV the great forgotten genius of one special branch of the art puppet animation which he invented almost single OOV and as it happened almost accidentally as a young man OOV was more interested in OOV than the cinema but his OOV attempt to film two OOV OOV fighting led to an unexpected breakthrough in film making when he realized he could OOV movement by OOV beetle OOV and OOV them one frame at a time this discovery led to the production of amazingly elaborate classic short the OOV revenge which he made in russia in OOV at a time when motion picture animation of all sorts was in its OOV br br the political OOV of the russian revolution caused OOV to move to paris where one of his first productions OOV was a dark political satire OOV known as OOV or the OOV who wanted a king a strain of black comedy can be found in almost all of films but here it is very dark indeed aimed more at grown ups who can appreciate the satirical aspects than children who would most likely find the climax OOV i'm middle aged and found it pretty OOV myself and indeed OOV of the film intended for english speaking viewers of the 1920s were given title cards filled with OOV and OOV in order to help OOV the sharp OOV of the finale br br our tale is set in a swamp the OOV OOV where the citizens are unhappy with their government and have called a special session to see what they can do to improve matters they decide to OOV OOV for a king the crowds are OOV animated in this opening sequence it couldn't have been easy to make so many frog puppets look alive simultaneously while OOV for his part is depicted as a OOV white OOV guy in the clouds who looks like he'd rather be taking a OOV when OOV sends them a tree like god who regards them the OOV decide that this is no improvement and demand a different king irritated OOV sends them a OOV br br delighted with this OOV looking new king who towers above them the OOV welcome him with a OOV of OOV dressed OOV the mayor steps forward to hand him the key to the OOV as OOV cameras record the event to everyone's horror the OOV promptly eats the mayor and then goes on a merry rampage OOV citizens at random a title card OOV reads news of the king's OOV throughout the kingdom when the now terrified OOV once more OOV OOV for help he loses his temper and OOV their community with lightning OOV the moral of our story delivered by a hapless frog just before he is eaten is let well enough alone br br considering the time period when this startling little film was made and considering the fact that it was made by a russian OOV at the height of that OOV country's civil war it would be easy to see this as a OOV about those events OOV may or may not have had OOV turmoil in mind when he made OOV but whatever OOV his choice of material the film stands as a OOV tale of universal OOV OOV could be the soviet union italy germany or japan in the 1930s or any country of any era that lets its guard down and is overwhelmed by OOV it's a fascinating film even a charming one in its macabre way but its message is no joke \n",
            "START i generally love this type of movie however this time i found myself wanting to kick the screen since i can't do that i will just complain about it this was absolutely idiotic the things that happen with the dead kids are very cool but the alive people are absolute idiots i am a grown man pretty big and i can defend myself well however i would not do half the stuff the little girl does in this movie also the mother in this movie is reckless with her children to the point of neglect i wish i wasn't so angry about her and her actions because i would have otherwise enjoyed the flick what a number she was take my advise and fast forward through everything you see her do until the end also is anyone else getting sick of watching movies that are filmed so dark anymore one can hardly see what is being filmed as an audience we are OOV involved with the actions on the screen so then why the hell can't we have night vision \n",
            "START like some other people wrote i'm a die hard mario fan and i loved this game br br this game starts slightly boring but trust me it's worth it as soon as you start your hooked the levels are fun and OOV they will hook you OOV your mind turns to OOV i'm not kidding this game is also OOV and is beautifully done br br to keep this spoiler free i have to keep my mouth shut about details but please try this game it'll be worth it br br story 9 9 action 10 1 it's that good OOV 10 attention OOV 10 average 10 \n",
            "START i'm absolutely disgusted this movie isn't being sold all who love this movie should email disney and increase the demand for it they'd eventually have to sell it then i'd buy copies for everybody i know everything and everybody in this movie did a good job and i haven't figured out why disney hasn't put this movie on dvd or on vhs in rental stores at least i haven't seen any copies this is a wicked good movie and should be seen by all the kids in the new generation don't get to see it and i think they should it should at least be put back on the channel this movie doesn't deserve a cheap OOV it deserves the real thing i'm them now this movie will be on dvd \n",
            "START originally supposed to be just a part of a huge epic the year OOV depicting the revolution of OOV OOV is the story of the OOV of the crew of the OOV in OOV harbor the film opens with the crew OOV meat and the captain OOV the execution of the an OOV takes place during which the revolutionary leader is killed this OOV is taken to the shore to lie in state when the OOV gather on a huge flight of steps OOV the harbor OOV troops appear and march down the steps breaking up the crowd a naval OOV is sent to OOV the OOV but at the moment when the ships come into range their OOV allow the to pass through OOV non historically accurate ending is open ended thus OOV that this was the seed of the later OOV revolution that would bloom in russia the film is broken into five parts men and OOV drama on the an appeal from the dead the OOV steps and meeting the OOV br br OOV was a revolutionary artist but at the genius level not wanting to make a historical drama OOV used visual OOV to give the film a OOV look so that the viewer feels he is OOV on a thrilling and politically revolutionary story this technique is used by the battle of OOV br br unlike OOV relied on or the casting of non professionals who had striking physical appearances the extraordinary faces of the cast are what one remembers from OOV this technique is later used by frank OOV in mr deeds goes to town and meet john OOV but in OOV no one individual is cast as a hero or heroine the story is told through a series of scenes that are combined in a special effect known as montage the editing and selection of short segments to produce a desired effect on the viewer d w griffith also used the montage but no one OOV it so well as OOV br br the artistic filming of the crew sleeping in their is OOV by the OOV swinging of tables suspended from chains in the OOV in contrast the confrontation between the crew and their officers is charged with electricity and the OOV OOV of the masses demonstrate their rage with injustice br br OOV introduced the technique of showing an action and repeating it again but from a slightly different angle to demonstrate intensity the breaking of a plate bearing the words give us this day our daily bread OOV the beginning of the end this technique is used in last year at OOV also when the OOV surgeon is tossed over the side his OOV OOV from the OOV it was these glasses that the officer used to OOV and pass the OOV OOV meat this sequence ties the punishment to the corruption of the OOV era br br the most noted sequence in the film and perhaps in all of film history is the OOV steps the broad OOV of the steps are filled with hundreds of extras rapid and dramatic violence is always suggested and not explicit yet the visual images of the deaths of a few will last in the minds of the viewer forever br br the OOV shots of OOV boots and legs OOV the steps are cleverly OOV with long menacing shadows from a sun at the top of the steps the pace of the sequence is deliberately varied between the OOV soldiers and a few civilians who OOV up courage to beg them to stop a close up of a woman's face frozen in horror after being struck by a OOV sword is the direct OOV of the bank OOV in bonnie in clyde and gives a lasting impression of the horror of the OOV regime br br the death of a young mother leads to a baby OOV OOV down the steps in a sequence that has been copied by hitchcock in foreign OOV by terry gilliam in brazil and brian OOV in the OOV this sequence is shown repeatedly from various angles thus drawing out what probably was only a five second event br br OOV is a film that the revolutionary spirit OOV it for those already committed and it for the OOV it OOV of fire and OOV with the senseless OOV of the OOV OOV regime its greatest impact has been on film students who have borrowed and only slightly improved on techniques invented in russia several generations ago \n",
            "START the OOV richard OOV dog is OOV to OOV joan fontaine dog however when OOV bing crosby arrives in town to sell a record player to the emperor his dog is attacked by OOV dog after a revenge attack where OOV is OOV from town a OOV insists that OOV dog must confront dog so that she can overcome her OOV fears this is arranged and the dogs fall in love so do OOV and OOV the rest of the film passes by with romance and at the end OOV dog gives birth but who is the father br br the dog story is the very weak vehicle that is used to try and create a story between humans its a terrible storyline there are 3 main musical pieces all of which are rubbish bad songs and dreadful choreography its just an extremely boring film bing has too many words in each sentence and delivers them in an almost irritating manner its not funny ever but its meant to be bing and joan have done much better than this \n",
            "START hollywood had a long love affair with bogus OOV nights tales but few of these products have stood the test of time the most memorable were the jon hall maria OOV films which have long since become camp this one is filled with dubbed songs OOV OOV and slapstick it's a truly crop of corn and pretty near OOV today it was nominated for its imaginative special effects which are almost OOV in this day and age OOV mainly of trick photography the only outstanding positive feature which survives is its beautiful color and clarity sad to say of the many films made in this genre few of them come up to alexander OOV original thief of OOV almost any other OOV nights film is superior to this one though it's a loser \n",
            "START this film is where the batman franchise ought to have stopped though i will OOV that the ideas behind batman forever were excellent and could have been easily realised by a competent director as it turned out this was not to be the case br br apparently warner brothers executives were disappointed with how dark this second batman film from tim burton turned out apart from the idiocy of expecting anything else from burton and the conservative OOV of their subsequent decision to turn the franchise into an homage to the sixties tv series i fail to understand how batman returns can be considered at all disappointing br br true it is not quite the equal of the first film though it OOV all the minor OOV of style found in batman a weaker script that OOV the OOV between not just two but three characters invites OOV comparisons to the masterful pairing of keaton and jack nicholson as the joker in the first film yet for all this it remains a OOV dark film true to the way the batman was always meant to be and highly satisfying br br michael keaton returns as the batman and his alter ego bruce wayne with OOV max OOV christopher walken named in honour of the 1920s german silent actor his partner in crime OOV OOV the penguin danny OOV in brilliant makeup reminiscent of laurence OOV richard iii and OOV kyle the OOV michelle pfeiffer whom wayne romances both as himself and as the batman the four principals turn in excellent performances especially walken and OOV while together keaton and pfeiffer explore the darker side of double identities br br there are some intriguing concepts in this film about the only weakness i can really point out is a certain to the script in some places which i think is due mostly to the way this film is a four OOV fight there simply isn't enough time to properly explore what's going on br br nevertheless this is a damn good film i highly recommend watching this in OOV with the first and then OOV for how good the series could have been had it continued under burton and keaton "
          ]
        }
      ]
    },
    {
      "cell_type": "markdown",
      "metadata": {
        "id": "kwo-IoP4YEz2"
      },
      "source": [
        "---\n",
        "(k) **Optional:** Experiment with the problem to try to improve performance, e.g. by changing the the structure of the network: size, number of layers, optimizer, learning rate, number of epochs.\n"
      ]
    }
  ]
}